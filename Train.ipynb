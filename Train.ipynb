{
 "cells": [
  {
   "cell_type": "code",
   "execution_count": 1,
   "metadata": {},
   "outputs": [],
   "source": [
    "import numpy as np\n",
    "import pandas as pd\n",
    "import matplotlib.pyplot as plt\n",
    "import seaborn as sns\n",
    "import warnings\n",
    "warnings.filterwarnings('ignore')\n",
    "\n",
    "%matplotlib inline\n",
    "\n",
    "import time\n",
    "from collections import Counter\n",
    "from sklearn.preprocessing import LabelEncoder\n",
    "from sklearn.model_selection import train_test_split, RandomizedSearchCV, GridSearchCV, StratifiedKFold, StratifiedShuffleSplit, cross_val_score\n",
    "\n",
    "from sklearn.metrics import confusion_matrix, classification_report, precision_score, recall_score, f1_score, precision_recall_curve\n",
    "from sklearn.preprocessing import StandardScaler\n",
    "\n",
    "\n",
    "from scipy import stats\n",
    "from scipy.stats import norm, skew #for some statistics"
   ]
  },
  {
   "cell_type": "code",
   "execution_count": 2,
   "metadata": {},
   "outputs": [],
   "source": [
    "train_data = pd.read_csv('C:\\\\Users\\\\USER\\\\Desktop\\\\KAGGLE DATASETS\\\\Developing Staff Promotion Algorithm\\\\train.csv')\n",
    "test_data = pd.read_csv('C:\\\\Users\\\\USER\\\\Desktop\\\\KAGGLE DATASETS\\\\Developing Staff Promotion Algorithm\\\\test.csv')"
   ]
  },
  {
   "cell_type": "code",
   "execution_count": 3,
   "metadata": {},
   "outputs": [
    {
     "data": {
      "text/plain": [
       "(38312, 19)"
      ]
     },
     "execution_count": 3,
     "metadata": {},
     "output_type": "execute_result"
    }
   ],
   "source": [
    "train_data.shape"
   ]
  },
  {
   "cell_type": "code",
   "execution_count": 4,
   "metadata": {},
   "outputs": [
    {
     "data": {
      "text/plain": [
       "(16496, 18)"
      ]
     },
     "execution_count": 4,
     "metadata": {},
     "output_type": "execute_result"
    }
   ],
   "source": [
    "test_data.shape"
   ]
  },
  {
   "cell_type": "code",
   "execution_count": 5,
   "metadata": {},
   "outputs": [],
   "source": [
    "#train_data.isnull().sum()"
   ]
  },
  {
   "cell_type": "code",
   "execution_count": 6,
   "metadata": {},
   "outputs": [],
   "source": [
    "#test_data.isnull().sum()"
   ]
  },
  {
   "cell_type": "code",
   "execution_count": 7,
   "metadata": {},
   "outputs": [
    {
     "data": {
      "text/plain": [
       "EmployeeNo                             38312\n",
       "Division                                   9\n",
       "Qualification                              3\n",
       "Gender                                     2\n",
       "Channel_of_Recruitment                     3\n",
       "Trainings_Attended                        10\n",
       "Year_of_birth                             49\n",
       "Last_performance_score                     6\n",
       "Year_of_recruitment                       35\n",
       "Targets_met                                2\n",
       "Previous_Award                             2\n",
       "Training_score_average                    61\n",
       "State_Of_Origin                           37\n",
       "Foreign_schooled                           2\n",
       "Marital_Status                             3\n",
       "Past_Disciplinary_Action                   2\n",
       "Previous_IntraDepartmental_Movement        2\n",
       "No_of_previous_employers                   7\n",
       "Promoted_or_Not                            2\n",
       "dtype: int64"
      ]
     },
     "execution_count": 7,
     "metadata": {},
     "output_type": "execute_result"
    }
   ],
   "source": [
    "train_data.nunique()"
   ]
  },
  {
   "cell_type": "code",
   "execution_count": 8,
   "metadata": {},
   "outputs": [
    {
     "data": {
      "text/html": [
       "<div>\n",
       "<style scoped>\n",
       "    .dataframe tbody tr th:only-of-type {\n",
       "        vertical-align: middle;\n",
       "    }\n",
       "\n",
       "    .dataframe tbody tr th {\n",
       "        vertical-align: top;\n",
       "    }\n",
       "\n",
       "    .dataframe thead th {\n",
       "        text-align: right;\n",
       "    }\n",
       "</style>\n",
       "<table border=\"1\" class=\"dataframe\">\n",
       "  <thead>\n",
       "    <tr style=\"text-align: right;\">\n",
       "      <th></th>\n",
       "      <th>EmployeeNo</th>\n",
       "      <th>Division</th>\n",
       "      <th>Qualification</th>\n",
       "      <th>Gender</th>\n",
       "      <th>Channel_of_Recruitment</th>\n",
       "      <th>Trainings_Attended</th>\n",
       "      <th>Year_of_birth</th>\n",
       "      <th>Last_performance_score</th>\n",
       "      <th>Year_of_recruitment</th>\n",
       "      <th>Targets_met</th>\n",
       "      <th>Previous_Award</th>\n",
       "      <th>Training_score_average</th>\n",
       "      <th>State_Of_Origin</th>\n",
       "      <th>Foreign_schooled</th>\n",
       "      <th>Marital_Status</th>\n",
       "      <th>Past_Disciplinary_Action</th>\n",
       "      <th>Previous_IntraDepartmental_Movement</th>\n",
       "      <th>No_of_previous_employers</th>\n",
       "      <th>Promoted_or_Not</th>\n",
       "    </tr>\n",
       "  </thead>\n",
       "  <tbody>\n",
       "    <tr>\n",
       "      <th>0</th>\n",
       "      <td>YAK/S/00001</td>\n",
       "      <td>Commercial Sales and Marketing</td>\n",
       "      <td>MSc, MBA and PhD</td>\n",
       "      <td>Female</td>\n",
       "      <td>Direct Internal process</td>\n",
       "      <td>2</td>\n",
       "      <td>1986</td>\n",
       "      <td>12.5</td>\n",
       "      <td>2011</td>\n",
       "      <td>1</td>\n",
       "      <td>0</td>\n",
       "      <td>41</td>\n",
       "      <td>ANAMBRA</td>\n",
       "      <td>No</td>\n",
       "      <td>Married</td>\n",
       "      <td>No</td>\n",
       "      <td>No</td>\n",
       "      <td>0</td>\n",
       "      <td>0</td>\n",
       "    </tr>\n",
       "    <tr>\n",
       "      <th>1</th>\n",
       "      <td>YAK/S/00002</td>\n",
       "      <td>Customer Support and Field Operations</td>\n",
       "      <td>First Degree or HND</td>\n",
       "      <td>Male</td>\n",
       "      <td>Agency and others</td>\n",
       "      <td>2</td>\n",
       "      <td>1991</td>\n",
       "      <td>12.5</td>\n",
       "      <td>2015</td>\n",
       "      <td>0</td>\n",
       "      <td>0</td>\n",
       "      <td>52</td>\n",
       "      <td>ANAMBRA</td>\n",
       "      <td>Yes</td>\n",
       "      <td>Married</td>\n",
       "      <td>No</td>\n",
       "      <td>No</td>\n",
       "      <td>0</td>\n",
       "      <td>0</td>\n",
       "    </tr>\n",
       "    <tr>\n",
       "      <th>2</th>\n",
       "      <td>YAK/S/00003</td>\n",
       "      <td>Commercial Sales and Marketing</td>\n",
       "      <td>First Degree or HND</td>\n",
       "      <td>Male</td>\n",
       "      <td>Direct Internal process</td>\n",
       "      <td>2</td>\n",
       "      <td>1987</td>\n",
       "      <td>7.5</td>\n",
       "      <td>2012</td>\n",
       "      <td>0</td>\n",
       "      <td>0</td>\n",
       "      <td>42</td>\n",
       "      <td>KATSINA</td>\n",
       "      <td>Yes</td>\n",
       "      <td>Married</td>\n",
       "      <td>No</td>\n",
       "      <td>No</td>\n",
       "      <td>0</td>\n",
       "      <td>0</td>\n",
       "    </tr>\n",
       "  </tbody>\n",
       "</table>\n",
       "</div>"
      ],
      "text/plain": [
       "    EmployeeNo                               Division        Qualification  \\\n",
       "0  YAK/S/00001         Commercial Sales and Marketing     MSc, MBA and PhD   \n",
       "1  YAK/S/00002  Customer Support and Field Operations  First Degree or HND   \n",
       "2  YAK/S/00003         Commercial Sales and Marketing  First Degree or HND   \n",
       "\n",
       "   Gender   Channel_of_Recruitment  Trainings_Attended  Year_of_birth  \\\n",
       "0  Female  Direct Internal process                   2           1986   \n",
       "1    Male        Agency and others                   2           1991   \n",
       "2    Male  Direct Internal process                   2           1987   \n",
       "\n",
       "   Last_performance_score  Year_of_recruitment  Targets_met  Previous_Award  \\\n",
       "0                    12.5                 2011            1               0   \n",
       "1                    12.5                 2015            0               0   \n",
       "2                     7.5                 2012            0               0   \n",
       "\n",
       "   Training_score_average State_Of_Origin Foreign_schooled Marital_Status  \\\n",
       "0                      41         ANAMBRA               No        Married   \n",
       "1                      52         ANAMBRA              Yes        Married   \n",
       "2                      42         KATSINA              Yes        Married   \n",
       "\n",
       "  Past_Disciplinary_Action Previous_IntraDepartmental_Movement  \\\n",
       "0                       No                                  No   \n",
       "1                       No                                  No   \n",
       "2                       No                                  No   \n",
       "\n",
       "  No_of_previous_employers  Promoted_or_Not  \n",
       "0                        0                0  \n",
       "1                        0                0  \n",
       "2                        0                0  "
      ]
     },
     "execution_count": 8,
     "metadata": {},
     "output_type": "execute_result"
    }
   ],
   "source": [
    "train_data.head(3)"
   ]
  },
  {
   "cell_type": "code",
   "execution_count": 9,
   "metadata": {},
   "outputs": [
    {
     "data": {
      "text/plain": [
       "array([12.5,  7.5,  2.5, 10. ,  0. ,  5. ])"
      ]
     },
     "execution_count": 9,
     "metadata": {},
     "output_type": "execute_result"
    }
   ],
   "source": [
    "train_data['Last_performance_score'].unique()"
   ]
  },
  {
   "cell_type": "code",
   "execution_count": 10,
   "metadata": {},
   "outputs": [],
   "source": [
    "train_data['Qualification'] = train_data.groupby(['Division', 'Channel_of_Recruitment', 'Foreign_schooled', 'Last_performance_score'])['Qualification'].transform(lambda x: x.loc[x.first_valid_index()])\n",
    "test_data['Qualification'] = test_data.groupby(['Division', 'Channel_of_Recruitment', 'Foreign_schooled', 'Last_performance_score'])['Qualification'].transform(lambda x: x.loc[x.first_valid_index()])"
   ]
  },
  {
   "cell_type": "code",
   "execution_count": 11,
   "metadata": {},
   "outputs": [
    {
     "name": "stdout",
     "output_type": "stream",
     "text": [
      "0\n",
      "0\n"
     ]
    }
   ],
   "source": [
    "#train_data['Qualification'] = train_data['Qualification'].fillna(method='ffill')\n",
    "#test_data['Qualification'] = test_data['Qualification'].fillna(method='ffill')\n",
    "\n",
    "print(train_data.isnull().sum().max())\n",
    "print(test_data.isnull().sum().max())"
   ]
  },
  {
   "cell_type": "code",
   "execution_count": 12,
   "metadata": {},
   "outputs": [
    {
     "data": {
      "text/plain": [
       "0"
      ]
     },
     "execution_count": 12,
     "metadata": {},
     "output_type": "execute_result"
    }
   ],
   "source": [
    "train_data['Qualification'].isnull().sum()"
   ]
  },
  {
   "cell_type": "code",
   "execution_count": 13,
   "metadata": {},
   "outputs": [],
   "source": [
    "train_data['Past_Disciplinary_Action'] = train_data['Past_Disciplinary_Action'].map({'No':0, 'Yes':1})\n",
    "test_data['Past_Disciplinary_Action'] = test_data['Past_Disciplinary_Action'].map({'No':0, 'Yes':1})\n",
    "\n",
    "train_data['Foreign_schooled'] = train_data['Foreign_schooled'].map({'No':0, 'Yes':1})\n",
    "test_data['Foreign_schooled'] = test_data['Foreign_schooled'].map({'No':0, 'Yes':1})\n",
    "\n",
    "train_data['Previous_IntraDepartmental_Movement'] = train_data['Previous_IntraDepartmental_Movement'].map({'No':0, 'Yes':1})\n",
    "test_data['Previous_IntraDepartmental_Movement'] = test_data['Previous_IntraDepartmental_Movement'].map({'No':0, 'Yes':1})\n",
    "\n",
    "train_data['No_of_previous_employers'] = train_data['No_of_previous_employers'].replace({'More than 5' : 7})\n",
    "test_data['No_of_previous_employers'] = test_data['No_of_previous_employers'].replace({'More than 5' : 7})"
   ]
  },
  {
   "cell_type": "code",
   "execution_count": 14,
   "metadata": {},
   "outputs": [],
   "source": [
    "train_data['No_of_previous_employers'] = train_data['No_of_previous_employers'].astype(str)\n",
    "test_data['No_of_previous_employers'] = test_data['No_of_previous_employers'].astype(str)"
   ]
  },
  {
   "cell_type": "raw",
   "metadata": {},
   "source": []
  },
  {
   "cell_type": "code",
   "execution_count": 15,
   "metadata": {},
   "outputs": [
    {
     "data": {
      "text/plain": [
       "<matplotlib.axes._subplots.AxesSubplot at 0x28277bd1940>"
      ]
     },
     "execution_count": 15,
     "metadata": {},
     "output_type": "execute_result"
    },
    {
     "data": {
      "image/png": "[encoded data removed]",
      "text/plain": [
       "<Figure size 432x288 with 1 Axes>"
      ]
     },
     "metadata": {
      "needs_background": "light"
     },
     "output_type": "display_data"
    }
   ],
   "source": [
    "train_data['Training_score_average'].hist(bins=100)"
   ]
  },
  {
   "cell_type": "code",
   "execution_count": 16,
   "metadata": {},
   "outputs": [
    {
     "data": {
      "text/plain": [
       "<matplotlib.axes._subplots.AxesSubplot at 0x28277ccd390>"
      ]
     },
     "execution_count": 16,
     "metadata": {},
     "output_type": "execute_result"
    },
    {
     "data": {
      "image/png": "[encoded data removed]",
      "text/plain": [
       "<Figure size 432x288 with 1 Axes>"
      ]
     },
     "metadata": {
      "needs_background": "light"
     },
     "output_type": "display_data"
    }
   ],
   "source": [
    "sns.boxplot(x=train_data['Last_performance_score'])"
   ]
  },
  {
   "cell_type": "code",
   "execution_count": null,
   "metadata": {},
   "outputs": [],
   "source": []
  },
  {
   "cell_type": "code",
   "execution_count": 17,
   "metadata": {},
   "outputs": [],
   "source": [
    "train_data['Age_of_employment'] = train_data['Year_of_recruitment'] - train_data['Year_of_birth']\n",
    "test_data['Age_of_employment'] = test_data['Year_of_recruitment'] - test_data['Year_of_birth']"
   ]
  },
  {
   "cell_type": "code",
   "execution_count": 18,
   "metadata": {},
   "outputs": [],
   "source": [
    "train_data['Train_score_avg_per_age'] = train_data['Training_score_average']/train_data['Age_of_employment']\n",
    "test_data['Train_score_avg_per_age'] = test_data['Training_score_average']/test_data['Age_of_employment']\n",
    "\n",
    "train_data['Last_perf_score_per_trainings'] = train_data['Last_performance_score']/train_data['Trainings_Attended']\n",
    "test_data['Last_perf_score_per_trainings'] = test_data['Last_performance_score']/test_data['Trainings_Attended']\n",
    "\n",
    "train_data['Last_perf_score_per_train_score'] = train_data['Last_performance_score']/train_data['Training_score_average']\n",
    "test_data['Last_perf_score_per_train_score'] = test_data['Last_performance_score']/test_data['Training_score_average']\n",
    "\n",
    "train_data['Penalty'] = train_data['Previous_Award'] - train_data['Past_Disciplinary_Action']\n",
    "test_data['Penalty'] = test_data['Previous_Award'] - test_data['Past_Disciplinary_Action']\n",
    "\n",
    "train_data['Disappointing'] = train_data['Foreign_schooled'] - train_data['Past_Disciplinary_Action']\n",
    "test_data['Disappointing'] = test_data['Foreign_schooled'] - test_data['Past_Disciplinary_Action']\n",
    "\n",
    "train_data['Discipline_change_Dept'] = train_data['Past_Disciplinary_Action'] * train_data['Previous_IntraDepartmental_Movement']\n",
    "test_data['Discipline_change_Dept'] = test_data['Past_Disciplinary_Action'] * test_data['Previous_IntraDepartmental_Movement']\n",
    "\n",
    "train_data['Target_Award'] = train_data['Targets_met'] + train_data['Previous_Award']\n",
    "test_data['Target_Award'] = test_data['Targets_met'] + test_data['Previous_Award']"
   ]
  },
  {
   "cell_type": "code",
   "execution_count": 19,
   "metadata": {},
   "outputs": [],
   "source": [
    "train_data['Penalty'] = train_data['Penalty'].replace({-1: 1, 0:2, 1:3})\n",
    "test_data['Penalty'] = test_data['Penalty'].replace({-1: 1, 0:2, 1:3})\n",
    "\n",
    "train_data['Disappointing'] = train_data['Disappointing'].replace({-1: 1, 0:2, 1:3})\n",
    "test_data['Disappointing'] = test_data['Disappointing'].replace({-1: 1, 0:2, 1:3})"
   ]
  },
  {
   "cell_type": "code",
   "execution_count": null,
   "metadata": {},
   "outputs": [],
   "source": []
  },
  {
   "cell_type": "code",
   "execution_count": 20,
   "metadata": {},
   "outputs": [
    {
     "data": {
      "text/plain": [
       "array(['ABIA', 'ADAMAWA', 'AKWA IBOM', 'ANAMBRA', 'BAUCHI', 'BAYELSA',\n",
       "       'BENUE', 'BORNO', 'CROSS RIVER', 'DELTA', 'EBONYI', 'EDO', 'EKITI',\n",
       "       'ENUGU', 'FCT', 'GOMBE', 'IMO', 'JIGAWA', 'KADUNA', 'KANO',\n",
       "       'KATSINA', 'KEBBI', 'KOGI', 'KWARA', 'LAGOS', 'NASSARAWA', 'NIGER',\n",
       "       'OGUN', 'ONDO', 'OSUN', 'OYO', 'PLATEAU', 'RIVERS', 'SOKOTO',\n",
       "       'TARABA', 'YOBE', 'ZAMFARA'], dtype=object)"
      ]
     },
     "execution_count": 20,
     "metadata": {},
     "output_type": "execute_result"
    }
   ],
   "source": [
    "np.sort(train_data['State_Of_Origin'].unique())"
   ]
  },
  {
   "cell_type": "code",
   "execution_count": 21,
   "metadata": {},
   "outputs": [
    {
     "data": {
      "text/plain": [
       "array([1950, 1952, 1955, 1956, 1957, 1958, 1959, 1960, 1961, 1962, 1963,\n",
       "       1964, 1965, 1966, 1967, 1968, 1969, 1970, 1971, 1972, 1973, 1974,\n",
       "       1975, 1976, 1977, 1978, 1979, 1980, 1981, 1982, 1983, 1984, 1985,\n",
       "       1986, 1987, 1988, 1989, 1990, 1991, 1992, 1993, 1994, 1995, 1996,\n",
       "       1997, 1998, 1999, 2000, 2001], dtype=int64)"
      ]
     },
     "execution_count": 21,
     "metadata": {},
     "output_type": "execute_result"
    }
   ],
   "source": [
    "np.sort(train_data['Year_of_birth'].unique())"
   ]
  },
  {
   "cell_type": "code",
   "execution_count": 22,
   "metadata": {},
   "outputs": [
    {
     "data": {
      "text/plain": [
       "array([1958, 1959, 1960, 1961, 1962, 1963, 1964, 1965, 1966, 1967, 1968,\n",
       "       1969, 1970, 1971, 1972, 1973, 1974, 1975, 1976, 1977, 1978, 1979,\n",
       "       1980, 1981, 1982, 1983, 1984, 1985, 1986, 1987, 1988, 1989, 1990,\n",
       "       1991, 1992, 1993, 1994, 1995, 1996, 1997, 1998, 1999, 2000, 2001],\n",
       "      dtype=int64)"
      ]
     },
     "execution_count": 22,
     "metadata": {},
     "output_type": "execute_result"
    }
   ],
   "source": [
    "np.sort(test_data['Year_of_birth'].unique())"
   ]
  },
  {
   "cell_type": "code",
   "execution_count": 23,
   "metadata": {},
   "outputs": [
    {
     "data": {
      "text/plain": [
       "(16496, 26)"
      ]
     },
     "execution_count": 23,
     "metadata": {},
     "output_type": "execute_result"
    }
   ],
   "source": [
    "test_data.shape"
   ]
  },
  {
   "cell_type": "code",
   "execution_count": 24,
   "metadata": {},
   "outputs": [
    {
     "data": {
      "text/plain": [
       "Index(['EmployeeNo', 'Division', 'Qualification', 'Gender',\n",
       "       'Channel_of_Recruitment', 'Trainings_Attended', 'Year_of_birth',\n",
       "       'Last_performance_score', 'Year_of_recruitment', 'Targets_met',\n",
       "       'Previous_Award', 'Training_score_average', 'State_Of_Origin',\n",
       "       'Foreign_schooled', 'Marital_Status', 'Past_Disciplinary_Action',\n",
       "       'Previous_IntraDepartmental_Movement', 'No_of_previous_employers',\n",
       "       'Promoted_or_Not', 'Age_of_employment', 'Train_score_avg_per_age',\n",
       "       'Last_perf_score_per_trainings', 'Last_perf_score_per_train_score',\n",
       "       'Penalty', 'Disappointing', 'Discipline_change_Dept', 'Target_Award'],\n",
       "      dtype='object')"
      ]
     },
     "execution_count": 24,
     "metadata": {},
     "output_type": "execute_result"
    }
   ],
   "source": [
    "train_data.columns"
   ]
  },
  {
   "cell_type": "code",
   "execution_count": 25,
   "metadata": {},
   "outputs": [
    {
     "data": {
      "text/html": [
       "<div>\n",
       "<style scoped>\n",
       "    .dataframe tbody tr th:only-of-type {\n",
       "        vertical-align: middle;\n",
       "    }\n",
       "\n",
       "    .dataframe tbody tr th {\n",
       "        vertical-align: top;\n",
       "    }\n",
       "\n",
       "    .dataframe thead th {\n",
       "        text-align: right;\n",
       "    }\n",
       "</style>\n",
       "<table border=\"1\" class=\"dataframe\">\n",
       "  <thead>\n",
       "    <tr style=\"text-align: right;\">\n",
       "      <th></th>\n",
       "      <th>EmployeeNo</th>\n",
       "      <th>Division</th>\n",
       "      <th>Qualification</th>\n",
       "      <th>Gender</th>\n",
       "      <th>Channel_of_Recruitment</th>\n",
       "      <th>Trainings_Attended</th>\n",
       "      <th>Year_of_birth</th>\n",
       "      <th>Last_performance_score</th>\n",
       "      <th>Year_of_recruitment</th>\n",
       "      <th>Targets_met</th>\n",
       "      <th>...</th>\n",
       "      <th>No_of_previous_employers</th>\n",
       "      <th>Promoted_or_Not</th>\n",
       "      <th>Age_of_employment</th>\n",
       "      <th>Train_score_avg_per_age</th>\n",
       "      <th>Last_perf_score_per_trainings</th>\n",
       "      <th>Last_perf_score_per_train_score</th>\n",
       "      <th>Penalty</th>\n",
       "      <th>Disappointing</th>\n",
       "      <th>Discipline_change_Dept</th>\n",
       "      <th>Target_Award</th>\n",
       "    </tr>\n",
       "  </thead>\n",
       "  <tbody>\n",
       "    <tr>\n",
       "      <th>0</th>\n",
       "      <td>YAK/S/00001</td>\n",
       "      <td>Commercial Sales and Marketing</td>\n",
       "      <td>MSc, MBA and PhD</td>\n",
       "      <td>Female</td>\n",
       "      <td>Direct Internal process</td>\n",
       "      <td>2</td>\n",
       "      <td>1986</td>\n",
       "      <td>12.5</td>\n",
       "      <td>2011</td>\n",
       "      <td>1</td>\n",
       "      <td>...</td>\n",
       "      <td>0</td>\n",
       "      <td>0</td>\n",
       "      <td>25</td>\n",
       "      <td>1.640000</td>\n",
       "      <td>6.250000</td>\n",
       "      <td>0.304878</td>\n",
       "      <td>2</td>\n",
       "      <td>2</td>\n",
       "      <td>0</td>\n",
       "      <td>1</td>\n",
       "    </tr>\n",
       "    <tr>\n",
       "      <th>1</th>\n",
       "      <td>YAK/S/00002</td>\n",
       "      <td>Customer Support and Field Operations</td>\n",
       "      <td>First Degree or HND</td>\n",
       "      <td>Male</td>\n",
       "      <td>Agency and others</td>\n",
       "      <td>2</td>\n",
       "      <td>1991</td>\n",
       "      <td>12.5</td>\n",
       "      <td>2015</td>\n",
       "      <td>0</td>\n",
       "      <td>...</td>\n",
       "      <td>0</td>\n",
       "      <td>0</td>\n",
       "      <td>24</td>\n",
       "      <td>2.166667</td>\n",
       "      <td>6.250000</td>\n",
       "      <td>0.240385</td>\n",
       "      <td>2</td>\n",
       "      <td>3</td>\n",
       "      <td>0</td>\n",
       "      <td>0</td>\n",
       "    </tr>\n",
       "    <tr>\n",
       "      <th>2</th>\n",
       "      <td>YAK/S/00003</td>\n",
       "      <td>Commercial Sales and Marketing</td>\n",
       "      <td>First Degree or HND</td>\n",
       "      <td>Male</td>\n",
       "      <td>Direct Internal process</td>\n",
       "      <td>2</td>\n",
       "      <td>1987</td>\n",
       "      <td>7.5</td>\n",
       "      <td>2012</td>\n",
       "      <td>0</td>\n",
       "      <td>...</td>\n",
       "      <td>0</td>\n",
       "      <td>0</td>\n",
       "      <td>25</td>\n",
       "      <td>1.680000</td>\n",
       "      <td>3.750000</td>\n",
       "      <td>0.178571</td>\n",
       "      <td>2</td>\n",
       "      <td>3</td>\n",
       "      <td>0</td>\n",
       "      <td>0</td>\n",
       "    </tr>\n",
       "    <tr>\n",
       "      <th>3</th>\n",
       "      <td>YAK/S/00004</td>\n",
       "      <td>Commercial Sales and Marketing</td>\n",
       "      <td>First Degree or HND</td>\n",
       "      <td>Male</td>\n",
       "      <td>Agency and others</td>\n",
       "      <td>3</td>\n",
       "      <td>1982</td>\n",
       "      <td>2.5</td>\n",
       "      <td>2009</td>\n",
       "      <td>0</td>\n",
       "      <td>...</td>\n",
       "      <td>1</td>\n",
       "      <td>0</td>\n",
       "      <td>27</td>\n",
       "      <td>1.555556</td>\n",
       "      <td>0.833333</td>\n",
       "      <td>0.059524</td>\n",
       "      <td>2</td>\n",
       "      <td>3</td>\n",
       "      <td>0</td>\n",
       "      <td>0</td>\n",
       "    </tr>\n",
       "    <tr>\n",
       "      <th>4</th>\n",
       "      <td>YAK/S/00006</td>\n",
       "      <td>Information and Strategy</td>\n",
       "      <td>First Degree or HND</td>\n",
       "      <td>Male</td>\n",
       "      <td>Direct Internal process</td>\n",
       "      <td>3</td>\n",
       "      <td>1990</td>\n",
       "      <td>7.5</td>\n",
       "      <td>2012</td>\n",
       "      <td>0</td>\n",
       "      <td>...</td>\n",
       "      <td>1</td>\n",
       "      <td>0</td>\n",
       "      <td>22</td>\n",
       "      <td>3.500000</td>\n",
       "      <td>2.500000</td>\n",
       "      <td>0.097403</td>\n",
       "      <td>2</td>\n",
       "      <td>3</td>\n",
       "      <td>0</td>\n",
       "      <td>0</td>\n",
       "    </tr>\n",
       "  </tbody>\n",
       "</table>\n",
       "<p>5 rows × 27 columns</p>\n",
       "</div>"
      ],
      "text/plain": [
       "    EmployeeNo                               Division        Qualification  \\\n",
       "0  YAK/S/00001         Commercial Sales and Marketing     MSc, MBA and PhD   \n",
       "1  YAK/S/00002  Customer Support and Field Operations  First Degree or HND   \n",
       "2  YAK/S/00003         Commercial Sales and Marketing  First Degree or HND   \n",
       "3  YAK/S/00004         Commercial Sales and Marketing  First Degree or HND   \n",
       "4  YAK/S/00006               Information and Strategy  First Degree or HND   \n",
       "\n",
       "   Gender   Channel_of_Recruitment  Trainings_Attended  Year_of_birth  \\\n",
       "0  Female  Direct Internal process                   2           1986   \n",
       "1    Male        Agency and others                   2           1991   \n",
       "2    Male  Direct Internal process                   2           1987   \n",
       "3    Male        Agency and others                   3           1982   \n",
       "4    Male  Direct Internal process                   3           1990   \n",
       "\n",
       "   Last_performance_score  Year_of_recruitment  Targets_met  ...  \\\n",
       "0                    12.5                 2011            1  ...   \n",
       "1                    12.5                 2015            0  ...   \n",
       "2                     7.5                 2012            0  ...   \n",
       "3                     2.5                 2009            0  ...   \n",
       "4                     7.5                 2012            0  ...   \n",
       "\n",
       "   No_of_previous_employers  Promoted_or_Not Age_of_employment  \\\n",
       "0                         0                0                25   \n",
       "1                         0                0                24   \n",
       "2                         0                0                25   \n",
       "3                         1                0                27   \n",
       "4                         1                0                22   \n",
       "\n",
       "   Train_score_avg_per_age Last_perf_score_per_trainings  \\\n",
       "0                 1.640000                      6.250000   \n",
       "1                 2.166667                      6.250000   \n",
       "2                 1.680000                      3.750000   \n",
       "3                 1.555556                      0.833333   \n",
       "4                 3.500000                      2.500000   \n",
       "\n",
       "   Last_perf_score_per_train_score  Penalty Disappointing  \\\n",
       "0                         0.304878        2             2   \n",
       "1                         0.240385        2             3   \n",
       "2                         0.178571        2             3   \n",
       "3                         0.059524        2             3   \n",
       "4                         0.097403        2             3   \n",
       "\n",
       "   Discipline_change_Dept  Target_Award  \n",
       "0                       0             1  \n",
       "1                       0             0  \n",
       "2                       0             0  \n",
       "3                       0             0  \n",
       "4                       0             0  \n",
       "\n",
       "[5 rows x 27 columns]"
      ]
     },
     "execution_count": 25,
     "metadata": {},
     "output_type": "execute_result"
    }
   ],
   "source": [
    "train_data.head()"
   ]
  },
  {
   "cell_type": "code",
   "execution_count": 26,
   "metadata": {},
   "outputs": [
    {
     "data": {
      "text/plain": [
       "Index(['Trainings_Attended', 'Year_of_birth', 'Last_performance_score',\n",
       "       'Year_of_recruitment', 'Targets_met', 'Previous_Award',\n",
       "       'Training_score_average', 'Foreign_schooled',\n",
       "       'Past_Disciplinary_Action', 'Previous_IntraDepartmental_Movement',\n",
       "       'Promoted_or_Not', 'Age_of_employment', 'Train_score_avg_per_age',\n",
       "       'Last_perf_score_per_trainings', 'Last_perf_score_per_train_score',\n",
       "       'Penalty', 'Disappointing', 'Discipline_change_Dept', 'Target_Award'],\n",
       "      dtype='object')"
      ]
     },
     "execution_count": 26,
     "metadata": {},
     "output_type": "execute_result"
    }
   ],
   "source": [
    "train_data.select_dtypes(exclude='object').columns"
   ]
  },
  {
   "cell_type": "code",
   "execution_count": 27,
   "metadata": {},
   "outputs": [
    {
     "data": {
      "text/plain": [
       "Index(['EmployeeNo', 'Division', 'Qualification', 'Gender',\n",
       "       'Channel_of_Recruitment', 'State_Of_Origin', 'Marital_Status',\n",
       "       'No_of_previous_employers'],\n",
       "      dtype='object')"
      ]
     },
     "execution_count": 27,
     "metadata": {},
     "output_type": "execute_result"
    }
   ],
   "source": [
    "train_data.select_dtypes(include='object').columns"
   ]
  },
  {
   "cell_type": "code",
   "execution_count": 28,
   "metadata": {},
   "outputs": [],
   "source": [
    "train_data.drop(['EmployeeNo', 'Year_of_birth', 'Year_of_recruitment'], axis=1, inplace=True)\n",
    "\n",
    "testId = test_data['EmployeeNo']\n",
    "test_data.drop(['EmployeeNo', 'Year_of_birth', 'Year_of_recruitment'], axis=1, inplace=True)"
   ]
  },
  {
   "cell_type": "code",
   "execution_count": 29,
   "metadata": {},
   "outputs": [
    {
     "data": {
      "text/plain": [
       "<matplotlib.axes._subplots.AxesSubplot at 0x28277f7b048>"
      ]
     },
     "execution_count": 29,
     "metadata": {},
     "output_type": "execute_result"
    },
    {
     "data": {
      "image/png": "[encoded data removed]",
      "text/plain": [
       "<Figure size 432x288 with 1 Axes>"
      ]
     },
     "metadata": {
      "needs_background": "light"
     },
     "output_type": "display_data"
    }
   ],
   "source": [
    "train_data['Age_of_employment'].hist(bins=60)"
   ]
  },
  {
   "cell_type": "code",
   "execution_count": 30,
   "metadata": {},
   "outputs": [
    {
     "data": {
      "text/html": [
       "<div>\n",
       "<style scoped>\n",
       "    .dataframe tbody tr th:only-of-type {\n",
       "        vertical-align: middle;\n",
       "    }\n",
       "\n",
       "    .dataframe tbody tr th {\n",
       "        vertical-align: top;\n",
       "    }\n",
       "\n",
       "    .dataframe thead th {\n",
       "        text-align: right;\n",
       "    }\n",
       "</style>\n",
       "<table border=\"1\" class=\"dataframe\">\n",
       "  <thead>\n",
       "    <tr style=\"text-align: right;\">\n",
       "      <th></th>\n",
       "      <th>Division</th>\n",
       "      <th>Qualification</th>\n",
       "      <th>Gender</th>\n",
       "      <th>Channel_of_Recruitment</th>\n",
       "      <th>Trainings_Attended</th>\n",
       "      <th>Last_performance_score</th>\n",
       "      <th>Targets_met</th>\n",
       "      <th>Previous_Award</th>\n",
       "      <th>Training_score_average</th>\n",
       "      <th>State_Of_Origin</th>\n",
       "      <th>...</th>\n",
       "      <th>No_of_previous_employers</th>\n",
       "      <th>Promoted_or_Not</th>\n",
       "      <th>Age_of_employment</th>\n",
       "      <th>Train_score_avg_per_age</th>\n",
       "      <th>Last_perf_score_per_trainings</th>\n",
       "      <th>Last_perf_score_per_train_score</th>\n",
       "      <th>Penalty</th>\n",
       "      <th>Disappointing</th>\n",
       "      <th>Discipline_change_Dept</th>\n",
       "      <th>Target_Award</th>\n",
       "    </tr>\n",
       "  </thead>\n",
       "  <tbody>\n",
       "    <tr>\n",
       "      <th>0</th>\n",
       "      <td>Commercial Sales and Marketing</td>\n",
       "      <td>MSc, MBA and PhD</td>\n",
       "      <td>Female</td>\n",
       "      <td>Direct Internal process</td>\n",
       "      <td>2</td>\n",
       "      <td>12.5</td>\n",
       "      <td>1</td>\n",
       "      <td>0</td>\n",
       "      <td>41</td>\n",
       "      <td>ANAMBRA</td>\n",
       "      <td>...</td>\n",
       "      <td>0</td>\n",
       "      <td>0</td>\n",
       "      <td>25</td>\n",
       "      <td>1.640000</td>\n",
       "      <td>6.25</td>\n",
       "      <td>0.304878</td>\n",
       "      <td>2</td>\n",
       "      <td>2</td>\n",
       "      <td>0</td>\n",
       "      <td>1</td>\n",
       "    </tr>\n",
       "    <tr>\n",
       "      <th>1</th>\n",
       "      <td>Customer Support and Field Operations</td>\n",
       "      <td>First Degree or HND</td>\n",
       "      <td>Male</td>\n",
       "      <td>Agency and others</td>\n",
       "      <td>2</td>\n",
       "      <td>12.5</td>\n",
       "      <td>0</td>\n",
       "      <td>0</td>\n",
       "      <td>52</td>\n",
       "      <td>ANAMBRA</td>\n",
       "      <td>...</td>\n",
       "      <td>0</td>\n",
       "      <td>0</td>\n",
       "      <td>24</td>\n",
       "      <td>2.166667</td>\n",
       "      <td>6.25</td>\n",
       "      <td>0.240385</td>\n",
       "      <td>2</td>\n",
       "      <td>3</td>\n",
       "      <td>0</td>\n",
       "      <td>0</td>\n",
       "    </tr>\n",
       "    <tr>\n",
       "      <th>2</th>\n",
       "      <td>Commercial Sales and Marketing</td>\n",
       "      <td>First Degree or HND</td>\n",
       "      <td>Male</td>\n",
       "      <td>Direct Internal process</td>\n",
       "      <td>2</td>\n",
       "      <td>7.5</td>\n",
       "      <td>0</td>\n",
       "      <td>0</td>\n",
       "      <td>42</td>\n",
       "      <td>KATSINA</td>\n",
       "      <td>...</td>\n",
       "      <td>0</td>\n",
       "      <td>0</td>\n",
       "      <td>25</td>\n",
       "      <td>1.680000</td>\n",
       "      <td>3.75</td>\n",
       "      <td>0.178571</td>\n",
       "      <td>2</td>\n",
       "      <td>3</td>\n",
       "      <td>0</td>\n",
       "      <td>0</td>\n",
       "    </tr>\n",
       "  </tbody>\n",
       "</table>\n",
       "<p>3 rows × 24 columns</p>\n",
       "</div>"
      ],
      "text/plain": [
       "                                Division        Qualification  Gender  \\\n",
       "0         Commercial Sales and Marketing     MSc, MBA and PhD  Female   \n",
       "1  Customer Support and Field Operations  First Degree or HND    Male   \n",
       "2         Commercial Sales and Marketing  First Degree or HND    Male   \n",
       "\n",
       "    Channel_of_Recruitment  Trainings_Attended  Last_performance_score  \\\n",
       "0  Direct Internal process                   2                    12.5   \n",
       "1        Agency and others                   2                    12.5   \n",
       "2  Direct Internal process                   2                     7.5   \n",
       "\n",
       "   Targets_met  Previous_Award  Training_score_average State_Of_Origin  ...  \\\n",
       "0            1               0                      41         ANAMBRA  ...   \n",
       "1            0               0                      52         ANAMBRA  ...   \n",
       "2            0               0                      42         KATSINA  ...   \n",
       "\n",
       "   No_of_previous_employers Promoted_or_Not  Age_of_employment  \\\n",
       "0                         0               0                 25   \n",
       "1                         0               0                 24   \n",
       "2                         0               0                 25   \n",
       "\n",
       "   Train_score_avg_per_age Last_perf_score_per_trainings  \\\n",
       "0                 1.640000                          6.25   \n",
       "1                 2.166667                          6.25   \n",
       "2                 1.680000                          3.75   \n",
       "\n",
       "   Last_perf_score_per_train_score  Penalty  Disappointing  \\\n",
       "0                         0.304878        2              2   \n",
       "1                         0.240385        2              3   \n",
       "2                         0.178571        2              3   \n",
       "\n",
       "   Discipline_change_Dept  Target_Award  \n",
       "0                       0             1  \n",
       "1                       0             0  \n",
       "2                       0             0  \n",
       "\n",
       "[3 rows x 24 columns]"
      ]
     },
     "execution_count": 30,
     "metadata": {},
     "output_type": "execute_result"
    }
   ],
   "source": [
    "train_data.head(3)"
   ]
  },
  {
   "cell_type": "code",
   "execution_count": 31,
   "metadata": {},
   "outputs": [
    {
     "data": {
      "text/plain": [
       "Index(['Division', 'Qualification', 'Gender', 'Channel_of_Recruitment',\n",
       "       'Trainings_Attended', 'Last_performance_score', 'Targets_met',\n",
       "       'Previous_Award', 'Training_score_average', 'State_Of_Origin',\n",
       "       'Foreign_schooled', 'Marital_Status', 'Past_Disciplinary_Action',\n",
       "       'Previous_IntraDepartmental_Movement', 'No_of_previous_employers',\n",
       "       'Promoted_or_Not', 'Age_of_employment', 'Train_score_avg_per_age',\n",
       "       'Last_perf_score_per_trainings', 'Last_perf_score_per_train_score',\n",
       "       'Penalty', 'Disappointing', 'Discipline_change_Dept', 'Target_Award'],\n",
       "      dtype='object')"
      ]
     },
     "execution_count": 31,
     "metadata": {},
     "output_type": "execute_result"
    }
   ],
   "source": [
    "train_data.columns"
   ]
  },
  {
   "cell_type": "code",
   "execution_count": null,
   "metadata": {},
   "outputs": [],
   "source": []
  },
  {
   "cell_type": "code",
   "execution_count": null,
   "metadata": {},
   "outputs": [],
   "source": []
  },
  {
   "cell_type": "code",
   "execution_count": 32,
   "metadata": {},
   "outputs": [
    {
     "data": {
      "text/plain": [
       "(38312, 24)"
      ]
     },
     "execution_count": 32,
     "metadata": {},
     "output_type": "execute_result"
    }
   ],
   "source": [
    "train_data.shape"
   ]
  },
  {
   "cell_type": "code",
   "execution_count": 33,
   "metadata": {},
   "outputs": [],
   "source": [
    "#1. ************Qualification--Division"
   ]
  },
  {
   "cell_type": "code",
   "execution_count": 34,
   "metadata": {},
   "outputs": [],
   "source": [
    "qual_div_train = train_data.groupby(['Qualification', 'Division'], as_index=False)[['Training_score_average', 'Trainings_Attended', 'Last_performance_score']].agg(['mean', 'sum']).reset_index()#.rename(columns={'mean' : 'Training_score_avg_Qual_Div_mean', 'sum' : 'Training_score_avg_Qual_Div_sum'})\n",
    "qual_div_test = test_data.groupby(['Qualification', 'Division'], as_index=False)[['Training_score_average', 'Trainings_Attended', 'Last_performance_score']].agg(['mean', 'sum']).reset_index()\n",
    "\n",
    "\n",
    "\n",
    "col = ['Qualification', 'Division']\n",
    "\n",
    "for var in qual_div_train.columns.levels[0]:\n",
    "    if var not in col:\n",
    "        for stat in qual_div_train.columns.levels[1][:-1]:\n",
    "            col.append('Qual_Div_%s_%s' % (var, stat))\n",
    "            \n",
    "    \n",
    "qual_div_train.columns = col\n",
    "qual_div_test.columns = col\n",
    "\n",
    "\n",
    "train_data = pd.merge(train_data, qual_div_train, on=['Qualification', 'Division'], how='left')\n",
    "test_data = pd.merge(test_data, qual_div_test, on=['Qualification', 'Division'], how='left')\n",
    "\n",
    "\n"
   ]
  },
  {
   "cell_type": "code",
   "execution_count": 35,
   "metadata": {},
   "outputs": [],
   "source": [
    "#2. ************Channel_of_Recruitment--Division"
   ]
  },
  {
   "cell_type": "code",
   "execution_count": 36,
   "metadata": {},
   "outputs": [],
   "source": [
    "cor_div_train = train_data.groupby(['Channel_of_Recruitment', 'Division'], as_index=False)[['Training_score_average', 'Trainings_Attended', 'Last_performance_score']].agg(['mean', 'sum']).reset_index()#.rename(columns={'mean' : 'Training_score_avg_Qual_Div_mean', 'sum' : 'Training_score_avg_Qual_Div_sum'})\n",
    "cor_div_test = test_data.groupby(['Channel_of_Recruitment', 'Division'], as_index=False)[['Training_score_average', 'Trainings_Attended', 'Last_performance_score']].agg(['mean', 'sum']).reset_index()\n",
    "\n",
    "\n",
    "\n",
    "col = ['Channel_of_Recruitment', 'Division']\n",
    "\n",
    "for var in cor_div_train.columns.levels[0]:\n",
    "    if var not in col:\n",
    "        for stat in cor_div_train.columns.levels[1][:-1]:\n",
    "            col.append('Cor_Div_%s_%s' % (var, stat))\n",
    "            \n",
    "    \n",
    "cor_div_train.columns = col\n",
    "cor_div_test.columns = col\n",
    "\n",
    "\n",
    "train_data = pd.merge(train_data, cor_div_train, on=['Channel_of_Recruitment', 'Division'], how='left')\n",
    "test_data = pd.merge(test_data, cor_div_test, on=['Channel_of_Recruitment', 'Division'], how='left')\n",
    "\n",
    "\n"
   ]
  },
  {
   "cell_type": "code",
   "execution_count": 37,
   "metadata": {},
   "outputs": [],
   "source": [
    "#3. Channel_of_Recruitment -- Qualification"
   ]
  },
  {
   "cell_type": "code",
   "execution_count": 38,
   "metadata": {},
   "outputs": [],
   "source": [
    "cor_qual_train = train_data.groupby(['Channel_of_Recruitment', 'Qualification'], as_index=False)[['Training_score_average', 'Trainings_Attended', 'Last_performance_score']].agg(['mean', 'sum']).reset_index()#.rename(columns={'mean' : 'Training_score_avg_Qual_Div_mean', 'sum' : 'Training_score_avg_Qual_Div_sum'})\n",
    "cor_qual_test = test_data.groupby(['Channel_of_Recruitment', 'Qualification'], as_index=False)[['Training_score_average', 'Trainings_Attended', 'Last_performance_score']].agg(['mean', 'sum']).reset_index()\n",
    "\n",
    "\n",
    "\n",
    "col = ['Channel_of_Recruitment', 'Qualification']\n",
    "\n",
    "for var in cor_qual_train.columns.levels[0]:\n",
    "    if var not in col:\n",
    "        for stat in cor_qual_train.columns.levels[1][:-1]:\n",
    "            col.append('Cor_Qual_%s_%s' % (var, stat))\n",
    "            \n",
    "    \n",
    "cor_qual_train.columns = col\n",
    "cor_qual_test.columns = col\n",
    "\n",
    "\n",
    "train_data = pd.merge(train_data, cor_qual_train, on=['Channel_of_Recruitment', 'Qualification'], how='left')\n",
    "test_data = pd.merge(test_data, cor_qual_test, on=['Channel_of_Recruitment', 'Qualification'], how='left')\n",
    "\n",
    "\n"
   ]
  },
  {
   "cell_type": "code",
   "execution_count": 39,
   "metadata": {},
   "outputs": [],
   "source": [
    "#4. Qualification, Division, Channel_of_Recruitment"
   ]
  },
  {
   "cell_type": "code",
   "execution_count": 40,
   "metadata": {},
   "outputs": [],
   "source": [
    "qual_div_cor_train = train_data.groupby(['Qualification', 'Division', 'Channel_of_Recruitment'], as_index=False)[['Training_score_average', 'Trainings_Attended', 'Last_performance_score']].agg(['mean', 'sum']).reset_index()#.rename(columns={'mean' : 'Training_score_avg_Qual_Div_mean', 'sum' : 'Training_score_avg_Qual_Div_sum'})\n",
    "qual_div_cor_test = test_data.groupby(['Qualification', 'Division', 'Channel_of_Recruitment'], as_index=False)[['Training_score_average', 'Trainings_Attended', 'Last_performance_score']].agg(['mean', 'sum']).reset_index()\n",
    "\n",
    "\n",
    "\n",
    "col = ['Qualification', 'Division', 'Channel_of_Recruitment']\n",
    "\n",
    "for var in qual_div_cor_train.columns.levels[0]:\n",
    "    if var not in col:\n",
    "        for stat in qual_div_cor_train.columns.levels[1][:-1]:\n",
    "            col.append('Qual_Div_Cor_%s_%s' % (var, stat))\n",
    "            \n",
    "    \n",
    "qual_div_cor_train.columns = col\n",
    "qual_div_cor_test.columns = col\n",
    "\n",
    "\n",
    "train_data = pd.merge(train_data, qual_div_cor_train, on=['Qualification', 'Division', 'Channel_of_Recruitment'], how='left')\n",
    "test_data = pd.merge(test_data, qual_div_cor_test, on=['Qualification', 'Division', 'Channel_of_Recruitment'], how='left')\n",
    "\n",
    "\n"
   ]
  },
  {
   "cell_type": "code",
   "execution_count": 41,
   "metadata": {},
   "outputs": [],
   "source": [
    "#5. State_of_Origin, Channel_of_Recruitment, Division"
   ]
  },
  {
   "cell_type": "code",
   "execution_count": 42,
   "metadata": {},
   "outputs": [],
   "source": [
    "state_cor_div_train = train_data.groupby(['State_Of_Origin', 'Channel_of_Recruitment', 'Division'], as_index=False)[['Training_score_average', 'Trainings_Attended', 'Last_performance_score']].agg(['mean', 'sum']).reset_index()#.rename(columns={'mean' : 'Training_score_avg_Qual_Div_mean', 'sum' : 'Training_score_avg_Qual_Div_sum'})\n",
    "state_cor_div_test = test_data.groupby(['State_Of_Origin', 'Channel_of_Recruitment', 'Division'], as_index=False)[['Training_score_average', 'Trainings_Attended', 'Last_performance_score']].agg(['mean', 'sum']).reset_index()\n",
    "\n",
    "\n",
    "\n",
    "col = ['State_Of_Origin', 'Channel_of_Recruitment', 'Division']\n",
    "\n",
    "for var in state_cor_div_train.columns.levels[0]:\n",
    "    if var not in col:\n",
    "        for stat in state_cor_div_train.columns.levels[1][:-1]:\n",
    "            col.append('State_Cor_Div_%s_%s' % (var, stat))\n",
    "            \n",
    "    \n",
    "state_cor_div_train.columns = col\n",
    "state_cor_div_test.columns = col\n",
    "\n",
    "\n",
    "train_data = pd.merge(train_data, state_cor_div_train, on=['State_Of_Origin', 'Channel_of_Recruitment', 'Division'], how='left')\n",
    "test_data = pd.merge(test_data, state_cor_div_test, on=['State_Of_Origin', 'Channel_of_Recruitment', 'Division'], how='left')\n",
    "\n",
    "\n"
   ]
  },
  {
   "cell_type": "code",
   "execution_count": 43,
   "metadata": {},
   "outputs": [],
   "source": [
    "#6. Qualification, Division, Previous_Intradepartmental_Movement"
   ]
  },
  {
   "cell_type": "code",
   "execution_count": 44,
   "metadata": {},
   "outputs": [],
   "source": [
    "qual_div_dept_train = train_data.groupby(['Qualification', 'Division', 'Previous_IntraDepartmental_Movement'], as_index=False)[['Training_score_average', 'Trainings_Attended', 'Last_performance_score']].agg(['mean', 'sum']).reset_index()#.rename(columns={'mean' : 'Training_score_avg_Qual_Div_mean', 'sum' : 'Training_score_avg_Qual_Div_sum'})\n",
    "qual_div_dept_test = test_data.groupby(['Qualification', 'Division', 'Previous_IntraDepartmental_Movement'], as_index=False)[['Training_score_average', 'Trainings_Attended', 'Last_performance_score']].agg(['mean', 'sum']).reset_index()\n",
    "\n",
    "\n",
    "\n",
    "col = ['Qualification', 'Division', 'Previous_IntraDepartmental_Movement']\n",
    "\n",
    "for var in qual_div_dept_train.columns.levels[0]:\n",
    "    if var not in col:\n",
    "        for stat in qual_div_dept_train.columns.levels[1][:-1]:\n",
    "            col.append('Qual_Div_Dept_%s_%s' % (var, stat))\n",
    "            \n",
    "    \n",
    "qual_div_dept_train.columns = col\n",
    "qual_div_dept_test.columns = col\n",
    "\n",
    "\n",
    "train_data = pd.merge(train_data, qual_div_dept_train, on=['Qualification', 'Division', 'Previous_IntraDepartmental_Movement'], how='left')\n",
    "test_data = pd.merge(test_data, qual_div_dept_test, on=['Qualification', 'Division', 'Previous_IntraDepartmental_Movement'], how='left')\n",
    "\n",
    "\n"
   ]
  },
  {
   "cell_type": "code",
   "execution_count": 45,
   "metadata": {},
   "outputs": [],
   "source": [
    "#7. Foreign_Schooled, Channel_of_Recruitment, Division"
   ]
  },
  {
   "cell_type": "code",
   "execution_count": 46,
   "metadata": {},
   "outputs": [],
   "source": [
    "for_cor_div_train = train_data.groupby(['Foreign_schooled', 'Channel_of_Recruitment', 'Division'], as_index=False)[['Training_score_average', 'Trainings_Attended', 'Last_performance_score']].agg(['mean', 'sum']).reset_index()#.rename(columns={'mean' : 'Training_score_avg_Qual_Div_mean', 'sum' : 'Training_score_avg_Qual_Div_sum'})\n",
    "for_cor_div_test = test_data.groupby(['Foreign_schooled', 'Channel_of_Recruitment', 'Division'], as_index=False)[['Training_score_average', 'Trainings_Attended', 'Last_performance_score']].agg(['mean', 'sum']).reset_index()\n",
    "\n",
    "\n",
    "\n",
    "col = ['Foreign_schooled', 'Channel_of_Recruitment', 'Division']\n",
    "\n",
    "for var in for_cor_div_train.columns.levels[0]:\n",
    "    if var not in col:\n",
    "        for stat in for_cor_div_train.columns.levels[1][:-1]:\n",
    "            col.append('For_Cor_Div_%s_%s' % (var, stat))\n",
    "            \n",
    "    \n",
    "for_cor_div_train.columns = col\n",
    "for_cor_div_test.columns = col\n",
    "\n",
    "\n",
    "train_data = pd.merge(train_data, for_cor_div_train, on=['Foreign_schooled', 'Channel_of_Recruitment', 'Division'], how='left')\n",
    "test_data = pd.merge(test_data, for_cor_div_test, on=['Foreign_schooled', 'Channel_of_Recruitment', 'Division'], how='left')\n",
    "\n",
    "\n"
   ]
  },
  {
   "cell_type": "code",
   "execution_count": 47,
   "metadata": {},
   "outputs": [],
   "source": [
    "#8. State"
   ]
  },
  {
   "cell_type": "code",
   "execution_count": 48,
   "metadata": {},
   "outputs": [],
   "source": [
    "state_train = train_data.groupby('State_Of_Origin', as_index=False)[['Training_score_average', 'Trainings_Attended', 'Last_performance_score']].agg(['mean', 'sum']).reset_index()\n",
    "state_test = test_data.groupby('State_Of_Origin', as_index=False)[['Training_score_average', 'Trainings_Attended', 'Last_performance_score']].agg(['mean', 'sum']).reset_index()\n",
    "\n",
    "col = ['State_Of_Origin']\n",
    "\n",
    "for var in state_train.columns.levels[0]:\n",
    "    if var not in col:\n",
    "        for stat in state_train.columns.levels[1][:-1]:\n",
    "            col.append('State_%s_%s' % (var, stat))\n",
    "            \n",
    "    \n",
    "state_train.columns = col\n",
    "state_test.columns = col\n",
    "\n",
    "\n",
    "train_data = pd.merge(train_data, state_train, on='State_Of_Origin', how='left')\n",
    "test_data = pd.merge(test_data, state_test, on='State_Of_Origin', how='left')"
   ]
  },
  {
   "cell_type": "code",
   "execution_count": null,
   "metadata": {},
   "outputs": [],
   "source": []
  },
  {
   "cell_type": "code",
   "execution_count": 50,
   "metadata": {},
   "outputs": [
    {
     "name": "stdout",
     "output_type": "stream",
     "text": [
      "(38312, 72)\n",
      "(16496, 71)\n"
     ]
    }
   ],
   "source": [
    "print(train_data.shape)\n",
    "print(test_data.shape)"
   ]
  },
  {
   "cell_type": "code",
   "execution_count": null,
   "metadata": {},
   "outputs": [],
   "source": []
  },
  {
   "cell_type": "code",
   "execution_count": 51,
   "metadata": {},
   "outputs": [
    {
     "data": {
      "text/plain": [
       "Index(['Division', 'Qualification', 'Gender', 'Channel_of_Recruitment',\n",
       "       'State_Of_Origin', 'Marital_Status', 'No_of_previous_employers'],\n",
       "      dtype='object')"
      ]
     },
     "execution_count": 51,
     "metadata": {},
     "output_type": "execute_result"
    }
   ],
   "source": [
    "train_data.select_dtypes(include='object').columns"
   ]
  },
  {
   "cell_type": "code",
   "execution_count": 52,
   "metadata": {},
   "outputs": [
    {
     "data": {
      "text/plain": [
       "Index(['Trainings_Attended', 'Last_performance_score', 'Targets_met',\n",
       "       'Previous_Award', 'Training_score_average', 'Foreign_schooled',\n",
       "       'Past_Disciplinary_Action', 'Previous_IntraDepartmental_Movement',\n",
       "       'Promoted_or_Not', 'Age_of_employment', 'Train_score_avg_per_age',\n",
       "       'Last_perf_score_per_trainings', 'Last_perf_score_per_train_score',\n",
       "       'Penalty', 'Disappointing', 'Discipline_change_Dept', 'Target_Award',\n",
       "       'Qual_Div_Training_score_average_mean',\n",
       "       'Qual_Div_Training_score_average_sum',\n",
       "       'Qual_Div_Trainings_Attended_mean', 'Qual_Div_Trainings_Attended_sum',\n",
       "       'Qual_Div_Last_performance_score_mean',\n",
       "       'Qual_Div_Last_performance_score_sum',\n",
       "       'Cor_Div_Training_score_average_mean',\n",
       "       'Cor_Div_Training_score_average_sum', 'Cor_Div_Trainings_Attended_mean',\n",
       "       'Cor_Div_Trainings_Attended_sum', 'Cor_Div_Last_performance_score_mean',\n",
       "       'Cor_Div_Last_performance_score_sum',\n",
       "       'Cor_Qual_Training_score_average_mean',\n",
       "       'Cor_Qual_Training_score_average_sum',\n",
       "       'Cor_Qual_Trainings_Attended_mean', 'Cor_Qual_Trainings_Attended_sum',\n",
       "       'Cor_Qual_Last_performance_score_mean',\n",
       "       'Cor_Qual_Last_performance_score_sum',\n",
       "       'Qual_Div_Cor_Training_score_average_mean',\n",
       "       'Qual_Div_Cor_Training_score_average_sum',\n",
       "       'Qual_Div_Cor_Trainings_Attended_mean',\n",
       "       'Qual_Div_Cor_Trainings_Attended_sum',\n",
       "       'Qual_Div_Cor_Last_performance_score_mean',\n",
       "       'Qual_Div_Cor_Last_performance_score_sum',\n",
       "       'State_Cor_Div_Training_score_average_mean',\n",
       "       'State_Cor_Div_Training_score_average_sum',\n",
       "       'State_Cor_Div_Trainings_Attended_mean',\n",
       "       'State_Cor_Div_Trainings_Attended_sum',\n",
       "       'State_Cor_Div_Last_performance_score_mean',\n",
       "       'State_Cor_Div_Last_performance_score_sum',\n",
       "       'Qual_Div_Dept_Training_score_average_mean',\n",
       "       'Qual_Div_Dept_Training_score_average_sum',\n",
       "       'Qual_Div_Dept_Trainings_Attended_mean',\n",
       "       'Qual_Div_Dept_Trainings_Attended_sum',\n",
       "       'Qual_Div_Dept_Last_performance_score_mean',\n",
       "       'Qual_Div_Dept_Last_performance_score_sum',\n",
       "       'For_Cor_Div_Training_score_average_mean',\n",
       "       'For_Cor_Div_Training_score_average_sum',\n",
       "       'For_Cor_Div_Trainings_Attended_mean',\n",
       "       'For_Cor_Div_Trainings_Attended_sum',\n",
       "       'For_Cor_Div_Last_performance_score_mean',\n",
       "       'For_Cor_Div_Last_performance_score_sum',\n",
       "       'State_Training_score_average_mean', 'State_Training_score_average_sum',\n",
       "       'State_Trainings_Attended_mean', 'State_Trainings_Attended_sum',\n",
       "       'State_Last_performance_score_mean',\n",
       "       'State_Last_performance_score_sum'],\n",
       "      dtype='object')"
      ]
     },
     "execution_count": 52,
     "metadata": {},
     "output_type": "execute_result"
    }
   ],
   "source": [
    "train_data.select_dtypes(exclude='object').columns"
   ]
  },
  {
   "cell_type": "code",
   "execution_count": null,
   "metadata": {},
   "outputs": [],
   "source": []
  },
  {
   "cell_type": "code",
   "execution_count": 53,
   "metadata": {},
   "outputs": [
    {
     "data": {
      "text/plain": [
       "Text(0.5, 1.0, 'QQ-Plot for Age')"
      ]
     },
     "execution_count": 53,
     "metadata": {},
     "output_type": "execute_result"
    },
    {
     "data": {
      "image/png": "[encoded data removed]",
      "text/plain": [
       "<Figure size 1152x504 with 2 Axes>"
      ]
     },
     "metadata": {
      "needs_background": "light"
     },
     "output_type": "display_data"
    }
   ],
   "source": [
    "fig, ax = plt.subplots(figsize=(16, 7), nrows=1, ncols=2)\n",
    "\n",
    "ax1 = sns.distplot(train_data.Age_of_employment, fit=norm, color='gray', bins=10, ax=ax[0])\n",
    "ax1.set_title('Age Distribution', size=18)\n",
    "ax1.set_xlabel('Age', size=15)\n",
    "ax1.set_ylabel('Frequency', size=15)\n",
    "\n",
    "ax2 = ax[1]\n",
    "stats.probplot(train_data['Age_of_employment'], plot = ax2)\n",
    "ax2.set_title('QQ-Plot for Age', size=18)"
   ]
  },
  {
   "cell_type": "code",
   "execution_count": 54,
   "metadata": {},
   "outputs": [
    {
     "data": {
      "text/plain": [
       "Text(0.5, 1.0, 'QQ-Plot for Age')"
      ]
     },
     "execution_count": 54,
     "metadata": {},
     "output_type": "execute_result"
    },
    {
     "data": {
      "image/png": "[encoded data removed]",
      "text/plain": [
       "<Figure size 1152x504 with 2 Axes>"
      ]
     },
     "metadata": {
      "needs_background": "light"
     },
     "output_type": "display_data"
    }
   ],
   "source": [
    "fig, ax = plt.subplots(figsize=(16, 7), nrows=1, ncols=2)\n",
    "\n",
    "ax1 = sns.distplot(np.log1p(train_data.Age_of_employment), fit=norm, color='gray', bins=10, ax=ax[0])\n",
    "ax1.set_title('Age Distribution', size=18)\n",
    "ax1.set_xlabel('Age', size=15)\n",
    "ax1.set_ylabel('Frequency', size=15)\n",
    "\n",
    "ax2 = ax[1]\n",
    "stats.probplot(np.log1p(train_data['Age_of_employment']), plot = ax2)\n",
    "ax2.set_title('QQ-Plot for Age', size=18)"
   ]
  },
  {
   "cell_type": "code",
   "execution_count": 55,
   "metadata": {},
   "outputs": [],
   "source": [
    "train_data['Age_of_employment'] = np.log1p(train_data['Age_of_employment'])\n",
    "test_data['Age_of_employment'] = np.log1p(test_data['Age_of_employment'])"
   ]
  },
  {
   "cell_type": "code",
   "execution_count": null,
   "metadata": {},
   "outputs": [],
   "source": []
  },
  {
   "cell_type": "code",
   "execution_count": 56,
   "metadata": {},
   "outputs": [
    {
     "data": {
      "text/plain": [
       "Text(0.5, 1.0, 'QQ-Plot for Age')"
      ]
     },
     "execution_count": 56,
     "metadata": {},
     "output_type": "execute_result"
    },
    {
     "data": {
      "image/png": "[encoded data removed]",
      "text/plain": [
       "<Figure size 1152x504 with 4 Axes>"
      ]
     },
     "metadata": {
      "needs_background": "light"
     },
     "output_type": "display_data"
    }
   ],
   "source": [
    "fig, ax = plt.subplots(figsize=(16, 7), nrows=2, ncols=2)\n",
    "\n",
    "ax1 = sns.distplot(train_data.Train_score_avg_per_age, fit=norm, color='gray', bins=10, ax=ax[0][0])\n",
    "ax1.set_title('Age Distribution', size=18)\n",
    "ax1.set_xlabel('Age', size=15)\n",
    "ax1.set_ylabel('Frequency', size=15)\n",
    "\n",
    "ax2 = ax[0][1]\n",
    "stats.probplot(train_data['Train_score_avg_per_age'], plot = ax2)\n",
    "ax2.set_title('QQ-Plot for Age', size=18)\n",
    "\n",
    "ax3 = sns.distplot((train_data.Train_score_avg_per_age**(1/4)), fit=norm, color='gray', bins=10, ax=ax[1][0])\n",
    "ax3.set_title('Age Distribution', size=18)\n",
    "ax3.set_xlabel('Age', size=15)\n",
    "ax3.set_ylabel('Frequency', size=15)\n",
    "\n",
    "ax4 = ax[1][1]\n",
    "stats.probplot((train_data['Train_score_avg_per_age']**(1/4)), plot = ax4)\n",
    "ax4.set_title('QQ-Plot for Age', size=18)"
   ]
  },
  {
   "cell_type": "code",
   "execution_count": 57,
   "metadata": {},
   "outputs": [],
   "source": [
    "train_data['Train_score_avg_per_age'] = train_data['Train_score_avg_per_age']**(1/4)\n",
    "test_data['Train_score_avg_per_age'] = test_data['Train_score_avg_per_age']**(1/4)"
   ]
  },
  {
   "cell_type": "code",
   "execution_count": 58,
   "metadata": {},
   "outputs": [],
   "source": [
    "train_data['Last_perf_score_per_train_score'] = train_data['Last_perf_score_per_train_score']**(1/3)\n",
    "test_data['Last_perf_score_per_train_score'] = test_data['Last_perf_score_per_train_score']**(1/3)"
   ]
  },
  {
   "cell_type": "code",
   "execution_count": null,
   "metadata": {},
   "outputs": [],
   "source": []
  },
  {
   "cell_type": "code",
   "execution_count": 60,
   "metadata": {},
   "outputs": [],
   "source": [
    "cols = [\n",
    "    'Targets_met', 'Previous_Award', 'Foreign_schooled', 'Past_Disciplinary_Action', \n",
    "    'Previous_IntraDepartmental_Movement', 'Target_Award'\n",
    "]\n",
    "\n",
    "for i in cols:\n",
    "    train_data[i] = train_data[i].astype(str)\n",
    "    test_data[i] = test_data[i].astype(str)"
   ]
  },
  {
   "cell_type": "code",
   "execution_count": null,
   "metadata": {},
   "outputs": [],
   "source": []
  },
  {
   "cell_type": "code",
   "execution_count": 63,
   "metadata": {},
   "outputs": [],
   "source": [
    "promoted_or_not = train_data['Promoted_or_Not']\n",
    "\n",
    "train_num = train_data.drop('Promoted_or_Not', axis=1).select_dtypes(exclude='object')\n",
    "test_num = test_data.select_dtypes(exclude='object')\n",
    "\n",
    "train_cat = train_data.select_dtypes(include='object')\n",
    "test_cat = test_data.select_dtypes(include='object')\n",
    "\n",
    "train_cat['label'] = 1\n",
    "test_cat['label'] = 0"
   ]
  },
  {
   "cell_type": "code",
   "execution_count": 64,
   "metadata": {},
   "outputs": [],
   "source": [
    "combined = pd.concat([train_cat, test_cat], axis=0)#.reset_index(drop=True)"
   ]
  },
  {
   "cell_type": "code",
   "execution_count": 65,
   "metadata": {},
   "outputs": [],
   "source": [
    "combined = pd.get_dummies(combined, columns=combined.columns[:-1], drop_first=True)\n",
    "\n",
    "train_cat = combined[combined['label']==1]\n",
    "test_cat = combined[combined['label']==0]"
   ]
  },
  {
   "cell_type": "code",
   "execution_count": 66,
   "metadata": {},
   "outputs": [],
   "source": [
    "train_cat.drop('label', axis=1, inplace=True)\n",
    "test_cat.drop('label', axis=1, inplace=True)"
   ]
  },
  {
   "cell_type": "code",
   "execution_count": 67,
   "metadata": {},
   "outputs": [],
   "source": [
    "train_data = pd.concat([train_num, train_cat, promoted_or_not], axis=1)\n",
    "test_data = pd.concat([test_num, test_cat], axis=1)"
   ]
  },
  {
   "cell_type": "code",
   "execution_count": 68,
   "metadata": {},
   "outputs": [
    {
     "data": {
      "text/plain": [
       "(38312, 123)"
      ]
     },
     "execution_count": 68,
     "metadata": {},
     "output_type": "execute_result"
    }
   ],
   "source": [
    "train_data.shape"
   ]
  },
  {
   "cell_type": "code",
   "execution_count": 69,
   "metadata": {},
   "outputs": [
    {
     "data": {
      "text/plain": [
       "(16496, 122)"
      ]
     },
     "execution_count": 69,
     "metadata": {},
     "output_type": "execute_result"
    }
   ],
   "source": [
    "test_data.shape"
   ]
  },
  {
   "cell_type": "code",
   "execution_count": 70,
   "metadata": {},
   "outputs": [
    {
     "data": {
      "text/html": [
       "<div>\n",
       "<style scoped>\n",
       "    .dataframe tbody tr th:only-of-type {\n",
       "        vertical-align: middle;\n",
       "    }\n",
       "\n",
       "    .dataframe tbody tr th {\n",
       "        vertical-align: top;\n",
       "    }\n",
       "\n",
       "    .dataframe thead th {\n",
       "        text-align: right;\n",
       "    }\n",
       "</style>\n",
       "<table border=\"1\" class=\"dataframe\">\n",
       "  <thead>\n",
       "    <tr style=\"text-align: right;\">\n",
       "      <th></th>\n",
       "      <th>Trainings_Attended</th>\n",
       "      <th>Last_performance_score</th>\n",
       "      <th>Training_score_average</th>\n",
       "      <th>Age_of_employment</th>\n",
       "      <th>Train_score_avg_per_age</th>\n",
       "      <th>Last_perf_score_per_trainings</th>\n",
       "      <th>Last_perf_score_per_train_score</th>\n",
       "      <th>Penalty</th>\n",
       "      <th>Disappointing</th>\n",
       "      <th>Discipline_change_Dept</th>\n",
       "      <th>...</th>\n",
       "      <th>Previous_IntraDepartmental_Movement_1</th>\n",
       "      <th>No_of_previous_employers_1</th>\n",
       "      <th>No_of_previous_employers_2</th>\n",
       "      <th>No_of_previous_employers_3</th>\n",
       "      <th>No_of_previous_employers_4</th>\n",
       "      <th>No_of_previous_employers_5</th>\n",
       "      <th>No_of_previous_employers_7</th>\n",
       "      <th>Target_Award_1</th>\n",
       "      <th>Target_Award_2</th>\n",
       "      <th>Promoted_or_Not</th>\n",
       "    </tr>\n",
       "  </thead>\n",
       "  <tbody>\n",
       "    <tr>\n",
       "      <th>0</th>\n",
       "      <td>2</td>\n",
       "      <td>12.5</td>\n",
       "      <td>41</td>\n",
       "      <td>3.258097</td>\n",
       "      <td>1.131647</td>\n",
       "      <td>6.250000</td>\n",
       "      <td>0.673042</td>\n",
       "      <td>2</td>\n",
       "      <td>2</td>\n",
       "      <td>0</td>\n",
       "      <td>...</td>\n",
       "      <td>0</td>\n",
       "      <td>0</td>\n",
       "      <td>0</td>\n",
       "      <td>0</td>\n",
       "      <td>0</td>\n",
       "      <td>0</td>\n",
       "      <td>0</td>\n",
       "      <td>1</td>\n",
       "      <td>0</td>\n",
       "      <td>0</td>\n",
       "    </tr>\n",
       "    <tr>\n",
       "      <th>1</th>\n",
       "      <td>2</td>\n",
       "      <td>12.5</td>\n",
       "      <td>52</td>\n",
       "      <td>3.218876</td>\n",
       "      <td>1.213244</td>\n",
       "      <td>6.250000</td>\n",
       "      <td>0.621778</td>\n",
       "      <td>2</td>\n",
       "      <td>3</td>\n",
       "      <td>0</td>\n",
       "      <td>...</td>\n",
       "      <td>0</td>\n",
       "      <td>0</td>\n",
       "      <td>0</td>\n",
       "      <td>0</td>\n",
       "      <td>0</td>\n",
       "      <td>0</td>\n",
       "      <td>0</td>\n",
       "      <td>0</td>\n",
       "      <td>0</td>\n",
       "      <td>0</td>\n",
       "    </tr>\n",
       "    <tr>\n",
       "      <th>2</th>\n",
       "      <td>2</td>\n",
       "      <td>7.5</td>\n",
       "      <td>42</td>\n",
       "      <td>3.258097</td>\n",
       "      <td>1.138485</td>\n",
       "      <td>3.750000</td>\n",
       "      <td>0.563124</td>\n",
       "      <td>2</td>\n",
       "      <td>3</td>\n",
       "      <td>0</td>\n",
       "      <td>...</td>\n",
       "      <td>0</td>\n",
       "      <td>0</td>\n",
       "      <td>0</td>\n",
       "      <td>0</td>\n",
       "      <td>0</td>\n",
       "      <td>0</td>\n",
       "      <td>0</td>\n",
       "      <td>0</td>\n",
       "      <td>0</td>\n",
       "      <td>0</td>\n",
       "    </tr>\n",
       "    <tr>\n",
       "      <th>3</th>\n",
       "      <td>3</td>\n",
       "      <td>2.5</td>\n",
       "      <td>42</td>\n",
       "      <td>3.332205</td>\n",
       "      <td>1.116790</td>\n",
       "      <td>0.833333</td>\n",
       "      <td>0.390448</td>\n",
       "      <td>2</td>\n",
       "      <td>3</td>\n",
       "      <td>0</td>\n",
       "      <td>...</td>\n",
       "      <td>0</td>\n",
       "      <td>1</td>\n",
       "      <td>0</td>\n",
       "      <td>0</td>\n",
       "      <td>0</td>\n",
       "      <td>0</td>\n",
       "      <td>0</td>\n",
       "      <td>0</td>\n",
       "      <td>0</td>\n",
       "      <td>0</td>\n",
       "    </tr>\n",
       "    <tr>\n",
       "      <th>4</th>\n",
       "      <td>3</td>\n",
       "      <td>7.5</td>\n",
       "      <td>77</td>\n",
       "      <td>3.135494</td>\n",
       "      <td>1.367782</td>\n",
       "      <td>2.500000</td>\n",
       "      <td>0.460105</td>\n",
       "      <td>2</td>\n",
       "      <td>3</td>\n",
       "      <td>0</td>\n",
       "      <td>...</td>\n",
       "      <td>0</td>\n",
       "      <td>1</td>\n",
       "      <td>0</td>\n",
       "      <td>0</td>\n",
       "      <td>0</td>\n",
       "      <td>0</td>\n",
       "      <td>0</td>\n",
       "      <td>0</td>\n",
       "      <td>0</td>\n",
       "      <td>0</td>\n",
       "    </tr>\n",
       "  </tbody>\n",
       "</table>\n",
       "<p>5 rows × 123 columns</p>\n",
       "</div>"
      ],
      "text/plain": [
       "   Trainings_Attended  Last_performance_score  Training_score_average  \\\n",
       "0                   2                    12.5                      41   \n",
       "1                   2                    12.5                      52   \n",
       "2                   2                     7.5                      42   \n",
       "3                   3                     2.5                      42   \n",
       "4                   3                     7.5                      77   \n",
       "\n",
       "   Age_of_employment  Train_score_avg_per_age  Last_perf_score_per_trainings  \\\n",
       "0           3.258097                 1.131647                       6.250000   \n",
       "1           3.218876                 1.213244                       6.250000   \n",
       "2           3.258097                 1.138485                       3.750000   \n",
       "3           3.332205                 1.116790                       0.833333   \n",
       "4           3.135494                 1.367782                       2.500000   \n",
       "\n",
       "   Last_perf_score_per_train_score  Penalty  Disappointing  \\\n",
       "0                         0.673042        2              2   \n",
       "1                         0.621778        2              3   \n",
       "2                         0.563124        2              3   \n",
       "3                         0.390448        2              3   \n",
       "4                         0.460105        2              3   \n",
       "\n",
       "   Discipline_change_Dept  ...  Previous_IntraDepartmental_Movement_1  \\\n",
       "0                       0  ...                                      0   \n",
       "1                       0  ...                                      0   \n",
       "2                       0  ...                                      0   \n",
       "3                       0  ...                                      0   \n",
       "4                       0  ...                                      0   \n",
       "\n",
       "   No_of_previous_employers_1  No_of_previous_employers_2  \\\n",
       "0                           0                           0   \n",
       "1                           0                           0   \n",
       "2                           0                           0   \n",
       "3                           1                           0   \n",
       "4                           1                           0   \n",
       "\n",
       "   No_of_previous_employers_3  No_of_previous_employers_4  \\\n",
       "0                           0                           0   \n",
       "1                           0                           0   \n",
       "2                           0                           0   \n",
       "3                           0                           0   \n",
       "4                           0                           0   \n",
       "\n",
       "   No_of_previous_employers_5  No_of_previous_employers_7  Target_Award_1  \\\n",
       "0                           0                           0               1   \n",
       "1                           0                           0               0   \n",
       "2                           0                           0               0   \n",
       "3                           0                           0               0   \n",
       "4                           0                           0               0   \n",
       "\n",
       "   Target_Award_2  Promoted_or_Not  \n",
       "0               0                0  \n",
       "1               0                0  \n",
       "2               0                0  \n",
       "3               0                0  \n",
       "4               0                0  \n",
       "\n",
       "[5 rows x 123 columns]"
      ]
     },
     "execution_count": 70,
     "metadata": {},
     "output_type": "execute_result"
    }
   ],
   "source": [
    "train_data.head()"
   ]
  },
  {
   "cell_type": "code",
   "execution_count": null,
   "metadata": {},
   "outputs": [],
   "source": []
  },
  {
   "cell_type": "code",
   "execution_count": 71,
   "metadata": {},
   "outputs": [],
   "source": [
    "X, y = train_data.drop('Promoted_or_Not', axis=1), train_data['Promoted_or_Not']\n",
    "\n",
    "X_train, X_test, y_train, y_test = train_test_split(X, y, stratify=y, test_size=0.25, random_state=42)"
   ]
  },
  {
   "cell_type": "code",
   "execution_count": null,
   "metadata": {},
   "outputs": [],
   "source": []
  },
  {
   "cell_type": "code",
   "execution_count": 72,
   "metadata": {},
   "outputs": [
    {
     "data": {
      "text/plain": [
       "Counter({1: 2431, 0: 26303})"
      ]
     },
     "execution_count": 72,
     "metadata": {},
     "output_type": "execute_result"
    }
   ],
   "source": [
    "Counter(y_train)"
   ]
  },
  {
   "cell_type": "code",
   "execution_count": 73,
   "metadata": {},
   "outputs": [
    {
     "data": {
      "text/plain": [
       "10.819827231591937"
      ]
     },
     "execution_count": 73,
     "metadata": {},
     "output_type": "execute_result"
    }
   ],
   "source": [
    "26303/2431"
   ]
  },
  {
   "cell_type": "code",
   "execution_count": null,
   "metadata": {},
   "outputs": [],
   "source": []
  },
  {
   "cell_type": "code",
   "execution_count": 76,
   "metadata": {},
   "outputs": [],
   "source": [
    "from sklearn.ensemble import RandomForestClassifier\n",
    "from sklearn.tree import DecisionTreeClassifier\n",
    "import xgboost as xgb\n",
    "import lightgbm as lgb\n",
    "from catboost import CatBoostClassifier\n",
    "from sklearn.svm import SVC\n",
    "from sklearn.linear_model import LogisticRegression\n",
    "from sklearn.ensemble import ExtraTreesClassifier\n",
    "from sklearn.ensemble import BaggingClassifier\n",
    "from sklearn.ensemble import GradientBoostingClassifier\n",
    "from sklearn.ensemble import AdaBoostClassifier\n",
    "\n",
    "from sklearn.ensemble import VotingClassifier"
   ]
  },
  {
   "cell_type": "code",
   "execution_count": 77,
   "metadata": {},
   "outputs": [],
   "source": [
    "from imblearn.over_sampling import SMOTE, RandomOverSampler\n",
    "from imblearn.under_sampling import RandomUnderSampler, NearMiss\n",
    "from imblearn.pipeline import Pipeline, make_pipeline\n",
    "\n",
    "from sklearn.feature_selection import SelectKBest\n",
    "from sklearn.feature_selection import chi2, f_classif\n",
    "from sklearn.feature_selection import RFE\n",
    "from sklearn.feature_selection import SelectFromModel\n",
    "\n",
    "import mlxtend\n",
    "from mlxtend.feature_selection import SequentialFeatureSelector as SFS\n",
    "from sklearn.pipeline import Pipeline"
   ]
  },
  {
   "cell_type": "code",
   "execution_count": null,
   "metadata": {},
   "outputs": [],
   "source": []
  },
  {
   "cell_type": "code",
   "execution_count": null,
   "metadata": {},
   "outputs": [],
   "source": []
  },
  {
   "cell_type": "markdown",
   "metadata": {},
   "source": [
    "<h3>Catboost</h3>"
   ]
  },
  {
   "cell_type": "code",
   "execution_count": 83,
   "metadata": {},
   "outputs": [
    {
     "data": {
      "text/plain": [
       "0.4979276414763484"
      ]
     },
     "execution_count": 83,
     "metadata": {},
     "output_type": "execute_result"
    }
   ],
   "source": [
    "boost = CatBoostClassifier(iterations=950, depth=6, learning_rate=0.052)\n",
    "\n",
    "cross_val_score(boost, X_train, y_train, cv=StratifiedKFold(n_splits=5), scoring='f1', n_jobs=-1).mean()"
   ]
  },
  {
   "cell_type": "code",
   "execution_count": 84,
   "metadata": {},
   "outputs": [
    {
     "name": "stdout",
     "output_type": "stream",
     "text": [
      "0:\tlearn: 0.6305408\ttotal: 260ms\tremaining: 4m 6s\n",
      "1:\tlearn: 0.5757919\ttotal: 424ms\tremaining: 3m 21s\n",
      "2:\tlearn: 0.5213354\ttotal: 632ms\tremaining: 3m 19s\n",
      "3:\tlearn: 0.4862177\ttotal: 856ms\tremaining: 3m 22s\n",
      "4:\tlearn: 0.4579333\ttotal: 1.1s\tremaining: 3m 27s\n",
      "5:\tlearn: 0.4249428\ttotal: 1.31s\tremaining: 3m 26s\n",
      "6:\tlearn: 0.4026972\ttotal: 1.56s\tremaining: 3m 30s\n",
      "7:\tlearn: 0.3802329\ttotal: 1.77s\tremaining: 3m 28s\n",
      "8:\tlearn: 0.3620510\ttotal: 1.98s\tremaining: 3m 27s\n",
      "9:\tlearn: 0.3441887\ttotal: 2.21s\tremaining: 3m 27s\n",
      "10:\tlearn: 0.3246054\ttotal: 2.42s\tremaining: 3m 26s\n",
      "11:\tlearn: 0.3141791\ttotal: 2.67s\tremaining: 3m 28s\n",
      "12:\tlearn: 0.3044113\ttotal: 2.87s\tremaining: 3m 26s\n",
      "13:\tlearn: 0.2963128\ttotal: 3.08s\tremaining: 3m 26s\n",
      "14:\tlearn: 0.2875313\ttotal: 3.29s\tremaining: 3m 24s\n",
      "15:\tlearn: 0.2807474\ttotal: 3.51s\tremaining: 3m 24s\n",
      "16:\tlearn: 0.2756109\ttotal: 3.73s\tremaining: 3m 24s\n",
      "17:\tlearn: 0.2686868\ttotal: 3.96s\tremaining: 3m 25s\n",
      "18:\tlearn: 0.2616321\ttotal: 4.19s\tremaining: 3m 25s\n",
      "19:\tlearn: 0.2566024\ttotal: 4.39s\tremaining: 3m 24s\n",
      "20:\tlearn: 0.2519545\ttotal: 4.6s\tremaining: 3m 23s\n",
      "21:\tlearn: 0.2421172\ttotal: 4.81s\tremaining: 3m 22s\n",
      "22:\tlearn: 0.2394157\ttotal: 5.02s\tremaining: 3m 22s\n",
      "23:\tlearn: 0.2372665\ttotal: 5.21s\tremaining: 3m 21s\n",
      "24:\tlearn: 0.2343188\ttotal: 5.43s\tremaining: 3m 20s\n",
      "25:\tlearn: 0.2308827\ttotal: 5.59s\tremaining: 3m 18s\n",
      "26:\tlearn: 0.2277850\ttotal: 5.8s\tremaining: 3m 18s\n",
      "27:\tlearn: 0.2263420\ttotal: 5.97s\tremaining: 3m 16s\n",
      "28:\tlearn: 0.2215457\ttotal: 6.2s\tremaining: 3m 16s\n",
      "29:\tlearn: 0.2193596\ttotal: 6.37s\tremaining: 3m 15s\n",
      "30:\tlearn: 0.2163660\ttotal: 6.59s\tremaining: 3m 15s\n",
      "31:\tlearn: 0.2139380\ttotal: 6.76s\tremaining: 3m 14s\n",
      "32:\tlearn: 0.2106183\ttotal: 6.98s\tremaining: 3m 14s\n",
      "33:\tlearn: 0.2082979\ttotal: 7.17s\tremaining: 3m 13s\n",
      "34:\tlearn: 0.2066249\ttotal: 7.38s\tremaining: 3m 12s\n",
      "35:\tlearn: 0.2038104\ttotal: 7.58s\tremaining: 3m 12s\n",
      "36:\tlearn: 0.2026691\ttotal: 7.79s\tremaining: 3m 12s\n",
      "37:\tlearn: 0.2015627\ttotal: 7.99s\tremaining: 3m 11s\n",
      "38:\tlearn: 0.1991989\ttotal: 8.23s\tremaining: 3m 12s\n",
      "39:\tlearn: 0.1980366\ttotal: 8.4s\tremaining: 3m 11s\n",
      "40:\tlearn: 0.1962678\ttotal: 8.61s\tremaining: 3m 10s\n",
      "41:\tlearn: 0.1951526\ttotal: 8.78s\tremaining: 3m 9s\n",
      "42:\tlearn: 0.1938387\ttotal: 8.99s\tremaining: 3m 9s\n",
      "43:\tlearn: 0.1923117\ttotal: 9.17s\tremaining: 3m 8s\n",
      "44:\tlearn: 0.1913531\ttotal: 9.39s\tremaining: 3m 8s\n",
      "45:\tlearn: 0.1910560\ttotal: 9.56s\tremaining: 3m 7s\n",
      "46:\tlearn: 0.1894933\ttotal: 9.78s\tremaining: 3m 7s\n",
      "47:\tlearn: 0.1882760\ttotal: 9.95s\tremaining: 3m 6s\n",
      "48:\tlearn: 0.1866317\ttotal: 10.2s\tremaining: 3m 7s\n",
      "49:\tlearn: 0.1865174\ttotal: 10.3s\tremaining: 3m 6s\n",
      "50:\tlearn: 0.1854738\ttotal: 10.5s\tremaining: 3m 5s\n",
      "51:\tlearn: 0.1849096\ttotal: 10.7s\tremaining: 3m 5s\n",
      "52:\tlearn: 0.1832191\ttotal: 10.9s\tremaining: 3m 5s\n",
      "53:\tlearn: 0.1824166\ttotal: 11.1s\tremaining: 3m 4s\n",
      "54:\tlearn: 0.1814652\ttotal: 11.3s\tremaining: 3m 4s\n",
      "55:\tlearn: 0.1810735\ttotal: 11.5s\tremaining: 3m 3s\n",
      "56:\tlearn: 0.1804119\ttotal: 11.7s\tremaining: 3m 3s\n",
      "57:\tlearn: 0.1791862\ttotal: 11.9s\tremaining: 3m 2s\n",
      "58:\tlearn: 0.1787509\ttotal: 12.1s\tremaining: 3m 2s\n",
      "59:\tlearn: 0.1783422\ttotal: 12.3s\tremaining: 3m 1s\n",
      "60:\tlearn: 0.1780273\ttotal: 12.4s\tremaining: 3m 1s\n",
      "61:\tlearn: 0.1776770\ttotal: 12.6s\tremaining: 3m 1s\n",
      "62:\tlearn: 0.1774904\ttotal: 12.8s\tremaining: 3m\n",
      "63:\tlearn: 0.1772312\ttotal: 13s\tremaining: 3m\n",
      "64:\tlearn: 0.1768840\ttotal: 13.3s\tremaining: 3m\n",
      "65:\tlearn: 0.1768065\ttotal: 13.4s\tremaining: 2m 59s\n",
      "66:\tlearn: 0.1766726\ttotal: 13.6s\tremaining: 2m 59s\n",
      "67:\tlearn: 0.1765206\ttotal: 13.8s\tremaining: 2m 59s\n",
      "68:\tlearn: 0.1760805\ttotal: 14s\tremaining: 2m 59s\n",
      "69:\tlearn: 0.1758663\ttotal: 14.2s\tremaining: 2m 58s\n",
      "70:\tlearn: 0.1753469\ttotal: 14.4s\tremaining: 2m 58s\n",
      "71:\tlearn: 0.1745734\ttotal: 14.6s\tremaining: 2m 58s\n",
      "72:\tlearn: 0.1741939\ttotal: 14.8s\tremaining: 2m 58s\n",
      "73:\tlearn: 0.1741507\ttotal: 15s\tremaining: 2m 57s\n",
      "74:\tlearn: 0.1739976\ttotal: 15.2s\tremaining: 2m 57s\n",
      "75:\tlearn: 0.1738454\ttotal: 15.4s\tremaining: 2m 57s\n",
      "76:\tlearn: 0.1737969\ttotal: 15.6s\tremaining: 2m 56s\n",
      "77:\tlearn: 0.1734249\ttotal: 15.8s\tremaining: 2m 56s\n",
      "78:\tlearn: 0.1725185\ttotal: 16.1s\tremaining: 2m 57s\n",
      "79:\tlearn: 0.1724920\ttotal: 16.3s\tremaining: 2m 56s\n",
      "80:\tlearn: 0.1724091\ttotal: 16.5s\tremaining: 2m 56s\n",
      "81:\tlearn: 0.1722288\ttotal: 16.7s\tremaining: 2m 56s\n",
      "82:\tlearn: 0.1719242\ttotal: 16.9s\tremaining: 2m 56s\n",
      "83:\tlearn: 0.1718393\ttotal: 17.1s\tremaining: 2m 56s\n",
      "84:\tlearn: 0.1717489\ttotal: 17.3s\tremaining: 2m 56s\n",
      "85:\tlearn: 0.1717074\ttotal: 17.5s\tremaining: 2m 56s\n",
      "86:\tlearn: 0.1716227\ttotal: 17.8s\tremaining: 2m 56s\n",
      "87:\tlearn: 0.1715846\ttotal: 18s\tremaining: 2m 55s\n",
      "88:\tlearn: 0.1714076\ttotal: 18.2s\tremaining: 2m 55s\n",
      "89:\tlearn: 0.1711747\ttotal: 18.4s\tremaining: 2m 55s\n",
      "90:\tlearn: 0.1711519\ttotal: 18.6s\tremaining: 2m 55s\n",
      "91:\tlearn: 0.1710423\ttotal: 18.8s\tremaining: 2m 55s\n",
      "92:\tlearn: 0.1709551\ttotal: 18.9s\tremaining: 2m 54s\n",
      "93:\tlearn: 0.1709166\ttotal: 19.2s\tremaining: 2m 55s\n",
      "94:\tlearn: 0.1709025\ttotal: 19.5s\tremaining: 2m 55s\n",
      "95:\tlearn: 0.1708535\ttotal: 19.7s\tremaining: 2m 55s\n",
      "96:\tlearn: 0.1707950\ttotal: 20s\tremaining: 2m 55s\n",
      "97:\tlearn: 0.1705588\ttotal: 20.3s\tremaining: 2m 56s\n",
      "98:\tlearn: 0.1705360\ttotal: 20.6s\tremaining: 2m 56s\n",
      "99:\tlearn: 0.1704952\ttotal: 20.8s\tremaining: 2m 57s\n",
      "100:\tlearn: 0.1704132\ttotal: 21.1s\tremaining: 2m 57s\n",
      "101:\tlearn: 0.1700753\ttotal: 21.4s\tremaining: 2m 58s\n",
      "102:\tlearn: 0.1700572\ttotal: 21.8s\tremaining: 2m 58s\n",
      "103:\tlearn: 0.1698962\ttotal: 22s\tremaining: 2m 59s\n",
      "104:\tlearn: 0.1698271\ttotal: 22.3s\tremaining: 2m 59s\n",
      "105:\tlearn: 0.1697133\ttotal: 22.6s\tremaining: 3m\n",
      "106:\tlearn: 0.1696723\ttotal: 23s\tremaining: 3m\n",
      "107:\tlearn: 0.1696667\ttotal: 23.1s\tremaining: 3m\n",
      "108:\tlearn: 0.1696139\ttotal: 23.3s\tremaining: 3m\n",
      "109:\tlearn: 0.1695198\ttotal: 23.6s\tremaining: 3m\n",
      "110:\tlearn: 0.1694568\ttotal: 23.8s\tremaining: 2m 59s\n",
      "111:\tlearn: 0.1694279\ttotal: 24s\tremaining: 2m 59s\n",
      "112:\tlearn: 0.1689929\ttotal: 24.2s\tremaining: 2m 59s\n",
      "113:\tlearn: 0.1689292\ttotal: 24.4s\tremaining: 2m 59s\n",
      "114:\tlearn: 0.1688280\ttotal: 24.6s\tremaining: 2m 58s\n",
      "115:\tlearn: 0.1687867\ttotal: 24.9s\tremaining: 2m 58s\n",
      "116:\tlearn: 0.1687571\ttotal: 25.1s\tremaining: 2m 58s\n",
      "117:\tlearn: 0.1687040\ttotal: 25.4s\tremaining: 2m 58s\n",
      "118:\tlearn: 0.1685892\ttotal: 25.6s\tremaining: 2m 58s\n",
      "119:\tlearn: 0.1685056\ttotal: 25.8s\tremaining: 2m 58s\n",
      "120:\tlearn: 0.1683851\ttotal: 26.1s\tremaining: 2m 58s\n",
      "121:\tlearn: 0.1682345\ttotal: 26.2s\tremaining: 2m 58s\n",
      "122:\tlearn: 0.1680305\ttotal: 26.4s\tremaining: 2m 57s\n",
      "123:\tlearn: 0.1679568\ttotal: 26.6s\tremaining: 2m 57s\n",
      "124:\tlearn: 0.1678917\ttotal: 26.8s\tremaining: 2m 56s\n",
      "125:\tlearn: 0.1678836\ttotal: 27s\tremaining: 2m 56s\n",
      "126:\tlearn: 0.1678629\ttotal: 27.2s\tremaining: 2m 56s\n",
      "127:\tlearn: 0.1678151\ttotal: 27.3s\tremaining: 2m 55s\n",
      "128:\tlearn: 0.1677230\ttotal: 27.5s\tremaining: 2m 55s\n",
      "129:\tlearn: 0.1677223\ttotal: 27.7s\tremaining: 2m 54s\n",
      "130:\tlearn: 0.1675909\ttotal: 27.9s\tremaining: 2m 54s\n",
      "131:\tlearn: 0.1674641\ttotal: 28.1s\tremaining: 2m 54s\n",
      "132:\tlearn: 0.1674253\ttotal: 28.4s\tremaining: 2m 54s\n",
      "133:\tlearn: 0.1672667\ttotal: 28.6s\tremaining: 2m 54s\n",
      "134:\tlearn: 0.1672481\ttotal: 28.8s\tremaining: 2m 53s\n",
      "135:\tlearn: 0.1670409\ttotal: 29s\tremaining: 2m 53s\n",
      "136:\tlearn: 0.1670052\ttotal: 29.2s\tremaining: 2m 53s\n",
      "137:\tlearn: 0.1669276\ttotal: 29.3s\tremaining: 2m 52s\n",
      "138:\tlearn: 0.1669051\ttotal: 29.5s\tremaining: 2m 52s\n",
      "139:\tlearn: 0.1667216\ttotal: 29.7s\tremaining: 2m 52s\n",
      "140:\tlearn: 0.1666313\ttotal: 29.9s\tremaining: 2m 51s\n",
      "141:\tlearn: 0.1665847\ttotal: 30.1s\tremaining: 2m 51s\n",
      "142:\tlearn: 0.1665727\ttotal: 30.3s\tremaining: 2m 51s\n",
      "143:\tlearn: 0.1664604\ttotal: 30.5s\tremaining: 2m 50s\n",
      "144:\tlearn: 0.1663245\ttotal: 30.7s\tremaining: 2m 50s\n",
      "145:\tlearn: 0.1662079\ttotal: 30.9s\tremaining: 2m 49s\n",
      "146:\tlearn: 0.1661312\ttotal: 31.1s\tremaining: 2m 49s\n",
      "147:\tlearn: 0.1660097\ttotal: 31.3s\tremaining: 2m 49s\n",
      "148:\tlearn: 0.1659365\ttotal: 31.5s\tremaining: 2m 49s\n",
      "149:\tlearn: 0.1658690\ttotal: 31.8s\tremaining: 2m 49s\n",
      "150:\tlearn: 0.1658443\ttotal: 32s\tremaining: 2m 49s\n",
      "151:\tlearn: 0.1658076\ttotal: 32.3s\tremaining: 2m 49s\n",
      "152:\tlearn: 0.1658059\ttotal: 32.5s\tremaining: 2m 49s\n",
      "153:\tlearn: 0.1657052\ttotal: 32.8s\tremaining: 2m 49s\n",
      "154:\tlearn: 0.1655299\ttotal: 33.1s\tremaining: 2m 49s\n",
      "155:\tlearn: 0.1654679\ttotal: 33.4s\tremaining: 2m 49s\n",
      "156:\tlearn: 0.1653573\ttotal: 33.7s\tremaining: 2m 50s\n",
      "157:\tlearn: 0.1653269\ttotal: 33.9s\tremaining: 2m 49s\n",
      "158:\tlearn: 0.1652743\ttotal: 34.3s\tremaining: 2m 50s\n"
     ]
    },
    {
     "name": "stdout",
     "output_type": "stream",
     "text": [
      "159:\tlearn: 0.1651207\ttotal: 34.6s\tremaining: 2m 50s\n",
      "160:\tlearn: 0.1650940\ttotal: 34.9s\tremaining: 2m 50s\n",
      "161:\tlearn: 0.1650451\ttotal: 35.2s\tremaining: 2m 50s\n",
      "162:\tlearn: 0.1650426\ttotal: 35.4s\tremaining: 2m 50s\n",
      "163:\tlearn: 0.1649660\ttotal: 35.6s\tremaining: 2m 50s\n",
      "164:\tlearn: 0.1648880\ttotal: 35.8s\tremaining: 2m 50s\n",
      "165:\tlearn: 0.1648761\ttotal: 36s\tremaining: 2m 49s\n",
      "166:\tlearn: 0.1647726\ttotal: 36.2s\tremaining: 2m 49s\n",
      "167:\tlearn: 0.1645923\ttotal: 36.4s\tremaining: 2m 49s\n",
      "168:\tlearn: 0.1645603\ttotal: 36.6s\tremaining: 2m 48s\n",
      "169:\tlearn: 0.1644786\ttotal: 36.8s\tremaining: 2m 48s\n",
      "170:\tlearn: 0.1644510\ttotal: 37s\tremaining: 2m 48s\n",
      "171:\tlearn: 0.1644424\ttotal: 37.2s\tremaining: 2m 48s\n",
      "172:\tlearn: 0.1644295\ttotal: 37.4s\tremaining: 2m 47s\n",
      "173:\tlearn: 0.1643675\ttotal: 37.6s\tremaining: 2m 47s\n",
      "174:\tlearn: 0.1643672\ttotal: 37.7s\tremaining: 2m 46s\n",
      "175:\tlearn: 0.1642974\ttotal: 37.9s\tremaining: 2m 46s\n",
      "176:\tlearn: 0.1642766\ttotal: 38.1s\tremaining: 2m 46s\n",
      "177:\tlearn: 0.1642348\ttotal: 38.3s\tremaining: 2m 45s\n",
      "178:\tlearn: 0.1642067\ttotal: 38.4s\tremaining: 2m 45s\n",
      "179:\tlearn: 0.1641577\ttotal: 38.6s\tremaining: 2m 45s\n",
      "180:\tlearn: 0.1641399\ttotal: 38.8s\tremaining: 2m 44s\n",
      "181:\tlearn: 0.1641140\ttotal: 39s\tremaining: 2m 44s\n",
      "182:\tlearn: 0.1640755\ttotal: 39.1s\tremaining: 2m 44s\n",
      "183:\tlearn: 0.1640317\ttotal: 39.3s\tremaining: 2m 43s\n",
      "184:\tlearn: 0.1639499\ttotal: 39.6s\tremaining: 2m 43s\n",
      "185:\tlearn: 0.1638990\ttotal: 39.8s\tremaining: 2m 43s\n",
      "186:\tlearn: 0.1638382\ttotal: 40.1s\tremaining: 2m 43s\n",
      "187:\tlearn: 0.1637316\ttotal: 40.4s\tremaining: 2m 43s\n",
      "188:\tlearn: 0.1637211\ttotal: 40.7s\tremaining: 2m 43s\n",
      "189:\tlearn: 0.1637005\ttotal: 40.9s\tremaining: 2m 43s\n",
      "190:\tlearn: 0.1636694\ttotal: 41.2s\tremaining: 2m 43s\n",
      "191:\tlearn: 0.1635127\ttotal: 41.4s\tremaining: 2m 43s\n",
      "192:\tlearn: 0.1635028\ttotal: 41.7s\tremaining: 2m 43s\n",
      "193:\tlearn: 0.1634728\ttotal: 42s\tremaining: 2m 43s\n",
      "194:\tlearn: 0.1634541\ttotal: 42.3s\tremaining: 2m 43s\n",
      "195:\tlearn: 0.1634415\ttotal: 42.5s\tremaining: 2m 43s\n",
      "196:\tlearn: 0.1633534\ttotal: 42.8s\tremaining: 2m 43s\n",
      "197:\tlearn: 0.1632654\ttotal: 43s\tremaining: 2m 43s\n",
      "198:\tlearn: 0.1632506\ttotal: 43.3s\tremaining: 2m 43s\n",
      "199:\tlearn: 0.1632167\ttotal: 43.5s\tremaining: 2m 43s\n",
      "200:\tlearn: 0.1632046\ttotal: 43.7s\tremaining: 2m 42s\n",
      "201:\tlearn: 0.1631959\ttotal: 43.9s\tremaining: 2m 42s\n",
      "202:\tlearn: 0.1631846\ttotal: 44.1s\tremaining: 2m 42s\n",
      "203:\tlearn: 0.1631811\ttotal: 44.2s\tremaining: 2m 41s\n",
      "204:\tlearn: 0.1631445\ttotal: 44.4s\tremaining: 2m 41s\n",
      "205:\tlearn: 0.1631138\ttotal: 44.6s\tremaining: 2m 41s\n",
      "206:\tlearn: 0.1631006\ttotal: 44.8s\tremaining: 2m 40s\n",
      "207:\tlearn: 0.1630898\ttotal: 45s\tremaining: 2m 40s\n",
      "208:\tlearn: 0.1630489\ttotal: 45.2s\tremaining: 2m 40s\n",
      "209:\tlearn: 0.1630335\ttotal: 45.4s\tremaining: 2m 40s\n",
      "210:\tlearn: 0.1630197\ttotal: 45.6s\tremaining: 2m 39s\n",
      "211:\tlearn: 0.1629432\ttotal: 45.8s\tremaining: 2m 39s\n",
      "212:\tlearn: 0.1628710\ttotal: 46s\tremaining: 2m 39s\n",
      "213:\tlearn: 0.1627989\ttotal: 46.2s\tremaining: 2m 38s\n",
      "214:\tlearn: 0.1627897\ttotal: 46.4s\tremaining: 2m 38s\n",
      "215:\tlearn: 0.1627249\ttotal: 46.6s\tremaining: 2m 38s\n",
      "216:\tlearn: 0.1626571\ttotal: 46.8s\tremaining: 2m 38s\n",
      "217:\tlearn: 0.1625863\ttotal: 47s\tremaining: 2m 37s\n",
      "218:\tlearn: 0.1625173\ttotal: 47.2s\tremaining: 2m 37s\n",
      "219:\tlearn: 0.1624515\ttotal: 47.3s\tremaining: 2m 37s\n",
      "220:\tlearn: 0.1624465\ttotal: 47.5s\tremaining: 2m 36s\n",
      "221:\tlearn: 0.1623893\ttotal: 47.8s\tremaining: 2m 36s\n",
      "222:\tlearn: 0.1623768\ttotal: 48s\tremaining: 2m 36s\n",
      "223:\tlearn: 0.1623369\ttotal: 48.3s\tremaining: 2m 36s\n",
      "224:\tlearn: 0.1623361\ttotal: 48.5s\tremaining: 2m 36s\n",
      "225:\tlearn: 0.1622994\ttotal: 48.8s\tremaining: 2m 36s\n",
      "226:\tlearn: 0.1622951\ttotal: 49.1s\tremaining: 2m 36s\n",
      "227:\tlearn: 0.1621752\ttotal: 49.4s\tremaining: 2m 36s\n",
      "228:\tlearn: 0.1621086\ttotal: 49.6s\tremaining: 2m 36s\n",
      "229:\tlearn: 0.1620816\ttotal: 49.9s\tremaining: 2m 36s\n",
      "230:\tlearn: 0.1619778\ttotal: 50.1s\tremaining: 2m 36s\n",
      "231:\tlearn: 0.1619079\ttotal: 50.5s\tremaining: 2m 36s\n",
      "232:\tlearn: 0.1619062\ttotal: 50.7s\tremaining: 2m 36s\n",
      "233:\tlearn: 0.1618744\ttotal: 51s\tremaining: 2m 36s\n",
      "234:\tlearn: 0.1618229\ttotal: 51.2s\tremaining: 2m 35s\n",
      "235:\tlearn: 0.1617976\ttotal: 51.5s\tremaining: 2m 35s\n",
      "236:\tlearn: 0.1617258\ttotal: 51.8s\tremaining: 2m 35s\n",
      "237:\tlearn: 0.1616718\ttotal: 52s\tremaining: 2m 35s\n",
      "238:\tlearn: 0.1615534\ttotal: 52.2s\tremaining: 2m 35s\n",
      "239:\tlearn: 0.1615160\ttotal: 52.3s\tremaining: 2m 34s\n",
      "240:\tlearn: 0.1614736\ttotal: 52.5s\tremaining: 2m 34s\n",
      "241:\tlearn: 0.1614105\ttotal: 52.7s\tremaining: 2m 34s\n",
      "242:\tlearn: 0.1613690\ttotal: 52.9s\tremaining: 2m 33s\n",
      "243:\tlearn: 0.1613649\ttotal: 53s\tremaining: 2m 33s\n",
      "244:\tlearn: 0.1612623\ttotal: 53.2s\tremaining: 2m 33s\n",
      "245:\tlearn: 0.1612218\ttotal: 53.4s\tremaining: 2m 32s\n",
      "246:\tlearn: 0.1611877\ttotal: 53.5s\tremaining: 2m 32s\n",
      "247:\tlearn: 0.1611668\ttotal: 53.7s\tremaining: 2m 32s\n",
      "248:\tlearn: 0.1610871\ttotal: 53.9s\tremaining: 2m 31s\n",
      "249:\tlearn: 0.1610539\ttotal: 54.1s\tremaining: 2m 31s\n",
      "250:\tlearn: 0.1610194\ttotal: 54.3s\tremaining: 2m 31s\n",
      "251:\tlearn: 0.1610021\ttotal: 54.4s\tremaining: 2m 30s\n",
      "252:\tlearn: 0.1609933\ttotal: 54.6s\tremaining: 2m 30s\n",
      "253:\tlearn: 0.1609120\ttotal: 54.8s\tremaining: 2m 30s\n",
      "254:\tlearn: 0.1609097\ttotal: 55s\tremaining: 2m 29s\n",
      "255:\tlearn: 0.1609084\ttotal: 55.2s\tremaining: 2m 29s\n",
      "256:\tlearn: 0.1608545\ttotal: 55.5s\tremaining: 2m 29s\n",
      "257:\tlearn: 0.1608128\ttotal: 55.7s\tremaining: 2m 29s\n",
      "258:\tlearn: 0.1608093\ttotal: 56s\tremaining: 2m 29s\n",
      "259:\tlearn: 0.1607924\ttotal: 56.3s\tremaining: 2m 29s\n",
      "260:\tlearn: 0.1607396\ttotal: 56.7s\tremaining: 2m 29s\n",
      "261:\tlearn: 0.1607346\ttotal: 57s\tremaining: 2m 29s\n",
      "262:\tlearn: 0.1606907\ttotal: 57.3s\tremaining: 2m 29s\n",
      "263:\tlearn: 0.1606204\ttotal: 57.6s\tremaining: 2m 29s\n",
      "264:\tlearn: 0.1606032\ttotal: 57.9s\tremaining: 2m 29s\n",
      "265:\tlearn: 0.1605659\ttotal: 58.3s\tremaining: 2m 29s\n",
      "266:\tlearn: 0.1604530\ttotal: 58.7s\tremaining: 2m 30s\n",
      "267:\tlearn: 0.1604452\ttotal: 58.9s\tremaining: 2m 29s\n",
      "268:\tlearn: 0.1604233\ttotal: 59.2s\tremaining: 2m 29s\n",
      "269:\tlearn: 0.1603781\ttotal: 59.4s\tremaining: 2m 29s\n",
      "270:\tlearn: 0.1603367\ttotal: 59.7s\tremaining: 2m 29s\n",
      "271:\tlearn: 0.1600834\ttotal: 59.9s\tremaining: 2m 29s\n",
      "272:\tlearn: 0.1600298\ttotal: 1m\tremaining: 2m 29s\n",
      "273:\tlearn: 0.1600201\ttotal: 1m\tremaining: 2m 28s\n",
      "274:\tlearn: 0.1600159\ttotal: 1m\tremaining: 2m 28s\n",
      "275:\tlearn: 0.1599715\ttotal: 1m\tremaining: 2m 28s\n",
      "276:\tlearn: 0.1599400\ttotal: 1m\tremaining: 2m 27s\n",
      "277:\tlearn: 0.1598855\ttotal: 1m 1s\tremaining: 2m 27s\n",
      "278:\tlearn: 0.1598410\ttotal: 1m 1s\tremaining: 2m 27s\n",
      "279:\tlearn: 0.1597583\ttotal: 1m 1s\tremaining: 2m 26s\n",
      "280:\tlearn: 0.1596888\ttotal: 1m 1s\tremaining: 2m 26s\n",
      "281:\tlearn: 0.1596590\ttotal: 1m 1s\tremaining: 2m 26s\n",
      "282:\tlearn: 0.1595956\ttotal: 1m 1s\tremaining: 2m 25s\n",
      "283:\tlearn: 0.1595442\ttotal: 1m 2s\tremaining: 2m 25s\n",
      "284:\tlearn: 0.1595238\ttotal: 1m 2s\tremaining: 2m 25s\n",
      "285:\tlearn: 0.1594184\ttotal: 1m 2s\tremaining: 2m 25s\n",
      "286:\tlearn: 0.1593801\ttotal: 1m 2s\tremaining: 2m 24s\n",
      "287:\tlearn: 0.1593221\ttotal: 1m 2s\tremaining: 2m 24s\n",
      "288:\tlearn: 0.1593165\ttotal: 1m 3s\tremaining: 2m 24s\n",
      "289:\tlearn: 0.1592468\ttotal: 1m 3s\tremaining: 2m 23s\n",
      "290:\tlearn: 0.1592190\ttotal: 1m 3s\tremaining: 2m 23s\n",
      "291:\tlearn: 0.1591521\ttotal: 1m 3s\tremaining: 2m 23s\n",
      "292:\tlearn: 0.1591129\ttotal: 1m 3s\tremaining: 2m 23s\n",
      "293:\tlearn: 0.1590597\ttotal: 1m 3s\tremaining: 2m 22s\n",
      "294:\tlearn: 0.1590567\ttotal: 1m 4s\tremaining: 2m 22s\n",
      "295:\tlearn: 0.1589367\ttotal: 1m 4s\tremaining: 2m 22s\n",
      "296:\tlearn: 0.1589106\ttotal: 1m 4s\tremaining: 2m 22s\n",
      "297:\tlearn: 0.1588963\ttotal: 1m 4s\tremaining: 2m 22s\n",
      "298:\tlearn: 0.1587984\ttotal: 1m 5s\tremaining: 2m 22s\n",
      "299:\tlearn: 0.1587892\ttotal: 1m 5s\tremaining: 2m 21s\n",
      "300:\tlearn: 0.1587315\ttotal: 1m 5s\tremaining: 2m 21s\n",
      "301:\tlearn: 0.1586479\ttotal: 1m 6s\tremaining: 2m 21s\n",
      "302:\tlearn: 0.1586301\ttotal: 1m 6s\tremaining: 2m 21s\n",
      "303:\tlearn: 0.1585551\ttotal: 1m 6s\tremaining: 2m 21s\n",
      "304:\tlearn: 0.1584775\ttotal: 1m 6s\tremaining: 2m 21s\n",
      "305:\tlearn: 0.1584461\ttotal: 1m 7s\tremaining: 2m 21s\n",
      "306:\tlearn: 0.1584121\ttotal: 1m 7s\tremaining: 2m 20s\n",
      "307:\tlearn: 0.1583668\ttotal: 1m 7s\tremaining: 2m 20s\n",
      "308:\tlearn: 0.1583532\ttotal: 1m 7s\tremaining: 2m 20s\n",
      "309:\tlearn: 0.1582978\ttotal: 1m 8s\tremaining: 2m 20s\n",
      "310:\tlearn: 0.1582615\ttotal: 1m 8s\tremaining: 2m 20s\n",
      "311:\tlearn: 0.1582479\ttotal: 1m 8s\tremaining: 2m 19s\n",
      "312:\tlearn: 0.1581565\ttotal: 1m 8s\tremaining: 2m 19s\n",
      "313:\tlearn: 0.1581131\ttotal: 1m 8s\tremaining: 2m 19s\n",
      "314:\tlearn: 0.1580623\ttotal: 1m 8s\tremaining: 2m 19s\n",
      "315:\tlearn: 0.1579705\ttotal: 1m 9s\tremaining: 2m 18s\n"
     ]
    },
    {
     "name": "stdout",
     "output_type": "stream",
     "text": [
      "316:\tlearn: 0.1579673\ttotal: 1m 9s\tremaining: 2m 18s\n",
      "317:\tlearn: 0.1579263\ttotal: 1m 9s\tremaining: 2m 18s\n",
      "318:\tlearn: 0.1578932\ttotal: 1m 9s\tremaining: 2m 17s\n",
      "319:\tlearn: 0.1578617\ttotal: 1m 9s\tremaining: 2m 17s\n",
      "320:\tlearn: 0.1578405\ttotal: 1m 10s\tremaining: 2m 17s\n",
      "321:\tlearn: 0.1578059\ttotal: 1m 10s\tremaining: 2m 17s\n",
      "322:\tlearn: 0.1578031\ttotal: 1m 10s\tremaining: 2m 16s\n",
      "323:\tlearn: 0.1577157\ttotal: 1m 10s\tremaining: 2m 16s\n",
      "324:\tlearn: 0.1576711\ttotal: 1m 10s\tremaining: 2m 16s\n",
      "325:\tlearn: 0.1576379\ttotal: 1m 11s\tremaining: 2m 15s\n",
      "326:\tlearn: 0.1575979\ttotal: 1m 11s\tremaining: 2m 15s\n",
      "327:\tlearn: 0.1575346\ttotal: 1m 11s\tremaining: 2m 15s\n",
      "328:\tlearn: 0.1575246\ttotal: 1m 11s\tremaining: 2m 15s\n",
      "329:\tlearn: 0.1574168\ttotal: 1m 11s\tremaining: 2m 14s\n",
      "330:\tlearn: 0.1573718\ttotal: 1m 11s\tremaining: 2m 14s\n",
      "331:\tlearn: 0.1573086\ttotal: 1m 12s\tremaining: 2m 14s\n",
      "332:\tlearn: 0.1572549\ttotal: 1m 12s\tremaining: 2m 13s\n",
      "333:\tlearn: 0.1572493\ttotal: 1m 12s\tremaining: 2m 13s\n",
      "334:\tlearn: 0.1572215\ttotal: 1m 12s\tremaining: 2m 13s\n",
      "335:\tlearn: 0.1571572\ttotal: 1m 12s\tremaining: 2m 13s\n",
      "336:\tlearn: 0.1571557\ttotal: 1m 12s\tremaining: 2m 12s\n",
      "337:\tlearn: 0.1571339\ttotal: 1m 13s\tremaining: 2m 12s\n",
      "338:\tlearn: 0.1570424\ttotal: 1m 13s\tremaining: 2m 12s\n",
      "339:\tlearn: 0.1569810\ttotal: 1m 13s\tremaining: 2m 11s\n",
      "340:\tlearn: 0.1569790\ttotal: 1m 13s\tremaining: 2m 11s\n",
      "341:\tlearn: 0.1569540\ttotal: 1m 13s\tremaining: 2m 11s\n",
      "342:\tlearn: 0.1569506\ttotal: 1m 13s\tremaining: 2m 10s\n",
      "343:\tlearn: 0.1568992\ttotal: 1m 14s\tremaining: 2m 10s\n",
      "344:\tlearn: 0.1568798\ttotal: 1m 14s\tremaining: 2m 10s\n",
      "345:\tlearn: 0.1568721\ttotal: 1m 14s\tremaining: 2m 10s\n",
      "346:\tlearn: 0.1568669\ttotal: 1m 14s\tremaining: 2m 9s\n",
      "347:\tlearn: 0.1568064\ttotal: 1m 14s\tremaining: 2m 9s\n",
      "348:\tlearn: 0.1566840\ttotal: 1m 15s\tremaining: 2m 9s\n",
      "349:\tlearn: 0.1566344\ttotal: 1m 15s\tremaining: 2m 9s\n",
      "350:\tlearn: 0.1565699\ttotal: 1m 15s\tremaining: 2m 8s\n",
      "351:\tlearn: 0.1565437\ttotal: 1m 15s\tremaining: 2m 8s\n",
      "352:\tlearn: 0.1565407\ttotal: 1m 15s\tremaining: 2m 8s\n",
      "353:\tlearn: 0.1565133\ttotal: 1m 15s\tremaining: 2m 7s\n",
      "354:\tlearn: 0.1564952\ttotal: 1m 16s\tremaining: 2m 7s\n",
      "355:\tlearn: 0.1564644\ttotal: 1m 16s\tremaining: 2m 7s\n",
      "356:\tlearn: 0.1564446\ttotal: 1m 16s\tremaining: 2m 7s\n",
      "357:\tlearn: 0.1564326\ttotal: 1m 16s\tremaining: 2m 7s\n",
      "358:\tlearn: 0.1563806\ttotal: 1m 17s\tremaining: 2m 6s\n",
      "359:\tlearn: 0.1563770\ttotal: 1m 17s\tremaining: 2m 6s\n",
      "360:\tlearn: 0.1563711\ttotal: 1m 17s\tremaining: 2m 6s\n",
      "361:\tlearn: 0.1562876\ttotal: 1m 17s\tremaining: 2m 6s\n",
      "362:\tlearn: 0.1562748\ttotal: 1m 18s\tremaining: 2m 6s\n",
      "363:\tlearn: 0.1562644\ttotal: 1m 18s\tremaining: 2m 6s\n",
      "364:\tlearn: 0.1562404\ttotal: 1m 18s\tremaining: 2m 5s\n",
      "365:\tlearn: 0.1562145\ttotal: 1m 18s\tremaining: 2m 5s\n",
      "366:\tlearn: 0.1561907\ttotal: 1m 19s\tremaining: 2m 5s\n",
      "367:\tlearn: 0.1561384\ttotal: 1m 19s\tremaining: 2m 5s\n",
      "368:\tlearn: 0.1561044\ttotal: 1m 19s\tremaining: 2m 5s\n",
      "369:\tlearn: 0.1560461\ttotal: 1m 19s\tremaining: 2m 5s\n",
      "370:\tlearn: 0.1559924\ttotal: 1m 20s\tremaining: 2m 4s\n",
      "371:\tlearn: 0.1559916\ttotal: 1m 20s\tremaining: 2m 4s\n",
      "372:\tlearn: 0.1559873\ttotal: 1m 20s\tremaining: 2m 4s\n",
      "373:\tlearn: 0.1559706\ttotal: 1m 20s\tremaining: 2m 4s\n",
      "374:\tlearn: 0.1559659\ttotal: 1m 20s\tremaining: 2m 3s\n",
      "375:\tlearn: 0.1559481\ttotal: 1m 21s\tremaining: 2m 3s\n",
      "376:\tlearn: 0.1559327\ttotal: 1m 21s\tremaining: 2m 3s\n",
      "377:\tlearn: 0.1558672\ttotal: 1m 21s\tremaining: 2m 3s\n",
      "378:\tlearn: 0.1558647\ttotal: 1m 21s\tremaining: 2m 2s\n",
      "379:\tlearn: 0.1558614\ttotal: 1m 21s\tremaining: 2m 2s\n",
      "380:\tlearn: 0.1558510\ttotal: 1m 21s\tremaining: 2m 2s\n",
      "381:\tlearn: 0.1558352\ttotal: 1m 22s\tremaining: 2m 2s\n",
      "382:\tlearn: 0.1557386\ttotal: 1m 22s\tremaining: 2m 1s\n",
      "383:\tlearn: 0.1557367\ttotal: 1m 22s\tremaining: 2m 1s\n",
      "384:\tlearn: 0.1557362\ttotal: 1m 22s\tremaining: 2m 1s\n",
      "385:\tlearn: 0.1557133\ttotal: 1m 22s\tremaining: 2m\n",
      "386:\tlearn: 0.1556697\ttotal: 1m 22s\tremaining: 2m\n",
      "387:\tlearn: 0.1556693\ttotal: 1m 23s\tremaining: 2m\n",
      "388:\tlearn: 0.1556633\ttotal: 1m 23s\tremaining: 2m\n",
      "389:\tlearn: 0.1556405\ttotal: 1m 23s\tremaining: 1m 59s\n",
      "390:\tlearn: 0.1556380\ttotal: 1m 23s\tremaining: 1m 59s\n",
      "391:\tlearn: 0.1555597\ttotal: 1m 23s\tremaining: 1m 59s\n",
      "392:\tlearn: 0.1555594\ttotal: 1m 23s\tremaining: 1m 59s\n",
      "393:\tlearn: 0.1555056\ttotal: 1m 24s\tremaining: 1m 58s\n",
      "394:\tlearn: 0.1554868\ttotal: 1m 24s\tremaining: 1m 58s\n",
      "395:\tlearn: 0.1554867\ttotal: 1m 24s\tremaining: 1m 58s\n",
      "396:\tlearn: 0.1554450\ttotal: 1m 24s\tremaining: 1m 58s\n",
      "397:\tlearn: 0.1554191\ttotal: 1m 25s\tremaining: 1m 58s\n",
      "398:\tlearn: 0.1554090\ttotal: 1m 25s\tremaining: 1m 57s\n",
      "399:\tlearn: 0.1554076\ttotal: 1m 25s\tremaining: 1m 57s\n",
      "400:\tlearn: 0.1554021\ttotal: 1m 25s\tremaining: 1m 57s\n",
      "401:\tlearn: 0.1553582\ttotal: 1m 26s\tremaining: 1m 57s\n",
      "402:\tlearn: 0.1552998\ttotal: 1m 26s\tremaining: 1m 57s\n",
      "403:\tlearn: 0.1552965\ttotal: 1m 26s\tremaining: 1m 57s\n",
      "404:\tlearn: 0.1552917\ttotal: 1m 26s\tremaining: 1m 56s\n",
      "405:\tlearn: 0.1551850\ttotal: 1m 27s\tremaining: 1m 56s\n",
      "406:\tlearn: 0.1551821\ttotal: 1m 27s\tremaining: 1m 56s\n",
      "407:\tlearn: 0.1551720\ttotal: 1m 27s\tremaining: 1m 56s\n",
      "408:\tlearn: 0.1551690\ttotal: 1m 27s\tremaining: 1m 56s\n",
      "409:\tlearn: 0.1551274\ttotal: 1m 28s\tremaining: 1m 56s\n",
      "410:\tlearn: 0.1551232\ttotal: 1m 28s\tremaining: 1m 55s\n",
      "411:\tlearn: 0.1551209\ttotal: 1m 28s\tremaining: 1m 55s\n",
      "412:\tlearn: 0.1550421\ttotal: 1m 28s\tremaining: 1m 55s\n",
      "413:\tlearn: 0.1550313\ttotal: 1m 28s\tremaining: 1m 55s\n",
      "414:\tlearn: 0.1550127\ttotal: 1m 29s\tremaining: 1m 54s\n",
      "415:\tlearn: 0.1550120\ttotal: 1m 29s\tremaining: 1m 54s\n",
      "416:\tlearn: 0.1549962\ttotal: 1m 29s\tremaining: 1m 54s\n",
      "417:\tlearn: 0.1549690\ttotal: 1m 29s\tremaining: 1m 54s\n",
      "418:\tlearn: 0.1549547\ttotal: 1m 29s\tremaining: 1m 53s\n",
      "419:\tlearn: 0.1549533\ttotal: 1m 29s\tremaining: 1m 53s\n",
      "420:\tlearn: 0.1549459\ttotal: 1m 30s\tremaining: 1m 53s\n",
      "421:\tlearn: 0.1548716\ttotal: 1m 30s\tremaining: 1m 53s\n",
      "422:\tlearn: 0.1548274\ttotal: 1m 30s\tremaining: 1m 52s\n",
      "423:\tlearn: 0.1548272\ttotal: 1m 30s\tremaining: 1m 52s\n",
      "424:\tlearn: 0.1548094\ttotal: 1m 30s\tremaining: 1m 52s\n",
      "425:\tlearn: 0.1547349\ttotal: 1m 31s\tremaining: 1m 52s\n",
      "426:\tlearn: 0.1547330\ttotal: 1m 31s\tremaining: 1m 51s\n",
      "427:\tlearn: 0.1547328\ttotal: 1m 31s\tremaining: 1m 51s\n",
      "428:\tlearn: 0.1547235\ttotal: 1m 31s\tremaining: 1m 51s\n",
      "429:\tlearn: 0.1546929\ttotal: 1m 31s\tremaining: 1m 51s\n",
      "430:\tlearn: 0.1546531\ttotal: 1m 32s\tremaining: 1m 50s\n",
      "431:\tlearn: 0.1546273\ttotal: 1m 32s\tremaining: 1m 50s\n",
      "432:\tlearn: 0.1545798\ttotal: 1m 32s\tremaining: 1m 50s\n",
      "433:\tlearn: 0.1545441\ttotal: 1m 32s\tremaining: 1m 50s\n",
      "434:\tlearn: 0.1544765\ttotal: 1m 32s\tremaining: 1m 49s\n",
      "435:\tlearn: 0.1544670\ttotal: 1m 33s\tremaining: 1m 49s\n",
      "436:\tlearn: 0.1544049\ttotal: 1m 33s\tremaining: 1m 49s\n",
      "437:\tlearn: 0.1543812\ttotal: 1m 33s\tremaining: 1m 49s\n",
      "438:\tlearn: 0.1543509\ttotal: 1m 33s\tremaining: 1m 49s\n",
      "439:\tlearn: 0.1542971\ttotal: 1m 34s\tremaining: 1m 49s\n",
      "440:\tlearn: 0.1542638\ttotal: 1m 34s\tremaining: 1m 48s\n",
      "441:\tlearn: 0.1542593\ttotal: 1m 34s\tremaining: 1m 48s\n",
      "442:\tlearn: 0.1542425\ttotal: 1m 34s\tremaining: 1m 48s\n",
      "443:\tlearn: 0.1542260\ttotal: 1m 35s\tremaining: 1m 48s\n",
      "444:\tlearn: 0.1542208\ttotal: 1m 35s\tremaining: 1m 48s\n",
      "445:\tlearn: 0.1542206\ttotal: 1m 35s\tremaining: 1m 48s\n",
      "446:\tlearn: 0.1542116\ttotal: 1m 35s\tremaining: 1m 47s\n",
      "447:\tlearn: 0.1541908\ttotal: 1m 36s\tremaining: 1m 47s\n",
      "448:\tlearn: 0.1541667\ttotal: 1m 36s\tremaining: 1m 47s\n",
      "449:\tlearn: 0.1541118\ttotal: 1m 36s\tremaining: 1m 47s\n",
      "450:\tlearn: 0.1540614\ttotal: 1m 36s\tremaining: 1m 47s\n",
      "451:\tlearn: 0.1540345\ttotal: 1m 37s\tremaining: 1m 46s\n",
      "452:\tlearn: 0.1539631\ttotal: 1m 37s\tremaining: 1m 46s\n",
      "453:\tlearn: 0.1539486\ttotal: 1m 37s\tremaining: 1m 46s\n",
      "454:\tlearn: 0.1539468\ttotal: 1m 37s\tremaining: 1m 46s\n",
      "455:\tlearn: 0.1539247\ttotal: 1m 37s\tremaining: 1m 45s\n",
      "456:\tlearn: 0.1539233\ttotal: 1m 37s\tremaining: 1m 45s\n",
      "457:\tlearn: 0.1538024\ttotal: 1m 38s\tremaining: 1m 45s\n",
      "458:\tlearn: 0.1537458\ttotal: 1m 38s\tremaining: 1m 45s\n",
      "459:\tlearn: 0.1537353\ttotal: 1m 38s\tremaining: 1m 44s\n",
      "460:\tlearn: 0.1536729\ttotal: 1m 38s\tremaining: 1m 44s\n",
      "461:\tlearn: 0.1536469\ttotal: 1m 38s\tremaining: 1m 44s\n",
      "462:\tlearn: 0.1536255\ttotal: 1m 39s\tremaining: 1m 44s\n",
      "463:\tlearn: 0.1536250\ttotal: 1m 39s\tremaining: 1m 44s\n",
      "464:\tlearn: 0.1536249\ttotal: 1m 39s\tremaining: 1m 43s\n",
      "465:\tlearn: 0.1535888\ttotal: 1m 39s\tremaining: 1m 43s\n",
      "466:\tlearn: 0.1535581\ttotal: 1m 39s\tremaining: 1m 43s\n",
      "467:\tlearn: 0.1535373\ttotal: 1m 40s\tremaining: 1m 43s\n",
      "468:\tlearn: 0.1535356\ttotal: 1m 40s\tremaining: 1m 42s\n",
      "469:\tlearn: 0.1535338\ttotal: 1m 40s\tremaining: 1m 42s\n"
     ]
    },
    {
     "name": "stdout",
     "output_type": "stream",
     "text": [
      "470:\tlearn: 0.1535323\ttotal: 1m 40s\tremaining: 1m 42s\n",
      "471:\tlearn: 0.1535313\ttotal: 1m 40s\tremaining: 1m 42s\n",
      "472:\tlearn: 0.1535163\ttotal: 1m 41s\tremaining: 1m 41s\n",
      "473:\tlearn: 0.1535160\ttotal: 1m 41s\tremaining: 1m 41s\n",
      "474:\tlearn: 0.1534728\ttotal: 1m 41s\tremaining: 1m 41s\n",
      "475:\tlearn: 0.1534675\ttotal: 1m 41s\tremaining: 1m 41s\n",
      "476:\tlearn: 0.1533911\ttotal: 1m 42s\tremaining: 1m 41s\n",
      "477:\tlearn: 0.1533869\ttotal: 1m 42s\tremaining: 1m 41s\n",
      "478:\tlearn: 0.1533242\ttotal: 1m 42s\tremaining: 1m 41s\n",
      "479:\tlearn: 0.1532999\ttotal: 1m 43s\tremaining: 1m 40s\n",
      "480:\tlearn: 0.1532996\ttotal: 1m 43s\tremaining: 1m 40s\n",
      "481:\tlearn: 0.1532683\ttotal: 1m 43s\tremaining: 1m 40s\n",
      "482:\tlearn: 0.1532366\ttotal: 1m 43s\tremaining: 1m 40s\n",
      "483:\tlearn: 0.1531914\ttotal: 1m 44s\tremaining: 1m 40s\n",
      "484:\tlearn: 0.1531744\ttotal: 1m 44s\tremaining: 1m 40s\n",
      "485:\tlearn: 0.1531368\ttotal: 1m 44s\tremaining: 1m 40s\n",
      "486:\tlearn: 0.1531161\ttotal: 1m 45s\tremaining: 1m 39s\n",
      "487:\tlearn: 0.1531041\ttotal: 1m 45s\tremaining: 1m 39s\n",
      "488:\tlearn: 0.1531029\ttotal: 1m 45s\tremaining: 1m 39s\n",
      "489:\tlearn: 0.1530348\ttotal: 1m 45s\tremaining: 1m 39s\n",
      "490:\tlearn: 0.1530337\ttotal: 1m 45s\tremaining: 1m 39s\n",
      "491:\tlearn: 0.1529974\ttotal: 1m 46s\tremaining: 1m 38s\n",
      "492:\tlearn: 0.1529379\ttotal: 1m 46s\tremaining: 1m 38s\n",
      "493:\tlearn: 0.1529358\ttotal: 1m 46s\tremaining: 1m 38s\n",
      "494:\tlearn: 0.1529239\ttotal: 1m 46s\tremaining: 1m 38s\n",
      "495:\tlearn: 0.1528906\ttotal: 1m 46s\tremaining: 1m 37s\n",
      "496:\tlearn: 0.1528902\ttotal: 1m 47s\tremaining: 1m 37s\n",
      "497:\tlearn: 0.1528491\ttotal: 1m 47s\tremaining: 1m 37s\n",
      "498:\tlearn: 0.1528289\ttotal: 1m 47s\tremaining: 1m 37s\n",
      "499:\tlearn: 0.1528084\ttotal: 1m 47s\tremaining: 1m 37s\n",
      "500:\tlearn: 0.1528073\ttotal: 1m 48s\tremaining: 1m 36s\n",
      "501:\tlearn: 0.1527893\ttotal: 1m 48s\tremaining: 1m 36s\n",
      "502:\tlearn: 0.1527871\ttotal: 1m 48s\tremaining: 1m 36s\n",
      "503:\tlearn: 0.1527335\ttotal: 1m 48s\tremaining: 1m 36s\n",
      "504:\tlearn: 0.1527065\ttotal: 1m 49s\tremaining: 1m 36s\n",
      "505:\tlearn: 0.1526743\ttotal: 1m 49s\tremaining: 1m 36s\n",
      "506:\tlearn: 0.1526230\ttotal: 1m 49s\tremaining: 1m 35s\n",
      "507:\tlearn: 0.1526228\ttotal: 1m 49s\tremaining: 1m 35s\n",
      "508:\tlearn: 0.1526168\ttotal: 1m 50s\tremaining: 1m 35s\n",
      "509:\tlearn: 0.1525903\ttotal: 1m 50s\tremaining: 1m 35s\n",
      "510:\tlearn: 0.1525811\ttotal: 1m 50s\tremaining: 1m 35s\n",
      "511:\tlearn: 0.1525261\ttotal: 1m 50s\tremaining: 1m 34s\n",
      "512:\tlearn: 0.1525258\ttotal: 1m 51s\tremaining: 1m 34s\n",
      "513:\tlearn: 0.1525180\ttotal: 1m 51s\tremaining: 1m 34s\n",
      "514:\tlearn: 0.1524741\ttotal: 1m 51s\tremaining: 1m 34s\n",
      "515:\tlearn: 0.1524721\ttotal: 1m 51s\tremaining: 1m 33s\n",
      "516:\tlearn: 0.1524545\ttotal: 1m 51s\tremaining: 1m 33s\n",
      "517:\tlearn: 0.1524487\ttotal: 1m 52s\tremaining: 1m 33s\n",
      "518:\tlearn: 0.1524481\ttotal: 1m 52s\tremaining: 1m 33s\n",
      "519:\tlearn: 0.1524474\ttotal: 1m 52s\tremaining: 1m 32s\n",
      "520:\tlearn: 0.1524474\ttotal: 1m 52s\tremaining: 1m 32s\n",
      "521:\tlearn: 0.1524311\ttotal: 1m 52s\tremaining: 1m 32s\n",
      "522:\tlearn: 0.1524244\ttotal: 1m 53s\tremaining: 1m 32s\n",
      "523:\tlearn: 0.1524238\ttotal: 1m 53s\tremaining: 1m 32s\n",
      "524:\tlearn: 0.1524235\ttotal: 1m 53s\tremaining: 1m 31s\n",
      "525:\tlearn: 0.1524142\ttotal: 1m 53s\tremaining: 1m 31s\n",
      "526:\tlearn: 0.1523663\ttotal: 1m 54s\tremaining: 1m 31s\n",
      "527:\tlearn: 0.1523127\ttotal: 1m 54s\tremaining: 1m 31s\n",
      "528:\tlearn: 0.1522743\ttotal: 1m 54s\tremaining: 1m 31s\n",
      "529:\tlearn: 0.1522422\ttotal: 1m 54s\tremaining: 1m 31s\n",
      "530:\tlearn: 0.1522224\ttotal: 1m 55s\tremaining: 1m 30s\n",
      "531:\tlearn: 0.1522079\ttotal: 1m 55s\tremaining: 1m 30s\n",
      "532:\tlearn: 0.1521584\ttotal: 1m 55s\tremaining: 1m 30s\n",
      "533:\tlearn: 0.1521353\ttotal: 1m 56s\tremaining: 1m 30s\n",
      "534:\tlearn: 0.1521327\ttotal: 1m 56s\tremaining: 1m 30s\n",
      "535:\tlearn: 0.1521216\ttotal: 1m 57s\tremaining: 1m 30s\n",
      "536:\tlearn: 0.1521143\ttotal: 1m 57s\tremaining: 1m 30s\n",
      "537:\tlearn: 0.1521131\ttotal: 1m 57s\tremaining: 1m 29s\n",
      "538:\tlearn: 0.1521032\ttotal: 1m 57s\tremaining: 1m 29s\n",
      "539:\tlearn: 0.1521029\ttotal: 1m 57s\tremaining: 1m 29s\n",
      "540:\tlearn: 0.1521023\ttotal: 1m 58s\tremaining: 1m 29s\n",
      "541:\tlearn: 0.1520984\ttotal: 1m 58s\tremaining: 1m 29s\n",
      "542:\tlearn: 0.1520627\ttotal: 1m 58s\tremaining: 1m 28s\n",
      "543:\tlearn: 0.1520568\ttotal: 1m 58s\tremaining: 1m 28s\n",
      "544:\tlearn: 0.1520101\ttotal: 1m 58s\tremaining: 1m 28s\n",
      "545:\tlearn: 0.1519749\ttotal: 1m 59s\tremaining: 1m 28s\n",
      "546:\tlearn: 0.1518988\ttotal: 1m 59s\tremaining: 1m 27s\n",
      "547:\tlearn: 0.1518867\ttotal: 1m 59s\tremaining: 1m 27s\n",
      "548:\tlearn: 0.1518864\ttotal: 1m 59s\tremaining: 1m 27s\n",
      "549:\tlearn: 0.1518860\ttotal: 1m 59s\tremaining: 1m 27s\n",
      "550:\tlearn: 0.1518096\ttotal: 2m\tremaining: 1m 26s\n",
      "551:\tlearn: 0.1517845\ttotal: 2m\tremaining: 1m 26s\n",
      "552:\tlearn: 0.1517476\ttotal: 2m\tremaining: 1m 26s\n",
      "553:\tlearn: 0.1517472\ttotal: 2m\tremaining: 1m 26s\n",
      "554:\tlearn: 0.1517439\ttotal: 2m\tremaining: 1m 26s\n",
      "555:\tlearn: 0.1517250\ttotal: 2m 1s\tremaining: 1m 25s\n",
      "556:\tlearn: 0.1517237\ttotal: 2m 1s\tremaining: 1m 25s\n",
      "557:\tlearn: 0.1517234\ttotal: 2m 1s\tremaining: 1m 25s\n",
      "558:\tlearn: 0.1517200\ttotal: 2m 1s\tremaining: 1m 25s\n",
      "559:\tlearn: 0.1516951\ttotal: 2m 2s\tremaining: 1m 25s\n",
      "560:\tlearn: 0.1516399\ttotal: 2m 2s\tremaining: 1m 24s\n",
      "561:\tlearn: 0.1515916\ttotal: 2m 2s\tremaining: 1m 24s\n",
      "562:\tlearn: 0.1515897\ttotal: 2m 2s\tremaining: 1m 24s\n",
      "563:\tlearn: 0.1515597\ttotal: 2m 3s\tremaining: 1m 24s\n",
      "564:\tlearn: 0.1515545\ttotal: 2m 3s\tremaining: 1m 24s\n",
      "565:\tlearn: 0.1515536\ttotal: 2m 3s\tremaining: 1m 23s\n",
      "566:\tlearn: 0.1515456\ttotal: 2m 4s\tremaining: 1m 23s\n",
      "567:\tlearn: 0.1514607\ttotal: 2m 4s\tremaining: 1m 23s\n",
      "568:\tlearn: 0.1514531\ttotal: 2m 4s\tremaining: 1m 23s\n",
      "569:\tlearn: 0.1514118\ttotal: 2m 4s\tremaining: 1m 23s\n",
      "570:\tlearn: 0.1514103\ttotal: 2m 5s\tremaining: 1m 23s\n",
      "571:\tlearn: 0.1513629\ttotal: 2m 5s\tremaining: 1m 22s\n",
      "572:\tlearn: 0.1512762\ttotal: 2m 5s\tremaining: 1m 22s\n",
      "573:\tlearn: 0.1512360\ttotal: 2m 5s\tremaining: 1m 22s\n",
      "574:\tlearn: 0.1512358\ttotal: 2m 6s\tremaining: 1m 22s\n",
      "575:\tlearn: 0.1512001\ttotal: 2m 6s\tremaining: 1m 21s\n",
      "576:\tlearn: 0.1511854\ttotal: 2m 6s\tremaining: 1m 21s\n",
      "577:\tlearn: 0.1511663\ttotal: 2m 6s\tremaining: 1m 21s\n",
      "578:\tlearn: 0.1511557\ttotal: 2m 6s\tremaining: 1m 21s\n",
      "579:\tlearn: 0.1511528\ttotal: 2m 6s\tremaining: 1m 21s\n",
      "580:\tlearn: 0.1511409\ttotal: 2m 7s\tremaining: 1m 20s\n",
      "581:\tlearn: 0.1511407\ttotal: 2m 7s\tremaining: 1m 20s\n",
      "582:\tlearn: 0.1511358\ttotal: 2m 7s\tremaining: 1m 20s\n",
      "583:\tlearn: 0.1511355\ttotal: 2m 7s\tremaining: 1m 20s\n",
      "584:\tlearn: 0.1511043\ttotal: 2m 7s\tremaining: 1m 19s\n",
      "585:\tlearn: 0.1510966\ttotal: 2m 8s\tremaining: 1m 19s\n",
      "586:\tlearn: 0.1510958\ttotal: 2m 8s\tremaining: 1m 19s\n",
      "587:\tlearn: 0.1510596\ttotal: 2m 8s\tremaining: 1m 19s\n",
      "588:\tlearn: 0.1510457\ttotal: 2m 8s\tremaining: 1m 18s\n",
      "589:\tlearn: 0.1510309\ttotal: 2m 8s\tremaining: 1m 18s\n",
      "590:\tlearn: 0.1510303\ttotal: 2m 9s\tremaining: 1m 18s\n",
      "591:\tlearn: 0.1510092\ttotal: 2m 9s\tremaining: 1m 18s\n",
      "592:\tlearn: 0.1509628\ttotal: 2m 9s\tremaining: 1m 17s\n",
      "593:\tlearn: 0.1509535\ttotal: 2m 9s\tremaining: 1m 17s\n",
      "594:\tlearn: 0.1508761\ttotal: 2m 9s\tremaining: 1m 17s\n",
      "595:\tlearn: 0.1508703\ttotal: 2m 10s\tremaining: 1m 17s\n",
      "596:\tlearn: 0.1508670\ttotal: 2m 10s\tremaining: 1m 17s\n",
      "597:\tlearn: 0.1508286\ttotal: 2m 10s\tremaining: 1m 16s\n",
      "598:\tlearn: 0.1508284\ttotal: 2m 10s\tremaining: 1m 16s\n",
      "599:\tlearn: 0.1508126\ttotal: 2m 11s\tremaining: 1m 16s\n",
      "600:\tlearn: 0.1507946\ttotal: 2m 11s\tremaining: 1m 16s\n",
      "601:\tlearn: 0.1507840\ttotal: 2m 11s\tremaining: 1m 16s\n",
      "602:\tlearn: 0.1507618\ttotal: 2m 11s\tremaining: 1m 15s\n",
      "603:\tlearn: 0.1507200\ttotal: 2m 12s\tremaining: 1m 15s\n",
      "604:\tlearn: 0.1506762\ttotal: 2m 12s\tremaining: 1m 15s\n",
      "605:\tlearn: 0.1506701\ttotal: 2m 12s\tremaining: 1m 15s\n",
      "606:\tlearn: 0.1506482\ttotal: 2m 13s\tremaining: 1m 15s\n",
      "607:\tlearn: 0.1505930\ttotal: 2m 13s\tremaining: 1m 15s\n",
      "608:\tlearn: 0.1505928\ttotal: 2m 13s\tremaining: 1m 14s\n",
      "609:\tlearn: 0.1505808\ttotal: 2m 13s\tremaining: 1m 14s\n",
      "610:\tlearn: 0.1505735\ttotal: 2m 14s\tremaining: 1m 14s\n",
      "611:\tlearn: 0.1505693\ttotal: 2m 14s\tremaining: 1m 14s\n",
      "612:\tlearn: 0.1505665\ttotal: 2m 14s\tremaining: 1m 13s\n",
      "613:\tlearn: 0.1505660\ttotal: 2m 14s\tremaining: 1m 13s\n",
      "614:\tlearn: 0.1505659\ttotal: 2m 14s\tremaining: 1m 13s\n",
      "615:\tlearn: 0.1505323\ttotal: 2m 14s\tremaining: 1m 13s\n",
      "616:\tlearn: 0.1505312\ttotal: 2m 15s\tremaining: 1m 12s\n",
      "617:\tlearn: 0.1505305\ttotal: 2m 15s\tremaining: 1m 12s\n",
      "618:\tlearn: 0.1505303\ttotal: 2m 15s\tremaining: 1m 12s\n",
      "619:\tlearn: 0.1504778\ttotal: 2m 15s\tremaining: 1m 12s\n",
      "620:\tlearn: 0.1504761\ttotal: 2m 15s\tremaining: 1m 11s\n",
      "621:\tlearn: 0.1504133\ttotal: 2m 15s\tremaining: 1m 11s\n",
      "622:\tlearn: 0.1504119\ttotal: 2m 16s\tremaining: 1m 11s\n",
      "623:\tlearn: 0.1504003\ttotal: 2m 16s\tremaining: 1m 11s\n"
     ]
    },
    {
     "name": "stdout",
     "output_type": "stream",
     "text": [
      "624:\tlearn: 0.1503955\ttotal: 2m 16s\tremaining: 1m 10s\n",
      "625:\tlearn: 0.1503847\ttotal: 2m 16s\tremaining: 1m 10s\n",
      "626:\tlearn: 0.1503840\ttotal: 2m 16s\tremaining: 1m 10s\n",
      "627:\tlearn: 0.1503838\ttotal: 2m 16s\tremaining: 1m 10s\n",
      "628:\tlearn: 0.1503810\ttotal: 2m 17s\tremaining: 1m 9s\n",
      "629:\tlearn: 0.1503806\ttotal: 2m 17s\tremaining: 1m 9s\n",
      "630:\tlearn: 0.1503802\ttotal: 2m 17s\tremaining: 1m 9s\n",
      "631:\tlearn: 0.1503592\ttotal: 2m 17s\tremaining: 1m 9s\n",
      "632:\tlearn: 0.1502948\ttotal: 2m 17s\tremaining: 1m 9s\n",
      "633:\tlearn: 0.1502855\ttotal: 2m 18s\tremaining: 1m 8s\n",
      "634:\tlearn: 0.1502724\ttotal: 2m 18s\tremaining: 1m 8s\n",
      "635:\tlearn: 0.1502310\ttotal: 2m 18s\tremaining: 1m 8s\n",
      "636:\tlearn: 0.1502307\ttotal: 2m 18s\tremaining: 1m 8s\n",
      "637:\tlearn: 0.1501962\ttotal: 2m 19s\tremaining: 1m 8s\n",
      "638:\tlearn: 0.1501958\ttotal: 2m 19s\tremaining: 1m 7s\n",
      "639:\tlearn: 0.1501698\ttotal: 2m 19s\tremaining: 1m 7s\n",
      "640:\tlearn: 0.1501498\ttotal: 2m 19s\tremaining: 1m 7s\n",
      "641:\tlearn: 0.1501466\ttotal: 2m 20s\tremaining: 1m 7s\n",
      "642:\tlearn: 0.1501340\ttotal: 2m 20s\tremaining: 1m 7s\n",
      "643:\tlearn: 0.1501262\ttotal: 2m 20s\tremaining: 1m 6s\n",
      "644:\tlearn: 0.1501143\ttotal: 2m 20s\tremaining: 1m 6s\n",
      "645:\tlearn: 0.1501140\ttotal: 2m 21s\tremaining: 1m 6s\n",
      "646:\tlearn: 0.1500921\ttotal: 2m 21s\tremaining: 1m 6s\n",
      "647:\tlearn: 0.1500895\ttotal: 2m 21s\tremaining: 1m 5s\n",
      "648:\tlearn: 0.1500698\ttotal: 2m 21s\tremaining: 1m 5s\n",
      "649:\tlearn: 0.1500491\ttotal: 2m 22s\tremaining: 1m 5s\n",
      "650:\tlearn: 0.1500401\ttotal: 2m 22s\tremaining: 1m 5s\n",
      "651:\tlearn: 0.1500397\ttotal: 2m 22s\tremaining: 1m 5s\n",
      "652:\tlearn: 0.1500396\ttotal: 2m 22s\tremaining: 1m 4s\n",
      "653:\tlearn: 0.1500168\ttotal: 2m 22s\tremaining: 1m 4s\n",
      "654:\tlearn: 0.1500083\ttotal: 2m 22s\tremaining: 1m 4s\n",
      "655:\tlearn: 0.1500028\ttotal: 2m 23s\tremaining: 1m 4s\n",
      "656:\tlearn: 0.1500023\ttotal: 2m 23s\tremaining: 1m 3s\n",
      "657:\tlearn: 0.1500007\ttotal: 2m 23s\tremaining: 1m 3s\n",
      "658:\tlearn: 0.1499762\ttotal: 2m 23s\tremaining: 1m 3s\n",
      "659:\tlearn: 0.1499539\ttotal: 2m 23s\tremaining: 1m 3s\n",
      "660:\tlearn: 0.1499472\ttotal: 2m 24s\tremaining: 1m 3s\n",
      "661:\tlearn: 0.1499428\ttotal: 2m 24s\tremaining: 1m 2s\n",
      "662:\tlearn: 0.1499426\ttotal: 2m 24s\tremaining: 1m 2s\n",
      "663:\tlearn: 0.1499424\ttotal: 2m 24s\tremaining: 1m 2s\n",
      "664:\tlearn: 0.1499401\ttotal: 2m 24s\tremaining: 1m 2s\n",
      "665:\tlearn: 0.1499400\ttotal: 2m 24s\tremaining: 1m 1s\n",
      "666:\tlearn: 0.1499188\ttotal: 2m 25s\tremaining: 1m 1s\n",
      "667:\tlearn: 0.1499187\ttotal: 2m 25s\tremaining: 1m 1s\n",
      "668:\tlearn: 0.1499051\ttotal: 2m 25s\tremaining: 1m 1s\n",
      "669:\tlearn: 0.1499022\ttotal: 2m 25s\tremaining: 1m\n",
      "670:\tlearn: 0.1499009\ttotal: 2m 25s\tremaining: 1m\n",
      "671:\tlearn: 0.1499007\ttotal: 2m 25s\tremaining: 1m\n",
      "672:\tlearn: 0.1498797\ttotal: 2m 26s\tremaining: 1m\n",
      "673:\tlearn: 0.1498793\ttotal: 2m 26s\tremaining: 59.9s\n",
      "674:\tlearn: 0.1498527\ttotal: 2m 26s\tremaining: 59.8s\n",
      "675:\tlearn: 0.1498464\ttotal: 2m 27s\tremaining: 59.6s\n",
      "676:\tlearn: 0.1498437\ttotal: 2m 27s\tremaining: 59.4s\n",
      "677:\tlearn: 0.1498436\ttotal: 2m 27s\tremaining: 59.2s\n",
      "678:\tlearn: 0.1498228\ttotal: 2m 27s\tremaining: 59s\n",
      "679:\tlearn: 0.1498037\ttotal: 2m 28s\tremaining: 58.8s\n",
      "680:\tlearn: 0.1497931\ttotal: 2m 28s\tremaining: 58.6s\n",
      "681:\tlearn: 0.1497781\ttotal: 2m 28s\tremaining: 58.5s\n",
      "682:\tlearn: 0.1497406\ttotal: 2m 28s\tremaining: 58.2s\n",
      "683:\tlearn: 0.1496874\ttotal: 2m 29s\tremaining: 58.1s\n",
      "684:\tlearn: 0.1496637\ttotal: 2m 29s\tremaining: 57.9s\n",
      "685:\tlearn: 0.1496541\ttotal: 2m 29s\tremaining: 57.7s\n",
      "686:\tlearn: 0.1495963\ttotal: 2m 30s\tremaining: 57.5s\n",
      "687:\tlearn: 0.1495961\ttotal: 2m 30s\tremaining: 57.3s\n",
      "688:\tlearn: 0.1495958\ttotal: 2m 30s\tremaining: 57s\n",
      "689:\tlearn: 0.1495350\ttotal: 2m 30s\tremaining: 56.8s\n",
      "690:\tlearn: 0.1495271\ttotal: 2m 30s\tremaining: 56.6s\n",
      "691:\tlearn: 0.1495037\ttotal: 2m 31s\tremaining: 56.3s\n",
      "692:\tlearn: 0.1494437\ttotal: 2m 31s\tremaining: 56.1s\n",
      "693:\tlearn: 0.1494060\ttotal: 2m 31s\tremaining: 55.9s\n",
      "694:\tlearn: 0.1494008\ttotal: 2m 31s\tremaining: 55.6s\n",
      "695:\tlearn: 0.1493920\ttotal: 2m 31s\tremaining: 55.4s\n",
      "696:\tlearn: 0.1493916\ttotal: 2m 31s\tremaining: 55.2s\n",
      "697:\tlearn: 0.1493365\ttotal: 2m 32s\tremaining: 54.9s\n",
      "698:\tlearn: 0.1493220\ttotal: 2m 32s\tremaining: 54.7s\n",
      "699:\tlearn: 0.1493211\ttotal: 2m 32s\tremaining: 54.5s\n",
      "700:\tlearn: 0.1493206\ttotal: 2m 32s\tremaining: 54.3s\n",
      "701:\tlearn: 0.1493205\ttotal: 2m 32s\tremaining: 54s\n",
      "702:\tlearn: 0.1492750\ttotal: 2m 33s\tremaining: 53.8s\n",
      "703:\tlearn: 0.1492744\ttotal: 2m 33s\tremaining: 53.6s\n",
      "704:\tlearn: 0.1492718\ttotal: 2m 33s\tremaining: 53.3s\n",
      "705:\tlearn: 0.1492581\ttotal: 2m 33s\tremaining: 53.1s\n",
      "706:\tlearn: 0.1492572\ttotal: 2m 33s\tremaining: 52.9s\n",
      "707:\tlearn: 0.1492426\ttotal: 2m 34s\tremaining: 52.7s\n",
      "708:\tlearn: 0.1492078\ttotal: 2m 34s\tremaining: 52.4s\n",
      "709:\tlearn: 0.1491755\ttotal: 2m 34s\tremaining: 52.2s\n",
      "710:\tlearn: 0.1491269\ttotal: 2m 34s\tremaining: 52s\n",
      "711:\tlearn: 0.1491268\ttotal: 2m 34s\tremaining: 51.8s\n",
      "712:\tlearn: 0.1491204\ttotal: 2m 35s\tremaining: 51.6s\n",
      "713:\tlearn: 0.1491204\ttotal: 2m 35s\tremaining: 51.4s\n",
      "714:\tlearn: 0.1491073\ttotal: 2m 35s\tremaining: 51.2s\n",
      "715:\tlearn: 0.1490994\ttotal: 2m 36s\tremaining: 51s\n",
      "716:\tlearn: 0.1490387\ttotal: 2m 36s\tremaining: 50.8s\n",
      "717:\tlearn: 0.1490382\ttotal: 2m 36s\tremaining: 50.6s\n",
      "718:\tlearn: 0.1490022\ttotal: 2m 36s\tremaining: 50.4s\n",
      "719:\tlearn: 0.1489994\ttotal: 2m 36s\tremaining: 50.2s\n",
      "720:\tlearn: 0.1489968\ttotal: 2m 37s\tremaining: 49.9s\n",
      "721:\tlearn: 0.1489792\ttotal: 2m 37s\tremaining: 49.7s\n",
      "722:\tlearn: 0.1489017\ttotal: 2m 37s\tremaining: 49.5s\n",
      "723:\tlearn: 0.1488852\ttotal: 2m 38s\tremaining: 49.3s\n",
      "724:\tlearn: 0.1488649\ttotal: 2m 38s\tremaining: 49.1s\n",
      "725:\tlearn: 0.1488541\ttotal: 2m 38s\tremaining: 48.9s\n",
      "726:\tlearn: 0.1488460\ttotal: 2m 38s\tremaining: 48.7s\n",
      "727:\tlearn: 0.1488444\ttotal: 2m 38s\tremaining: 48.4s\n",
      "728:\tlearn: 0.1488435\ttotal: 2m 39s\tremaining: 48.2s\n",
      "729:\tlearn: 0.1488299\ttotal: 2m 39s\tremaining: 48s\n",
      "730:\tlearn: 0.1488273\ttotal: 2m 39s\tremaining: 47.8s\n",
      "731:\tlearn: 0.1488253\ttotal: 2m 39s\tremaining: 47.5s\n",
      "732:\tlearn: 0.1488086\ttotal: 2m 39s\tremaining: 47.3s\n",
      "733:\tlearn: 0.1488083\ttotal: 2m 39s\tremaining: 47.1s\n",
      "734:\tlearn: 0.1488065\ttotal: 2m 40s\tremaining: 46.8s\n",
      "735:\tlearn: 0.1487650\ttotal: 2m 40s\tremaining: 46.6s\n",
      "736:\tlearn: 0.1487646\ttotal: 2m 40s\tremaining: 46.4s\n",
      "737:\tlearn: 0.1487641\ttotal: 2m 40s\tremaining: 46.1s\n",
      "738:\tlearn: 0.1487312\ttotal: 2m 40s\tremaining: 45.9s\n",
      "739:\tlearn: 0.1487305\ttotal: 2m 40s\tremaining: 45.7s\n",
      "740:\tlearn: 0.1487256\ttotal: 2m 41s\tremaining: 45.5s\n",
      "741:\tlearn: 0.1487247\ttotal: 2m 41s\tremaining: 45.2s\n",
      "742:\tlearn: 0.1487235\ttotal: 2m 41s\tremaining: 45s\n",
      "743:\tlearn: 0.1487234\ttotal: 2m 41s\tremaining: 44.8s\n",
      "744:\tlearn: 0.1487214\ttotal: 2m 41s\tremaining: 44.5s\n",
      "745:\tlearn: 0.1487213\ttotal: 2m 41s\tremaining: 44.3s\n",
      "746:\tlearn: 0.1487203\ttotal: 2m 42s\tremaining: 44.1s\n",
      "747:\tlearn: 0.1487112\ttotal: 2m 42s\tremaining: 43.8s\n",
      "748:\tlearn: 0.1487104\ttotal: 2m 42s\tremaining: 43.6s\n",
      "749:\tlearn: 0.1486374\ttotal: 2m 42s\tremaining: 43.4s\n",
      "750:\tlearn: 0.1486289\ttotal: 2m 42s\tremaining: 43.2s\n",
      "751:\tlearn: 0.1486289\ttotal: 2m 43s\tremaining: 43s\n",
      "752:\tlearn: 0.1486200\ttotal: 2m 43s\tremaining: 42.7s\n",
      "753:\tlearn: 0.1486176\ttotal: 2m 43s\tremaining: 42.5s\n",
      "754:\tlearn: 0.1485898\ttotal: 2m 43s\tremaining: 42.3s\n",
      "755:\tlearn: 0.1485603\ttotal: 2m 44s\tremaining: 42.1s\n",
      "756:\tlearn: 0.1485396\ttotal: 2m 44s\tremaining: 41.9s\n",
      "757:\tlearn: 0.1485314\ttotal: 2m 44s\tremaining: 41.7s\n",
      "758:\tlearn: 0.1485225\ttotal: 2m 44s\tremaining: 41.5s\n",
      "759:\tlearn: 0.1485094\ttotal: 2m 45s\tremaining: 41.3s\n",
      "760:\tlearn: 0.1484799\ttotal: 2m 45s\tremaining: 41.1s\n",
      "761:\tlearn: 0.1484786\ttotal: 2m 45s\tremaining: 40.9s\n",
      "762:\tlearn: 0.1484252\ttotal: 2m 45s\tremaining: 40.7s\n",
      "763:\tlearn: 0.1484249\ttotal: 2m 46s\tremaining: 40.5s\n",
      "764:\tlearn: 0.1484138\ttotal: 2m 46s\tremaining: 40.3s\n",
      "765:\tlearn: 0.1483952\ttotal: 2m 46s\tremaining: 40.1s\n",
      "766:\tlearn: 0.1483269\ttotal: 2m 46s\tremaining: 39.8s\n",
      "767:\tlearn: 0.1483254\ttotal: 2m 47s\tremaining: 39.6s\n",
      "768:\tlearn: 0.1483208\ttotal: 2m 47s\tremaining: 39.4s\n",
      "769:\tlearn: 0.1482980\ttotal: 2m 47s\tremaining: 39.2s\n",
      "770:\tlearn: 0.1482533\ttotal: 2m 47s\tremaining: 38.9s\n",
      "771:\tlearn: 0.1482272\ttotal: 2m 47s\tremaining: 38.7s\n",
      "772:\tlearn: 0.1482259\ttotal: 2m 48s\tremaining: 38.5s\n",
      "773:\tlearn: 0.1482257\ttotal: 2m 48s\tremaining: 38.2s\n",
      "774:\tlearn: 0.1482056\ttotal: 2m 48s\tremaining: 38s\n",
      "775:\tlearn: 0.1482021\ttotal: 2m 48s\tremaining: 37.8s\n",
      "776:\tlearn: 0.1481961\ttotal: 2m 48s\tremaining: 37.6s\n",
      "777:\tlearn: 0.1481935\ttotal: 2m 48s\tremaining: 37.3s\n",
      "778:\tlearn: 0.1481909\ttotal: 2m 49s\tremaining: 37.1s\n",
      "779:\tlearn: 0.1481902\ttotal: 2m 49s\tremaining: 36.9s\n"
     ]
    },
    {
     "name": "stdout",
     "output_type": "stream",
     "text": [
      "780:\tlearn: 0.1481899\ttotal: 2m 49s\tremaining: 36.7s\n",
      "781:\tlearn: 0.1481898\ttotal: 2m 49s\tremaining: 36.4s\n",
      "782:\tlearn: 0.1480941\ttotal: 2m 49s\tremaining: 36.2s\n",
      "783:\tlearn: 0.1480940\ttotal: 2m 49s\tremaining: 36s\n",
      "784:\tlearn: 0.1480939\ttotal: 2m 50s\tremaining: 35.8s\n",
      "785:\tlearn: 0.1480407\ttotal: 2m 50s\tremaining: 35.5s\n",
      "786:\tlearn: 0.1479438\ttotal: 2m 50s\tremaining: 35.3s\n",
      "787:\tlearn: 0.1479135\ttotal: 2m 50s\tremaining: 35.1s\n",
      "788:\tlearn: 0.1479132\ttotal: 2m 50s\tremaining: 34.9s\n",
      "789:\tlearn: 0.1478749\ttotal: 2m 51s\tremaining: 34.7s\n",
      "790:\tlearn: 0.1478645\ttotal: 2m 51s\tremaining: 34.5s\n",
      "791:\tlearn: 0.1478628\ttotal: 2m 51s\tremaining: 34.2s\n",
      "792:\tlearn: 0.1478627\ttotal: 2m 51s\tremaining: 34s\n",
      "793:\tlearn: 0.1478466\ttotal: 2m 52s\tremaining: 33.8s\n",
      "794:\tlearn: 0.1478464\ttotal: 2m 52s\tremaining: 33.6s\n",
      "795:\tlearn: 0.1478339\ttotal: 2m 52s\tremaining: 33.4s\n",
      "796:\tlearn: 0.1478331\ttotal: 2m 52s\tremaining: 33.2s\n",
      "797:\tlearn: 0.1478201\ttotal: 2m 53s\tremaining: 33s\n",
      "798:\tlearn: 0.1477795\ttotal: 2m 53s\tremaining: 32.8s\n",
      "799:\tlearn: 0.1477402\ttotal: 2m 53s\tremaining: 32.5s\n",
      "800:\tlearn: 0.1477399\ttotal: 2m 53s\tremaining: 32.3s\n",
      "801:\tlearn: 0.1477398\ttotal: 2m 54s\tremaining: 32.1s\n",
      "802:\tlearn: 0.1477295\ttotal: 2m 54s\tremaining: 31.9s\n",
      "803:\tlearn: 0.1476554\ttotal: 2m 54s\tremaining: 31.7s\n",
      "804:\tlearn: 0.1476541\ttotal: 2m 55s\tremaining: 31.5s\n",
      "805:\tlearn: 0.1476279\ttotal: 2m 55s\tremaining: 31.3s\n",
      "806:\tlearn: 0.1476041\ttotal: 2m 55s\tremaining: 31.1s\n",
      "807:\tlearn: 0.1475675\ttotal: 2m 55s\tremaining: 30.9s\n",
      "808:\tlearn: 0.1475675\ttotal: 2m 55s\tremaining: 30.6s\n",
      "809:\tlearn: 0.1475335\ttotal: 2m 56s\tremaining: 30.4s\n",
      "810:\tlearn: 0.1475312\ttotal: 2m 56s\tremaining: 30.2s\n",
      "811:\tlearn: 0.1475295\ttotal: 2m 56s\tremaining: 30s\n",
      "812:\tlearn: 0.1475026\ttotal: 2m 56s\tremaining: 29.8s\n",
      "813:\tlearn: 0.1474554\ttotal: 2m 56s\tremaining: 29.6s\n",
      "814:\tlearn: 0.1474503\ttotal: 2m 57s\tremaining: 29.3s\n",
      "815:\tlearn: 0.1474001\ttotal: 2m 57s\tremaining: 29.1s\n",
      "816:\tlearn: 0.1473560\ttotal: 2m 57s\tremaining: 28.9s\n",
      "817:\tlearn: 0.1473422\ttotal: 2m 57s\tremaining: 28.7s\n",
      "818:\tlearn: 0.1473422\ttotal: 2m 57s\tremaining: 28.5s\n",
      "819:\tlearn: 0.1473419\ttotal: 2m 58s\tremaining: 28.2s\n",
      "820:\tlearn: 0.1473418\ttotal: 2m 58s\tremaining: 28s\n",
      "821:\tlearn: 0.1473416\ttotal: 2m 58s\tremaining: 27.8s\n",
      "822:\tlearn: 0.1472915\ttotal: 2m 58s\tremaining: 27.6s\n",
      "823:\tlearn: 0.1472768\ttotal: 2m 58s\tremaining: 27.4s\n",
      "824:\tlearn: 0.1472715\ttotal: 2m 59s\tremaining: 27.1s\n",
      "825:\tlearn: 0.1472298\ttotal: 2m 59s\tremaining: 26.9s\n",
      "826:\tlearn: 0.1471996\ttotal: 2m 59s\tremaining: 26.7s\n",
      "827:\tlearn: 0.1471996\ttotal: 2m 59s\tremaining: 26.5s\n",
      "828:\tlearn: 0.1471995\ttotal: 3m\tremaining: 26.3s\n",
      "829:\tlearn: 0.1471937\ttotal: 3m\tremaining: 26.1s\n",
      "830:\tlearn: 0.1471936\ttotal: 3m\tremaining: 25.8s\n",
      "831:\tlearn: 0.1471371\ttotal: 3m\tremaining: 25.6s\n",
      "832:\tlearn: 0.1471342\ttotal: 3m\tremaining: 25.4s\n",
      "833:\tlearn: 0.1470785\ttotal: 3m 1s\tremaining: 25.2s\n",
      "834:\tlearn: 0.1470550\ttotal: 3m 1s\tremaining: 25s\n",
      "835:\tlearn: 0.1470533\ttotal: 3m 1s\tremaining: 24.8s\n",
      "836:\tlearn: 0.1470242\ttotal: 3m 2s\tremaining: 24.6s\n",
      "837:\tlearn: 0.1470240\ttotal: 3m 2s\tremaining: 24.4s\n",
      "838:\tlearn: 0.1470155\ttotal: 3m 2s\tremaining: 24.2s\n",
      "839:\tlearn: 0.1469802\ttotal: 3m 2s\tremaining: 23.9s\n",
      "840:\tlearn: 0.1469740\ttotal: 3m 3s\tremaining: 23.7s\n",
      "841:\tlearn: 0.1469738\ttotal: 3m 3s\tremaining: 23.5s\n",
      "842:\tlearn: 0.1469737\ttotal: 3m 3s\tremaining: 23.3s\n",
      "843:\tlearn: 0.1469406\ttotal: 3m 3s\tremaining: 23.1s\n",
      "844:\tlearn: 0.1469076\ttotal: 3m 3s\tremaining: 22.8s\n",
      "845:\tlearn: 0.1469075\ttotal: 3m 4s\tremaining: 22.6s\n",
      "846:\tlearn: 0.1469073\ttotal: 3m 4s\tremaining: 22.4s\n",
      "847:\tlearn: 0.1468823\ttotal: 3m 4s\tremaining: 22.2s\n",
      "848:\tlearn: 0.1468786\ttotal: 3m 4s\tremaining: 22s\n",
      "849:\tlearn: 0.1468371\ttotal: 3m 4s\tremaining: 21.7s\n",
      "850:\tlearn: 0.1468341\ttotal: 3m 4s\tremaining: 21.5s\n",
      "851:\tlearn: 0.1468100\ttotal: 3m 5s\tremaining: 21.3s\n",
      "852:\tlearn: 0.1468099\ttotal: 3m 5s\tremaining: 21.1s\n",
      "853:\tlearn: 0.1467950\ttotal: 3m 5s\tremaining: 20.9s\n",
      "854:\tlearn: 0.1467644\ttotal: 3m 5s\tremaining: 20.6s\n",
      "855:\tlearn: 0.1467608\ttotal: 3m 5s\tremaining: 20.4s\n",
      "856:\tlearn: 0.1467342\ttotal: 3m 6s\tremaining: 20.2s\n",
      "857:\tlearn: 0.1467053\ttotal: 3m 6s\tremaining: 20s\n",
      "858:\tlearn: 0.1467053\ttotal: 3m 6s\tremaining: 19.8s\n",
      "859:\tlearn: 0.1466235\ttotal: 3m 6s\tremaining: 19.5s\n",
      "860:\tlearn: 0.1466223\ttotal: 3m 6s\tremaining: 19.3s\n",
      "861:\tlearn: 0.1466186\ttotal: 3m 7s\tremaining: 19.1s\n",
      "862:\tlearn: 0.1465835\ttotal: 3m 7s\tremaining: 18.9s\n",
      "863:\tlearn: 0.1465736\ttotal: 3m 7s\tremaining: 18.7s\n",
      "864:\tlearn: 0.1465519\ttotal: 3m 7s\tremaining: 18.4s\n",
      "865:\tlearn: 0.1465185\ttotal: 3m 8s\tremaining: 18.2s\n",
      "866:\tlearn: 0.1465184\ttotal: 3m 8s\tremaining: 18s\n",
      "867:\tlearn: 0.1464897\ttotal: 3m 8s\tremaining: 17.8s\n",
      "868:\tlearn: 0.1464702\ttotal: 3m 8s\tremaining: 17.6s\n",
      "869:\tlearn: 0.1464675\ttotal: 3m 8s\tremaining: 17.4s\n",
      "870:\tlearn: 0.1464100\ttotal: 3m 9s\tremaining: 17.2s\n",
      "871:\tlearn: 0.1464096\ttotal: 3m 9s\tremaining: 16.9s\n",
      "872:\tlearn: 0.1464051\ttotal: 3m 9s\tremaining: 16.7s\n",
      "873:\tlearn: 0.1464050\ttotal: 3m 9s\tremaining: 16.5s\n",
      "874:\tlearn: 0.1464011\ttotal: 3m 10s\tremaining: 16.3s\n",
      "875:\tlearn: 0.1463736\ttotal: 3m 10s\tremaining: 16.1s\n",
      "876:\tlearn: 0.1463732\ttotal: 3m 10s\tremaining: 15.9s\n",
      "877:\tlearn: 0.1463714\ttotal: 3m 10s\tremaining: 15.7s\n",
      "878:\tlearn: 0.1463712\ttotal: 3m 11s\tremaining: 15.4s\n",
      "879:\tlearn: 0.1463707\ttotal: 3m 11s\tremaining: 15.2s\n",
      "880:\tlearn: 0.1463297\ttotal: 3m 11s\tremaining: 15s\n",
      "881:\tlearn: 0.1463245\ttotal: 3m 11s\tremaining: 14.8s\n",
      "882:\tlearn: 0.1463177\ttotal: 3m 12s\tremaining: 14.6s\n",
      "883:\tlearn: 0.1462964\ttotal: 3m 12s\tremaining: 14.4s\n",
      "884:\tlearn: 0.1462872\ttotal: 3m 12s\tremaining: 14.1s\n",
      "885:\tlearn: 0.1462855\ttotal: 3m 12s\tremaining: 13.9s\n",
      "886:\tlearn: 0.1462617\ttotal: 3m 12s\tremaining: 13.7s\n",
      "887:\tlearn: 0.1462521\ttotal: 3m 12s\tremaining: 13.5s\n",
      "888:\tlearn: 0.1462387\ttotal: 3m 13s\tremaining: 13.3s\n",
      "889:\tlearn: 0.1462163\ttotal: 3m 13s\tremaining: 13s\n",
      "890:\tlearn: 0.1462162\ttotal: 3m 13s\tremaining: 12.8s\n",
      "891:\tlearn: 0.1462139\ttotal: 3m 13s\tremaining: 12.6s\n",
      "892:\tlearn: 0.1462094\ttotal: 3m 13s\tremaining: 12.4s\n",
      "893:\tlearn: 0.1461857\ttotal: 3m 14s\tremaining: 12.2s\n",
      "894:\tlearn: 0.1461725\ttotal: 3m 14s\tremaining: 11.9s\n",
      "895:\tlearn: 0.1461724\ttotal: 3m 14s\tremaining: 11.7s\n",
      "896:\tlearn: 0.1461653\ttotal: 3m 14s\tremaining: 11.5s\n",
      "897:\tlearn: 0.1461341\ttotal: 3m 14s\tremaining: 11.3s\n",
      "898:\tlearn: 0.1461340\ttotal: 3m 14s\tremaining: 11.1s\n",
      "899:\tlearn: 0.1460706\ttotal: 3m 15s\tremaining: 10.8s\n",
      "900:\tlearn: 0.1460705\ttotal: 3m 15s\tremaining: 10.6s\n",
      "901:\tlearn: 0.1460051\ttotal: 3m 15s\tremaining: 10.4s\n",
      "902:\tlearn: 0.1460050\ttotal: 3m 15s\tremaining: 10.2s\n",
      "903:\tlearn: 0.1459839\ttotal: 3m 16s\tremaining: 9.97s\n",
      "904:\tlearn: 0.1459827\ttotal: 3m 16s\tremaining: 9.76s\n",
      "905:\tlearn: 0.1459813\ttotal: 3m 16s\tremaining: 9.54s\n",
      "906:\tlearn: 0.1459807\ttotal: 3m 16s\tremaining: 9.33s\n",
      "907:\tlearn: 0.1459779\ttotal: 3m 17s\tremaining: 9.11s\n",
      "908:\tlearn: 0.1459779\ttotal: 3m 17s\tremaining: 8.9s\n",
      "909:\tlearn: 0.1459494\ttotal: 3m 17s\tremaining: 8.69s\n",
      "910:\tlearn: 0.1459257\ttotal: 3m 17s\tremaining: 8.47s\n",
      "911:\tlearn: 0.1459021\ttotal: 3m 18s\tremaining: 8.26s\n",
      "912:\tlearn: 0.1459021\ttotal: 3m 18s\tremaining: 8.04s\n",
      "913:\tlearn: 0.1458847\ttotal: 3m 18s\tremaining: 7.83s\n",
      "914:\tlearn: 0.1458569\ttotal: 3m 18s\tremaining: 7.61s\n",
      "915:\tlearn: 0.1458566\ttotal: 3m 19s\tremaining: 7.39s\n",
      "916:\tlearn: 0.1458561\ttotal: 3m 19s\tremaining: 7.18s\n",
      "917:\tlearn: 0.1458202\ttotal: 3m 19s\tremaining: 6.96s\n",
      "918:\tlearn: 0.1457887\ttotal: 3m 19s\tremaining: 6.75s\n",
      "919:\tlearn: 0.1457883\ttotal: 3m 20s\tremaining: 6.53s\n",
      "920:\tlearn: 0.1457883\ttotal: 3m 20s\tremaining: 6.3s\n",
      "921:\tlearn: 0.1457706\ttotal: 3m 20s\tremaining: 6.09s\n",
      "922:\tlearn: 0.1457704\ttotal: 3m 20s\tremaining: 5.87s\n",
      "923:\tlearn: 0.1457481\ttotal: 3m 20s\tremaining: 5.65s\n",
      "924:\tlearn: 0.1457324\ttotal: 3m 20s\tremaining: 5.43s\n",
      "925:\tlearn: 0.1456931\ttotal: 3m 21s\tremaining: 5.21s\n",
      "926:\tlearn: 0.1456930\ttotal: 3m 21s\tremaining: 4.99s\n",
      "927:\tlearn: 0.1456834\ttotal: 3m 21s\tremaining: 4.78s\n",
      "928:\tlearn: 0.1456832\ttotal: 3m 21s\tremaining: 4.56s\n",
      "929:\tlearn: 0.1456409\ttotal: 3m 21s\tremaining: 4.34s\n",
      "930:\tlearn: 0.1456408\ttotal: 3m 22s\tremaining: 4.12s\n",
      "931:\tlearn: 0.1456401\ttotal: 3m 22s\tremaining: 3.9s\n",
      "932:\tlearn: 0.1456401\ttotal: 3m 22s\tremaining: 3.69s\n",
      "933:\tlearn: 0.1456397\ttotal: 3m 22s\tremaining: 3.47s\n",
      "934:\tlearn: 0.1456354\ttotal: 3m 22s\tremaining: 3.25s\n",
      "935:\tlearn: 0.1456353\ttotal: 3m 22s\tremaining: 3.03s\n",
      "936:\tlearn: 0.1456293\ttotal: 3m 23s\tremaining: 2.82s\n",
      "937:\tlearn: 0.1455894\ttotal: 3m 23s\tremaining: 2.6s\n"
     ]
    },
    {
     "name": "stdout",
     "output_type": "stream",
     "text": [
      "938:\tlearn: 0.1455893\ttotal: 3m 23s\tremaining: 2.38s\n",
      "939:\tlearn: 0.1455850\ttotal: 3m 23s\tremaining: 2.17s\n",
      "940:\tlearn: 0.1455834\ttotal: 3m 23s\tremaining: 1.95s\n",
      "941:\tlearn: 0.1455832\ttotal: 3m 24s\tremaining: 1.73s\n",
      "942:\tlearn: 0.1455591\ttotal: 3m 24s\tremaining: 1.52s\n",
      "943:\tlearn: 0.1455227\ttotal: 3m 24s\tremaining: 1.3s\n",
      "944:\tlearn: 0.1455223\ttotal: 3m 24s\tremaining: 1.08s\n",
      "945:\tlearn: 0.1455223\ttotal: 3m 25s\tremaining: 867ms\n",
      "946:\tlearn: 0.1454921\ttotal: 3m 25s\tremaining: 651ms\n",
      "947:\tlearn: 0.1454686\ttotal: 3m 25s\tremaining: 434ms\n",
      "948:\tlearn: 0.1454645\ttotal: 3m 25s\tremaining: 217ms\n",
      "949:\tlearn: 0.1454378\ttotal: 3m 26s\tremaining: 0us\n"
     ]
    },
    {
     "data": {
      "text/plain": [
       "<catboost.core.CatBoostClassifier at 0x1bff8fd7cf8>"
      ]
     },
     "execution_count": 84,
     "metadata": {},
     "output_type": "execute_result"
    }
   ],
   "source": [
    "model = CatBoostClassifier(iterations=950, depth=6, learning_rate=0.052)\n",
    "model.fit(X_train, y_train)"
   ]
  },
  {
   "cell_type": "code",
   "execution_count": 85,
   "metadata": {},
   "outputs": [
    {
     "name": "stdout",
     "output_type": "stream",
     "text": [
      "0.5375186846038864\n",
      "0.5134649910233393\n"
     ]
    }
   ],
   "source": [
    "print(f1_score(y_train, model.predict(X_train)))\n",
    "print(f1_score(y_test, model.predict(X_test)))"
   ]
  },
  {
   "cell_type": "code",
   "execution_count": 86,
   "metadata": {},
   "outputs": [
    {
     "data": {
      "image/png": "[encoded data removed]",
      "text/plain": [
       "<Figure size 432x288 with 1 Axes>"
      ]
     },
     "metadata": {
      "needs_background": "light"
     },
     "output_type": "display_data"
    }
   ],
   "source": [
    "p_sl = model.predict_proba(X_test)\n",
    "\n",
    "precision, recall, thresholds = precision_recall_curve(y_test, p_sl[:,1])\n",
    "thresholds = np.append(thresholds, 1)\n",
    "f1_scores = 2*(precision*recall)/(precision+recall)\n",
    "plt.step(recall, precision, color='b', alpha=0.4, where='post')\n",
    "plt.xlabel('Recall')\n",
    "plt.ylabel('Precision')\n",
    "plt.ylim([0.0, 1.05])\n",
    "plt.xlim([0.0, 1.0])\n",
    "plt.title('2-class Precision-Recall curve')\n",
    "plt.show()"
   ]
  },
  {
   "cell_type": "code",
   "execution_count": 87,
   "metadata": {},
   "outputs": [
    {
     "name": "stdout",
     "output_type": "stream",
     "text": [
      "Threshold cutoff:  0.274117213799871\n",
      "Max F1-score at cut-off :  0.5241157556270095\n"
     ]
    },
    {
     "data": {
      "text/plain": [
       "<matplotlib.axes._subplots.AxesSubplot at 0x1bff910bdd8>"
      ]
     },
     "execution_count": 87,
     "metadata": {},
     "output_type": "execute_result"
    },
    {
     "data": {
      "image/png": "[encoded data removed]",
      "text/plain": [
       "<Figure size 432x288 with 1 Axes>"
      ]
     },
     "metadata": {
      "needs_background": "light"
     },
     "output_type": "display_data"
    }
   ],
   "source": [
    "scrs = pd.DataFrame({'precision' : precision, 'recal' : recall, 'thresholds' : thresholds, 'f1_score':f1_scores})\n",
    "print(\"Threshold cutoff: \",scrs.loc[scrs['f1_score'] == scrs.f1_score.max(),'thresholds'].iloc[0])\n",
    "print(\"Max F1-score at cut-off : \",scrs.f1_score.max())\n",
    "\n",
    "thresh = scrs.loc[scrs['f1_score'] == scrs.f1_score.max(),'thresholds'].iloc[0]\n",
    "\n",
    "scrs.plot(x='thresholds', y='f1_score')"
   ]
  },
  {
   "cell_type": "code",
   "execution_count": 88,
   "metadata": {},
   "outputs": [
    {
     "data": {
      "text/html": [
       "<div>\n",
       "<style scoped>\n",
       "    .dataframe tbody tr th:only-of-type {\n",
       "        vertical-align: middle;\n",
       "    }\n",
       "\n",
       "    .dataframe tbody tr th {\n",
       "        vertical-align: top;\n",
       "    }\n",
       "\n",
       "    .dataframe thead th {\n",
       "        text-align: right;\n",
       "    }\n",
       "</style>\n",
       "<table border=\"1\" class=\"dataframe\">\n",
       "  <thead>\n",
       "    <tr style=\"text-align: right;\">\n",
       "      <th></th>\n",
       "      <th>precision</th>\n",
       "      <th>recal</th>\n",
       "      <th>thresholds</th>\n",
       "      <th>f1_score</th>\n",
       "    </tr>\n",
       "  </thead>\n",
       "  <tbody>\n",
       "    <tr>\n",
       "      <th>5325</th>\n",
       "      <td>0.751152</td>\n",
       "      <td>0.402469</td>\n",
       "      <td>0.274117</td>\n",
       "      <td>0.524116</td>\n",
       "    </tr>\n",
       "  </tbody>\n",
       "</table>\n",
       "</div>"
      ],
      "text/plain": [
       "      precision     recal  thresholds  f1_score\n",
       "5325   0.751152  0.402469    0.274117  0.524116"
      ]
     },
     "execution_count": 88,
     "metadata": {},
     "output_type": "execute_result"
    }
   ],
   "source": [
    "frame = scrs.loc[scrs['f1_score'] == scrs.f1_score.max()]\n",
    "frame"
   ]
  },
  {
   "cell_type": "code",
   "execution_count": 89,
   "metadata": {},
   "outputs": [
    {
     "data": {
      "text/plain": [
       "0.274117213799871"
      ]
     },
     "execution_count": 89,
     "metadata": {},
     "output_type": "execute_result"
    }
   ],
   "source": [
    "cboost_thresh = frame['thresholds'].values[0]\n",
    "cboost_thresh"
   ]
  },
  {
   "cell_type": "code",
   "execution_count": null,
   "metadata": {},
   "outputs": [],
   "source": []
  },
  {
   "cell_type": "code",
   "execution_count": 90,
   "metadata": {},
   "outputs": [
    {
     "data": {
      "text/plain": [
       "<catboost.core.CatBoostClassifier at 0x1bff916eb00>"
      ]
     },
     "execution_count": 90,
     "metadata": {},
     "output_type": "execute_result"
    }
   ],
   "source": [
    "model = CatBoostClassifier(iterations=950, depth=6, learning_rate=0.052, verbose=0)\n",
    "model.fit(X, y, eval_set=[(X_test, y_test)], early_stopping_rounds=100)"
   ]
  },
  {
   "cell_type": "code",
   "execution_count": 91,
   "metadata": {},
   "outputs": [],
   "source": [
    "test_data_predictions = model.predict(test_data)\n",
    "\n",
    "submission = pd.DataFrame({'EmployeeNo' : testId, 'Promoted_or_Not' : test_data_predictions.astype(int)})\n",
    "submission.to_csv('cboost_dday_stop.csv', index=False)"
   ]
  },
  {
   "cell_type": "code",
   "execution_count": null,
   "metadata": {},
   "outputs": [],
   "source": []
  },
  {
   "cell_type": "code",
   "execution_count": null,
   "metadata": {},
   "outputs": [],
   "source": []
  },
  {
   "cell_type": "markdown",
   "metadata": {},
   "source": [
    "<h3>LightGBM</h3>"
   ]
  },
  {
   "cell_type": "code",
   "execution_count": 83,
   "metadata": {},
   "outputs": [
    {
     "data": {
      "text/plain": [
       "0.4905028808564701"
      ]
     },
     "execution_count": 83,
     "metadata": {},
     "output_type": "execute_result"
    }
   ],
   "source": [
    "lgbm = lgb.LGBMClassifier(\n",
    "    max_depth=4, n_estimators=500, subsample=0.9, colsample_bytree=0.95, learning_rate=0.07,\n",
    "    random_state=42\n",
    ")\n",
    "\n",
    "cross_val_score(lgbm, X_train, y_train, cv=StratifiedKFold(n_splits=5), scoring='f1', n_jobs=-1).mean()"
   ]
  },
  {
   "cell_type": "code",
   "execution_count": 84,
   "metadata": {},
   "outputs": [
    {
     "data": {
      "text/plain": [
       "RandomizedSearchCV(cv=StratifiedKFold(n_splits=5, random_state=None, shuffle=False),\n",
       "                   error_score='raise-deprecating',\n",
       "                   estimator=LGBMClassifier(boosting_type='gbdt',\n",
       "                                            class_weight=None,\n",
       "                                            colsample_bytree=0.95,\n",
       "                                            importance_type='split',\n",
       "                                            learning_rate=0.07, max_depth=4,\n",
       "                                            min_child_samples=20,\n",
       "                                            min_child_weight=0.001,\n",
       "                                            min_split_gain=0.0,\n",
       "                                            n_estimators=500, n_jobs=-1,\n",
       "                                            num_l...\n",
       "                                            reg_lambda=0.0, silent=True,\n",
       "                                            subsample=0.9,\n",
       "                                            subsample_for_bin=200000,\n",
       "                                            subsample_freq=0),\n",
       "                   iid='warn', n_iter=10, n_jobs=-1,\n",
       "                   param_distributions={'colsample_bytree': [0.75, 0.8, 0.85,\n",
       "                                                             0.9, 1],\n",
       "                                        'max_depth': [4, 5, 6, 7, 8],\n",
       "                                        'min_child_weight': [1, 3, 5, 10],\n",
       "                                        'subsample': [0.75, 0.8, 0.85, 0.9, 1]},\n",
       "                   pre_dispatch='2*n_jobs', random_state=None, refit=True,\n",
       "                   return_train_score=False, scoring='f1', verbose=0)"
      ]
     },
     "execution_count": 84,
     "metadata": {},
     "output_type": "execute_result"
    }
   ],
   "source": [
    "#params = {\n",
    "#    'max_depth' : [4, 5, 6, 7, 8],\n",
    "#    'min_child_weight' : [1, 3, 5, 10],\n",
    "#    'subsample' : [0.75,  0.8, 0.85, 0.9, 1],\n",
    "#    'colsample_bytree' : [0.75,  0.8, 0.85, 0.9, 1]\n",
    "#}\n",
    "\n",
    "#grid = RandomizedSearchCV(lgb.LGBMClassifier(\n",
    "#    max_depth=4, n_estimators=500, subsample=0.9, colsample_bytree=0.95, learning_rate=0.07,\n",
    "#    random_state=42, n_jobs=-1\n",
    "#), params, cv=StratifiedKFold(n_splits=5), scoring='f1', n_jobs=-1)\n",
    "\n",
    "#grid.fit(X_train, y_train)"
   ]
  },
  {
   "cell_type": "code",
   "execution_count": 85,
   "metadata": {},
   "outputs": [
    {
     "data": {
      "text/plain": [
       "({'subsample': 1,\n",
       "  'min_child_weight': 3,\n",
       "  'max_depth': 4,\n",
       "  'colsample_bytree': 1},\n",
       " 0.4919582627294673)"
      ]
     },
     "execution_count": 85,
     "metadata": {},
     "output_type": "execute_result"
    }
   ],
   "source": [
    "#grid.best_params_, grid.best_score_"
   ]
  },
  {
   "cell_type": "code",
   "execution_count": 88,
   "metadata": {},
   "outputs": [
    {
     "data": {
      "text/plain": [
       "RandomizedSearchCV(cv=StratifiedKFold(n_splits=5, random_state=None, shuffle=False),\n",
       "                   error_score='raise-deprecating',\n",
       "                   estimator=LGBMClassifier(boosting_type='gbdt',\n",
       "                                            class_weight=None,\n",
       "                                            colsample_bytree=0.95,\n",
       "                                            importance_type='split',\n",
       "                                            learning_rate=0.07, max_depth=4,\n",
       "                                            min_child_samples=20,\n",
       "                                            min_child_weight=0.001,\n",
       "                                            min_split_gain=0.0,\n",
       "                                            n_estimators=500, n_jobs=-1,\n",
       "                                            num_l...\n",
       "                                            random_state=42, reg_alpha=0.0,\n",
       "                                            reg_lambda=0.0, silent=True,\n",
       "                                            subsample=0.9,\n",
       "                                            subsample_for_bin=200000,\n",
       "                                            subsample_freq=0),\n",
       "                   iid='warn', n_iter=10, n_jobs=-1,\n",
       "                   param_distributions={'colsample_bytree': [0.91, 0.93, 0.95,\n",
       "                                                             0.97, 1],\n",
       "                                        'min_child_weight': [1, 2, 3, 4, 5],\n",
       "                                        'subsample': [0.91, 0.93, 0.95, 0.97,\n",
       "                                                      1]},\n",
       "                   pre_dispatch='2*n_jobs', random_state=None, refit=True,\n",
       "                   return_train_score=False, scoring='f1', verbose=0)"
      ]
     },
     "execution_count": 88,
     "metadata": {},
     "output_type": "execute_result"
    }
   ],
   "source": [
    "#params = {\n",
    "#    #'max_depth' : [4, 5, 6, 7, 8],\n",
    "#    'min_child_weight' : [1, 2, 3, 4, 5],\n",
    "#    'subsample' : [0.91, 0.93, 0.95, 0.97, 1],\n",
    "#    'colsample_bytree' : [0.91, 0.93, 0.95, 0.97, 1]\n",
    "#}\n",
    "\n",
    "#grid = RandomizedSearchCV(lgb.LGBMClassifier(\n",
    "#    max_depth=4, n_estimators=500, subsample=0.9, colsample_bytree=0.95, learning_rate=0.07,\n",
    "##    random_state=42, n_jobs=-1\n",
    "#), params, cv=StratifiedKFold(n_splits=5), scoring='f1', n_jobs=-1)\n",
    "\n",
    "#grid.fit(X_train, y_train)"
   ]
  },
  {
   "cell_type": "code",
   "execution_count": 89,
   "metadata": {},
   "outputs": [
    {
     "data": {
      "text/plain": [
       "({'subsample': 0.95, 'min_child_weight': 4, 'colsample_bytree': 0.93},\n",
       " 0.49236855584206757)"
      ]
     },
     "execution_count": 89,
     "metadata": {},
     "output_type": "execute_result"
    }
   ],
   "source": [
    "#grid.best_params_, grid.best_score_"
   ]
  },
  {
   "cell_type": "code",
   "execution_count": 90,
   "metadata": {},
   "outputs": [
    {
     "data": {
      "text/plain": [
       "RandomizedSearchCV(cv=StratifiedKFold(n_splits=5, random_state=None, shuffle=False),\n",
       "                   error_score='raise-deprecating',\n",
       "                   estimator=LGBMClassifier(boosting_type='gbdt',\n",
       "                                            class_weight=None,\n",
       "                                            colsample_bytree=0.95,\n",
       "                                            importance_type='split',\n",
       "                                            learning_rate=0.07, max_depth=4,\n",
       "                                            min_child_samples=20,\n",
       "                                            min_child_weight=4,\n",
       "                                            min_split_gain=0.0,\n",
       "                                            n_estimators=500, n_jobs=-1,\n",
       "                                            num_leaves=31, objective=None,\n",
       "                                            random_state=42, reg_alpha=0.0,\n",
       "                                            reg_lambda=0.0, silent=True,\n",
       "                                            subsample=0.9,\n",
       "                                            subsample_for_bin=200000,\n",
       "                                            subsample_freq=0),\n",
       "                   iid='warn', n_iter=15, n_jobs=-1,\n",
       "                   param_distributions={'colsample_bytree': [0.92, 0.93, 0.94],\n",
       "                                        'subsample': [0.94, 0.95, 0.96]},\n",
       "                   pre_dispatch='2*n_jobs', random_state=None, refit=True,\n",
       "                   return_train_score=False, scoring='f1', verbose=0)"
      ]
     },
     "execution_count": 90,
     "metadata": {},
     "output_type": "execute_result"
    }
   ],
   "source": [
    "#params = {\n",
    "    #'max_depth' : [4, 5, 6, 7, 8],\n",
    "    #'min_child_weight' : [1, 2, 3, 4, 5],\n",
    "#    'subsample' : [0.94, 0.95, 0.96],\n",
    "#    'colsample_bytree' : [0.92, 0.93, 0.94]\n",
    "#}\n",
    "\n",
    "#grid = RandomizedSearchCV(lgb.LGBMClassifier(min_child_weight=4,\n",
    "#    max_depth=4, n_estimators=500, subsample=0.9, colsample_bytree=0.95, learning_rate=0.07,\n",
    "#                                             random_state=42, n_jobs=-1\n",
    "#), params, cv=StratifiedKFold(n_splits=5), scoring='f1', n_jobs=-1, n_iter=15)\n",
    "\n",
    "#grid.fit(X_train, y_train)"
   ]
  },
  {
   "cell_type": "code",
   "execution_count": 91,
   "metadata": {},
   "outputs": [
    {
     "data": {
      "text/plain": [
       "({'subsample': 0.94, 'colsample_bytree': 0.93}, 0.49236855584206757)"
      ]
     },
     "execution_count": 91,
     "metadata": {},
     "output_type": "execute_result"
    }
   ],
   "source": [
    "#grid.best_params_, grid.best_score_"
   ]
  },
  {
   "cell_type": "code",
   "execution_count": null,
   "metadata": {},
   "outputs": [],
   "source": []
  },
  {
   "cell_type": "code",
   "execution_count": 99,
   "metadata": {},
   "outputs": [
    {
     "data": {
      "text/plain": [
       "0.49236951233715986"
      ]
     },
     "execution_count": 99,
     "metadata": {},
     "output_type": "execute_result"
    }
   ],
   "source": [
    "lgbm = lgb.LGBMClassifier(min_child_weight=4,\n",
    "    max_depth=4, n_estimators=500, subsample=0.94, colsample_bytree=0.93, learning_rate=0.07,\n",
    "                                             random_state=42, n_jobs=-1\n",
    ")\n",
    "\n",
    "cross_val_score(lgbm, X_train, y_train, cv=StratifiedKFold(n_splits=5), scoring='f1', n_jobs=-1).mean()"
   ]
  },
  {
   "cell_type": "code",
   "execution_count": 100,
   "metadata": {},
   "outputs": [
    {
     "data": {
      "text/plain": [
       "LGBMClassifier(boosting_type='gbdt', class_weight=None, colsample_bytree=0.93,\n",
       "               importance_type='split', learning_rate=0.07, max_depth=4,\n",
       "               min_child_samples=20, min_child_weight=4, min_split_gain=0.0,\n",
       "               n_estimators=500, n_jobs=-1, num_leaves=31, objective=None,\n",
       "               random_state=42, reg_alpha=0.0, reg_lambda=0.0, silent=True,\n",
       "               subsample=0.94, subsample_for_bin=200000, subsample_freq=0)"
      ]
     },
     "execution_count": 100,
     "metadata": {},
     "output_type": "execute_result"
    }
   ],
   "source": [
    "lgbm.fit(X_train, y_train)"
   ]
  },
  {
   "cell_type": "code",
   "execution_count": 101,
   "metadata": {},
   "outputs": [
    {
     "name": "stdout",
     "output_type": "stream",
     "text": [
      "0.5633967789165446\n",
      "0.5115044247787611\n"
     ]
    }
   ],
   "source": [
    "print(f1_score(y_train, lgbm.predict(X_train)))\n",
    "print(f1_score(y_test, lgbm.predict(X_test)))"
   ]
  },
  {
   "cell_type": "code",
   "execution_count": 102,
   "metadata": {},
   "outputs": [
    {
     "data": {
      "image/png": "[encoded data removed]",
      "text/plain": [
       "<Figure size 432x288 with 1 Axes>"
      ]
     },
     "metadata": {
      "needs_background": "light"
     },
     "output_type": "display_data"
    }
   ],
   "source": [
    "p_sl = lgbm.predict_proba(X_test)\n",
    "\n",
    "precision, recall, thresholds = precision_recall_curve(y_test, p_sl[:,1])\n",
    "thresholds = np.append(thresholds, 1)\n",
    "f1_scores = 2*(precision*recall)/(precision+recall)\n",
    "plt.step(recall, precision, color='b', alpha=0.4, where='post')\n",
    "plt.xlabel('Recall')\n",
    "plt.ylabel('Precision')\n",
    "plt.ylim([0.0, 1.05])\n",
    "plt.xlim([0.0, 1.0])\n",
    "plt.title('2-class Precision-Recall curve')\n",
    "plt.show()"
   ]
  },
  {
   "cell_type": "code",
   "execution_count": 103,
   "metadata": {},
   "outputs": [
    {
     "name": "stdout",
     "output_type": "stream",
     "text": [
      "Threshold cutoff:  0.523074357818217\n",
      "Max F1-score at cut-off :  0.5137777777777778\n"
     ]
    },
    {
     "data": {
      "text/plain": [
       "<matplotlib.axes._subplots.AxesSubplot at 0x263e6b153c8>"
      ]
     },
     "execution_count": 103,
     "metadata": {},
     "output_type": "execute_result"
    },
    {
     "data": {
      "image/png": "[encoded data removed]",
      "text/plain": [
       "<Figure size 432x288 with 1 Axes>"
      ]
     },
     "metadata": {
      "needs_background": "light"
     },
     "output_type": "display_data"
    }
   ],
   "source": [
    "scrs = pd.DataFrame({'precision' : precision, 'recal' : recall, 'thresholds' : thresholds, 'f1_score':f1_scores})\n",
    "print(\"Threshold cutoff: \",scrs.loc[scrs['f1_score'] == scrs.f1_score.max(),'thresholds'].iloc[0])\n",
    "print(\"Max F1-score at cut-off : \",scrs.f1_score.max())\n",
    "\n",
    "thresh = scrs.loc[scrs['f1_score'] == scrs.f1_score.max(),'thresholds'].iloc[0]\n",
    "\n",
    "scrs.plot(x='thresholds', y='f1_score')"
   ]
  },
  {
   "cell_type": "code",
   "execution_count": 104,
   "metadata": {},
   "outputs": [
    {
     "data": {
      "text/html": [
       "<div>\n",
       "<style scoped>\n",
       "    .dataframe tbody tr th:only-of-type {\n",
       "        vertical-align: middle;\n",
       "    }\n",
       "\n",
       "    .dataframe tbody tr th {\n",
       "        vertical-align: top;\n",
       "    }\n",
       "\n",
       "    .dataframe thead th {\n",
       "        text-align: right;\n",
       "    }\n",
       "</style>\n",
       "<table border=\"1\" class=\"dataframe\">\n",
       "  <thead>\n",
       "    <tr style=\"text-align: right;\">\n",
       "      <th></th>\n",
       "      <th>precision</th>\n",
       "      <th>recal</th>\n",
       "      <th>thresholds</th>\n",
       "      <th>f1_score</th>\n",
       "    </tr>\n",
       "  </thead>\n",
       "  <tbody>\n",
       "    <tr>\n",
       "      <th>5530</th>\n",
       "      <td>0.91746</td>\n",
       "      <td>0.35679</td>\n",
       "      <td>0.523074</td>\n",
       "      <td>0.513778</td>\n",
       "    </tr>\n",
       "  </tbody>\n",
       "</table>\n",
       "</div>"
      ],
      "text/plain": [
       "      precision    recal  thresholds  f1_score\n",
       "5530    0.91746  0.35679    0.523074  0.513778"
      ]
     },
     "execution_count": 104,
     "metadata": {},
     "output_type": "execute_result"
    }
   ],
   "source": [
    "frame = scrs.loc[scrs['f1_score'] == scrs.f1_score.max()]\n",
    "frame"
   ]
  },
  {
   "cell_type": "code",
   "execution_count": 105,
   "metadata": {},
   "outputs": [
    {
     "data": {
      "text/plain": [
       "0.523074357818217"
      ]
     },
     "execution_count": 105,
     "metadata": {},
     "output_type": "execute_result"
    }
   ],
   "source": [
    "lgbm_thresh = frame['thresholds'].values[0]\n",
    "lgbm_thresh"
   ]
  },
  {
   "cell_type": "code",
   "execution_count": null,
   "metadata": {},
   "outputs": [],
   "source": []
  },
  {
   "cell_type": "code",
   "execution_count": null,
   "metadata": {},
   "outputs": [],
   "source": []
  },
  {
   "cell_type": "markdown",
   "metadata": {},
   "source": [
    "<h3>XGBOOST</h3>"
   ]
  },
  {
   "cell_type": "code",
   "execution_count": 113,
   "metadata": {},
   "outputs": [
    {
     "data": {
      "text/plain": [
       "0.49103208967281037"
      ]
     },
     "execution_count": 113,
     "metadata": {},
     "output_type": "execute_result"
    }
   ],
   "source": [
    "xgbm = xgb.XGBClassifier(\n",
    "    max_depth=4, colsample_bytree=0.95, subsample=0.9, n_jobs=-1, random_state=42, n_estimators=500,\n",
    "    learning_rate=0.07\n",
    ")\n",
    "\n",
    "cross_val_score(xgbm, X_train, y_train, scoring='f1', cv=StratifiedKFold(n_splits=5), n_jobs=-1).mean()"
   ]
  },
  {
   "cell_type": "code",
   "execution_count": 117,
   "metadata": {},
   "outputs": [
    {
     "data": {
      "text/plain": [
       "RandomizedSearchCV(cv=StratifiedKFold(n_splits=5, random_state=None, shuffle=False),\n",
       "                   error_score='raise-deprecating',\n",
       "                   estimator=XGBClassifier(base_score=0.5, booster='gbtree',\n",
       "                                           colsample_bylevel=1,\n",
       "                                           colsample_bynode=1,\n",
       "                                           colsample_bytree=0.95, gamma=0,\n",
       "                                           learning_rate=0.07, max_delta_step=0,\n",
       "                                           max_depth=7, min_child_weight=1,\n",
       "                                           missing=None, n_estimators=500,\n",
       "                                           n_jobs=-1, nthr...\n",
       "                                           random_state=42, reg_alpha=0,\n",
       "                                           reg_lambda=1, scale_pos_weight=1,\n",
       "                                           seed=None, silent=None,\n",
       "                                           subsample=0.9, verbosity=1),\n",
       "                   iid='warn', n_iter=10, n_jobs=-1,\n",
       "                   param_distributions={'colsample_bytree': [0.6, 0.7, 0.75,\n",
       "                                                             0.8],\n",
       "                                        'min_child_weight': [2, 3, 4],\n",
       "                                        'subsample': [0.85, 0.9, 0.95, 1.0]},\n",
       "                   pre_dispatch='2*n_jobs', random_state=42, refit=True,\n",
       "                   return_train_score=False, scoring='f1', verbose=0)"
      ]
     },
     "execution_count": 117,
     "metadata": {},
     "output_type": "execute_result"
    }
   ],
   "source": [
    "#params = {\n",
    "    #'max_depth' : [4, 5, 6, 7, 8],\n",
    "#    'min_child_weight' : [2, 3, 4],\n",
    "#    'subsample' : [0.85, 0.9, 0.95, 1.0],\n",
    "#    'colsample_bytree' : [0.6, 0.7, 0.75,  0.8]\n",
    "#}\n",
    "\n",
    "#grid = RandomizedSearchCV(xgb.XGBClassifier(\n",
    "#    max_depth=7, colsample_bytree=0.95, subsample=0.9, n_jobs=-1, random_state=42, n_estimators=500,\n",
    "#    learning_rate=0.07\n",
    "#), params, cv=StratifiedKFold(n_splits=5), scoring='f1', n_jobs=-1, random_state=42)\n",
    "\n",
    "#grid.fit(X_train, y_train)"
   ]
  },
  {
   "cell_type": "code",
   "execution_count": 118,
   "metadata": {},
   "outputs": [
    {
     "data": {
      "text/plain": [
       "({'subsample': 0.9, 'min_child_weight': 2, 'colsample_bytree': 0.8},\n",
       " 0.49186345006775983)"
      ]
     },
     "execution_count": 118,
     "metadata": {},
     "output_type": "execute_result"
    }
   ],
   "source": [
    "#grid.best_params_, grid.best_score_"
   ]
  },
  {
   "cell_type": "code",
   "execution_count": null,
   "metadata": {},
   "outputs": [],
   "source": []
  },
  {
   "cell_type": "code",
   "execution_count": 84,
   "metadata": {},
   "outputs": [],
   "source": [
    "xgbm = xgb.XGBClassifier(min_child_weight=2,\n",
    "    max_depth=7, colsample_bytree=0.8, subsample=0.9, n_jobs=-1, random_state=42, n_estimators=500,\n",
    "    learning_rate=0.07\n",
    ")"
   ]
  },
  {
   "cell_type": "code",
   "execution_count": null,
   "metadata": {},
   "outputs": [],
   "source": []
  },
  {
   "cell_type": "code",
   "execution_count": null,
   "metadata": {},
   "outputs": [],
   "source": []
  },
  {
   "cell_type": "markdown",
   "metadata": {},
   "source": [
    "<h3>Gradient Boosting Regression Trees</h3>"
   ]
  },
  {
   "cell_type": "code",
   "execution_count": null,
   "metadata": {},
   "outputs": [],
   "source": [
    "gbrt = GradientBoostingClassifier(\n",
    "    subsample=0.8, max_features=0.8, n_estimators=100, max_depth=4)\n",
    "\n",
    "cross_val_score(gbrt, X_train, y_train, cv=StratifiedKFold(n_splits=5), n_jobs=-1, scoring='f1').mean()"
   ]
  },
  {
   "cell_type": "code",
   "execution_count": 93,
   "metadata": {},
   "outputs": [
    {
     "data": {
      "text/plain": [
       "RandomizedSearchCV(cv=StratifiedKFold(n_splits=3, random_state=None, shuffle=False),\n",
       "                   error_score='raise-deprecating',\n",
       "                   estimator=GradientBoostingClassifier(criterion='friedman_mse',\n",
       "                                                        init=None,\n",
       "                                                        learning_rate=0.1,\n",
       "                                                        loss='deviance',\n",
       "                                                        max_depth=4,\n",
       "                                                        max_features=0.8,\n",
       "                                                        max_leaf_nodes=None,\n",
       "                                                        min_impurity_decrease=0.0,\n",
       "                                                        min_impurity_split=None,\n",
       "                                                        min_samples_leaf=1,\n",
       "                                                        min_samples_...\n",
       "                                                        n_iter_no_change=None,\n",
       "                                                        presort='auto',\n",
       "                                                        random_state=42,\n",
       "                                                        subsample=0.8,\n",
       "                                                        tol=0.0001,\n",
       "                                                        validation_fraction=0.1,\n",
       "                                                        verbose=0,\n",
       "                                                        warm_start=False),\n",
       "                   iid='warn', n_iter=10, n_jobs=-1,\n",
       "                   param_distributions={'max_depth': [4, 5, 6, 7],\n",
       "                                        'max_features': [0.7, 0.8, 0.9],\n",
       "                                        'subsample': [0.7, 0.8, 0.9]},\n",
       "                   pre_dispatch='2*n_jobs', random_state=None, refit=True,\n",
       "                   return_train_score=False, scoring='f1', verbose=0)"
      ]
     },
     "execution_count": 93,
     "metadata": {},
     "output_type": "execute_result"
    }
   ],
   "source": [
    "#params = {\n",
    "#    'max_depth' : [4, 5, 6, 7],\n",
    "#    'subsample' : [0.7, 0.8, 0.9], \n",
    "#    'max_features' : [0.7, 0.8, 0.9]\n",
    "      \n",
    "#}\n",
    "\n",
    "\n",
    "#gbrt = GradientBoostingClassifier(\n",
    "#    subsample=0.8, max_features=0.8, n_estimators=100, max_depth=4, random_state=42)\n",
    "\n",
    "\n",
    "#grid = RandomizedSearchCV(gbrt, params, scoring='f1', cv=StratifiedKFold(n_splits=3), n_jobs=-1)\n",
    "#grid.fit(X_train, y_train)"
   ]
  },
  {
   "cell_type": "code",
   "execution_count": 94,
   "metadata": {},
   "outputs": [
    {
     "data": {
      "text/plain": [
       "({'subsample': 0.9, 'max_features': 0.9, 'max_depth': 6}, 0.48699266570260186)"
      ]
     },
     "execution_count": 94,
     "metadata": {},
     "output_type": "execute_result"
    }
   ],
   "source": [
    "#grid.best_params_, grid.best_score_"
   ]
  },
  {
   "cell_type": "code",
   "execution_count": 95,
   "metadata": {},
   "outputs": [
    {
     "data": {
      "text/plain": [
       "RandomizedSearchCV(cv=StratifiedKFold(n_splits=3, random_state=None, shuffle=False),\n",
       "                   error_score='raise-deprecating',\n",
       "                   estimator=GradientBoostingClassifier(criterion='friedman_mse',\n",
       "                                                        init=None,\n",
       "                                                        learning_rate=0.1,\n",
       "                                                        loss='deviance',\n",
       "                                                        max_depth=6,\n",
       "                                                        max_features=0.8,\n",
       "                                                        max_leaf_nodes=None,\n",
       "                                                        min_impurity_decrease=0.0,\n",
       "                                                        min_impurity_split=None,\n",
       "                                                        min_samples_leaf=1,\n",
       "                                                        min_samples_...\n",
       "                                                        presort='auto',\n",
       "                                                        random_state=42,\n",
       "                                                        subsample=0.8,\n",
       "                                                        tol=0.0001,\n",
       "                                                        validation_fraction=0.1,\n",
       "                                                        verbose=0,\n",
       "                                                        warm_start=False),\n",
       "                   iid='warn', n_iter=10, n_jobs=-1,\n",
       "                   param_distributions={'max_features': [0.81, 0.84, 0.87, 0.9,\n",
       "                                                         0.92, 0.95, 1],\n",
       "                                        'subsample': [0.81, 0.84, 0.87, 0.9,\n",
       "                                                      0.92, 0.95, 1]},\n",
       "                   pre_dispatch='2*n_jobs', random_state=None, refit=True,\n",
       "                   return_train_score=False, scoring='f1', verbose=0)"
      ]
     },
     "execution_count": 95,
     "metadata": {},
     "output_type": "execute_result"
    }
   ],
   "source": [
    "#params = {\n",
    "#    #'max_depth' : [4, 5, 6, 7],\n",
    "#    'subsample' : [0.81, 0.84, 0.87, 0.9, 0.92, 0.95, 1], \n",
    "#    'max_features' : [0.81, 0.84, 0.87, 0.9, 0.92, 0.95, 1]\n",
    "      \n",
    "#}\n",
    "\n",
    "\n",
    "#gbrt = GradientBoostingClassifier(\n",
    "#    subsample=0.8, max_features=0.8, n_estimators=100, max_depth=6, random_state=42)\n",
    "\n",
    "\n",
    "#grid = RandomizedSearchCV(gbrt, params, scoring='f1', cv=StratifiedKFold(n_splits=3), n_jobs=-1)\n",
    "#grid.fit(X_train, y_train)"
   ]
  },
  {
   "cell_type": "code",
   "execution_count": 96,
   "metadata": {},
   "outputs": [
    {
     "data": {
      "text/plain": [
       "({'subsample': 0.92, 'max_features': 0.84}, 0.48732216833976655)"
      ]
     },
     "execution_count": 96,
     "metadata": {},
     "output_type": "execute_result"
    }
   ],
   "source": [
    "#grid.best_params_, grid.best_score_"
   ]
  },
  {
   "cell_type": "code",
   "execution_count": 97,
   "metadata": {},
   "outputs": [
    {
     "data": {
      "text/plain": [
       "0.48461166207173384"
      ]
     },
     "execution_count": 97,
     "metadata": {},
     "output_type": "execute_result"
    }
   ],
   "source": [
    "gbrt = GradientBoostingClassifier(\n",
    "    subsample=0.92, max_features=0.84, n_estimators=500, max_depth=6, learning_rate=0.07, \n",
    "    random_state=42)\n",
    "\n",
    "cross_val_score(gbrt, X_train, y_train, cv=StratifiedKFold(n_splits=5), scoring='f1', n_jobs=-1).mean()"
   ]
  },
  {
   "cell_type": "code",
   "execution_count": null,
   "metadata": {},
   "outputs": [],
   "source": []
  },
  {
   "cell_type": "code",
   "execution_count": null,
   "metadata": {},
   "outputs": [],
   "source": []
  },
  {
   "cell_type": "markdown",
   "metadata": {},
   "source": [
    "<h3>Bagging Classifier</h3>"
   ]
  },
  {
   "cell_type": "code",
   "execution_count": 98,
   "metadata": {},
   "outputs": [
    {
     "data": {
      "text/plain": [
       "RandomizedSearchCV(cv=StratifiedKFold(n_splits=3, random_state=None, shuffle=False),\n",
       "                   error_score='raise-deprecating',\n",
       "                   estimator=BaggingClassifier(base_estimator=None,\n",
       "                                               bootstrap=True,\n",
       "                                               bootstrap_features=False,\n",
       "                                               max_features=0.75,\n",
       "                                               max_samples=0.7, n_estimators=75,\n",
       "                                               n_jobs=-1, oob_score=False,\n",
       "                                               random_state=42, verbose=0,\n",
       "                                               warm_start=False),\n",
       "                   iid='warn', n_iter=10, n_jobs=-1,\n",
       "                   param_distributions={'max_features': [0.65, 0.7, 0.75, 0.8,\n",
       "                                                         0.85, 0.9],\n",
       "                                        'max_samples': [0.6, 0.65, 0.7, 0.75,\n",
       "                                                        0.8, 0.85]},\n",
       "                   pre_dispatch='2*n_jobs', random_state=None, refit=True,\n",
       "                   return_train_score=False, scoring='f1', verbose=0)"
      ]
     },
     "execution_count": 98,
     "metadata": {},
     "output_type": "execute_result"
    }
   ],
   "source": [
    "bclf = BaggingClassifier(\n",
    "    n_estimators=75, max_features=0.75, max_samples=0.7, n_jobs=-1, random_state=42\n",
    ")\n",
    "\n",
    "#params = {'max_features': [0.65, 0.7, 0.75, 0.8, 0.85, 0.9],\n",
    "#          'max_samples': [0.6, 0.65, 0.7, 0.75, 0.8, 0.85]\n",
    "#             }\n",
    "\n",
    "\n",
    "#grid = RandomizedSearchCV(bclf, params, scoring='f1', n_jobs=-1, cv=StratifiedKFold(n_splits=3))\n",
    "#grid.fit(X_train, y_train)"
   ]
  },
  {
   "cell_type": "code",
   "execution_count": 99,
   "metadata": {},
   "outputs": [
    {
     "data": {
      "text/plain": [
       "({'max_samples': 0.8, 'max_features': 0.75}, 0.47233974430426584)"
      ]
     },
     "execution_count": 99,
     "metadata": {},
     "output_type": "execute_result"
    }
   ],
   "source": [
    "#grid.best_params_, grid.best_score_"
   ]
  },
  {
   "cell_type": "code",
   "execution_count": 102,
   "metadata": {},
   "outputs": [
    {
     "data": {
      "text/plain": [
       "0.4712067100356216"
      ]
     },
     "execution_count": 102,
     "metadata": {},
     "output_type": "execute_result"
    }
   ],
   "source": [
    "bclf = BaggingClassifier(\n",
    "    n_estimators=500, max_features=0.75, max_samples=0.8, n_jobs=-1, random_state=42\n",
    ")\n",
    "\n",
    "cross_val_score(bclf, X_train, y_train, cv=StratifiedKFold(n_splits=5), scoring='f1', n_jobs=-1).mean()"
   ]
  },
  {
   "cell_type": "code",
   "execution_count": null,
   "metadata": {},
   "outputs": [],
   "source": []
  },
  {
   "cell_type": "code",
   "execution_count": null,
   "metadata": {},
   "outputs": [],
   "source": []
  },
  {
   "cell_type": "markdown",
   "metadata": {},
   "source": [
    "<h3>Random Forest</h3>"
   ]
  },
  {
   "cell_type": "code",
   "execution_count": 104,
   "metadata": {},
   "outputs": [
    {
     "data": {
      "text/plain": [
       "0.32157294231073763"
      ]
     },
     "execution_count": 104,
     "metadata": {},
     "output_type": "execute_result"
    }
   ],
   "source": [
    "\n",
    "pipe = Pipeline(\n",
    "    [\n",
    "        ('sampling', RandomOverSampler(random_state=42)),\n",
    "        ('rfc', RandomForestClassifier(n_estimators=100, max_depth=4, max_features=0.8, n_jobs=-1,\n",
    "                                       random_state=42\n",
    "    ))\n",
    "    ]\n",
    ")\n",
    "\n",
    "cross_val_score(pipe, X_train, y_train, cv=StratifiedKFold(n_splits=5), scoring='f1', n_jobs=-1).mean()"
   ]
  },
  {
   "cell_type": "code",
   "execution_count": 105,
   "metadata": {},
   "outputs": [
    {
     "data": {
      "text/plain": [
       "RandomizedSearchCV(cv=StratifiedKFold(n_splits=5, random_state=None, shuffle=False),\n",
       "                   error_score='raise-deprecating',\n",
       "                   estimator=Pipeline(memory=None,\n",
       "                                      steps=[('sampling',\n",
       "                                              RandomOverSampler(random_state=42,\n",
       "                                                                ratio=None,\n",
       "                                                                return_indices=False,\n",
       "                                                                sampling_strategy='auto')),\n",
       "                                             ('rfc',\n",
       "                                              RandomForestClassifier(bootstrap=True,\n",
       "                                                                     class_weight=None,\n",
       "                                                                     criterion='gini',\n",
       "                                                                     max_depth=4,\n",
       "                                                                     m...\n",
       "                                                                     warm_start=False))],\n",
       "                                      verbose=False),\n",
       "                   iid='warn', n_iter=10, n_jobs=-1,\n",
       "                   param_distributions={'rfc__max_depth': [4, 5, 6, 7, 8],\n",
       "                                        'rfc__max_features': [0.7, 0.75, 0.78,\n",
       "                                                              0.8, 0.82],\n",
       "                                        'rfc__min_samples_split': array([1.0e-05, 8.0e-05, 1.5e-04, 2.2e-04, 2.9e-04, 3.6e-04, 4.3e-04,\n",
       "       5.0e-04])},\n",
       "                   pre_dispatch='2*n_jobs', random_state=None, refit=True,\n",
       "                   return_train_score=False, scoring='f1', verbose=0)"
      ]
     },
     "execution_count": 105,
     "metadata": {},
     "output_type": "execute_result"
    }
   ],
   "source": [
    "#params = {\n",
    "#    'rfc__max_depth' : [4, 5, 6, 7, 8],\n",
    "#    'rfc__max_features' : [0.7, 0.75, 0.78, 0.8, 0.82],\n",
    "#    'rfc__min_samples_split' : np.linspace(0.00001, 0.0005, 8, endpoint=True)\n",
    "#}\n",
    "\n",
    "\n",
    "#pipe = Pipeline(\n",
    "#    [\n",
    "#        ('sampling', RandomOverSampler(random_state=42)),\n",
    "#        ('rfc', RandomForestClassifier(n_estimators=40, max_depth=4, max_features=0.8, n_jobs=-1,\n",
    "#                                       random_state=42\n",
    "#    ))\n",
    "#    ]\n",
    "#)\n",
    "\n",
    "#grid = RandomizedSearchCV(pipe, params, scoring='f1', cv=StratifiedKFold(n_splits=5), n_jobs=-1)\n",
    "#grid.fit(X_train, y_train)"
   ]
  },
  {
   "cell_type": "code",
   "execution_count": 106,
   "metadata": {},
   "outputs": [
    {
     "data": {
      "text/plain": [
       "({'rfc__min_samples_split': 0.00043,\n",
       "  'rfc__max_features': 0.7,\n",
       "  'rfc__max_depth': 8},\n",
       " 0.3601038570088278)"
      ]
     },
     "execution_count": 106,
     "metadata": {},
     "output_type": "execute_result"
    }
   ],
   "source": [
    "#grid.best_params_, grid.best_score_"
   ]
  },
  {
   "cell_type": "code",
   "execution_count": 107,
   "metadata": {},
   "outputs": [
    {
     "data": {
      "text/plain": [
       "RandomizedSearchCV(cv=StratifiedKFold(n_splits=5, random_state=None, shuffle=False),\n",
       "                   error_score='raise-deprecating',\n",
       "                   estimator=Pipeline(memory=None,\n",
       "                                      steps=[('sampling',\n",
       "                                              RandomOverSampler(random_state=42,\n",
       "                                                                ratio=None,\n",
       "                                                                return_indices=False,\n",
       "                                                                sampling_strategy='auto')),\n",
       "                                             ('rfc',\n",
       "                                              RandomForestClassifier(bootstrap=True,\n",
       "                                                                     class_weight=None,\n",
       "                                                                     criterion='gini',\n",
       "                                                                     max_depth=4,\n",
       "                                                                     m...\n",
       "                                                                     min_weight_fraction_leaf=0.0,\n",
       "                                                                     n_estimators=40,\n",
       "                                                                     n_jobs=-1,\n",
       "                                                                     oob_score=False,\n",
       "                                                                     random_state=42,\n",
       "                                                                     verbose=0,\n",
       "                                                                     warm_start=False))],\n",
       "                                      verbose=False),\n",
       "                   iid='warn', n_iter=10, n_jobs=-1,\n",
       "                   param_distributions={'rfc__max_depth': [7, 8, 9, 10],\n",
       "                                        'rfc__max_features': [0.6, 0.65, 0.67,\n",
       "                                                              0.7, 0.72,\n",
       "                                                              0.75]},\n",
       "                   pre_dispatch='2*n_jobs', random_state=None, refit=True,\n",
       "                   return_train_score=False, scoring='f1', verbose=0)"
      ]
     },
     "execution_count": 107,
     "metadata": {},
     "output_type": "execute_result"
    }
   ],
   "source": [
    "#params = {\n",
    "#    'rfc__max_depth' : [7, 8, 9, 10],\n",
    "#    'rfc__max_features' : [0.6, 0.65, 0.67, 0.7, 0.72, 0.75],\n",
    "#    #'rfc__min_samples_split' : np.linspace(0.00001, 0.0005, 8, endpoint=True)\n",
    "#}\n",
    "\n",
    "\n",
    "#pipe = Pipeline(\n",
    "#    [\n",
    "#        ('sampling', RandomOverSampler(random_state=42)),\n",
    "#        ('rfc', RandomForestClassifier(n_estimators=40, max_depth=4, max_features=0.8, n_jobs=-1,\n",
    "#                                       random_state=42, min_samples_split=0.00043\n",
    "#    ))\n",
    "#    ]\n",
    "#)\n",
    "\n",
    "#grid = RandomizedSearchCV(pipe, params, scoring='f1', cv=StratifiedKFold(n_splits=5), n_jobs=-1)\n",
    "#grid.fit(X_train, y_train)"
   ]
  },
  {
   "cell_type": "code",
   "execution_count": 108,
   "metadata": {},
   "outputs": [
    {
     "data": {
      "text/plain": [
       "({'rfc__max_features': 0.7, 'rfc__max_depth': 10}, 0.3748572209216416)"
      ]
     },
     "execution_count": 108,
     "metadata": {},
     "output_type": "execute_result"
    }
   ],
   "source": [
    "#grid.best_params_, grid.best_score_"
   ]
  },
  {
   "cell_type": "code",
   "execution_count": 109,
   "metadata": {},
   "outputs": [],
   "source": [
    "pipe = Pipeline(\n",
    "    [\n",
    "        ('sampling', RandomOverSampler(random_state=42)),\n",
    "        ('rfc', RandomForestClassifier(n_estimators=500, max_depth=7, max_features=0.7, n_jobs=-1,\n",
    "                                       random_state=42, min_samples_split=0.00043\n",
    "    ))\n",
    "    ]\n",
    ")"
   ]
  },
  {
   "cell_type": "code",
   "execution_count": 110,
   "metadata": {},
   "outputs": [
    {
     "data": {
      "text/plain": [
       "0.3519695569893816"
      ]
     },
     "execution_count": 110,
     "metadata": {},
     "output_type": "execute_result"
    }
   ],
   "source": [
    "cross_val_score(pipe, X_train, y_train, cv=StratifiedKFold(n_splits=5), scoring='f1', n_jobs=-1).mean()"
   ]
  },
  {
   "cell_type": "code",
   "execution_count": null,
   "metadata": {},
   "outputs": [],
   "source": []
  },
  {
   "cell_type": "code",
   "execution_count": null,
   "metadata": {},
   "outputs": [],
   "source": []
  },
  {
   "cell_type": "code",
   "execution_count": null,
   "metadata": {},
   "outputs": [],
   "source": []
  },
  {
   "cell_type": "markdown",
   "metadata": {},
   "source": [
    "<h3>Sorting each model out</h3>"
   ]
  },
  {
   "cell_type": "code",
   "execution_count": 111,
   "metadata": {},
   "outputs": [],
   "source": [
    "model = CatBoostClassifier(iterations=950, depth=6, learning_rate=0.052)\n",
    "\n",
    "xgbm = xgb.XGBClassifier(min_child_weight=2,\n",
    "    max_depth=7, colsample_bytree=0.8, subsample=0.9, n_jobs=-1, random_state=42, n_estimators=500,\n",
    "    learning_rate=0.07\n",
    ")\n",
    "\n",
    "lgbm = lgb.LGBMClassifier(min_child_weight=4,\n",
    "    max_depth=4, n_estimators=500, subsample=0.94, colsample_bytree=0.93, learning_rate=0.07,\n",
    "                                             random_state=42, n_jobs=-1\n",
    ")\n",
    "\n",
    "gbrt = GradientBoostingClassifier(\n",
    "    subsample=0.92, max_features=0.84, n_estimators=500, max_depth=6, learning_rate=0.07, \n",
    "    random_state=42)\n",
    "\n",
    "bclf = BaggingClassifier(\n",
    "    n_estimators=500, max_features=0.75, max_samples=0.8, n_jobs=-1, random_state=42\n",
    ")\n",
    "\n",
    "rfc = Pipeline(\n",
    "    [\n",
    "        ('sampling', RandomOverSampler(random_state=42)),\n",
    "        ('rfc', RandomForestClassifier(n_estimators=500, max_depth=7, max_features=0.7, n_jobs=-1,\n",
    "                                       random_state=42, min_samples_split=0.00043\n",
    "    ))\n",
    "    ]\n",
    ")"
   ]
  },
  {
   "cell_type": "code",
   "execution_count": null,
   "metadata": {},
   "outputs": [],
   "source": []
  },
  {
   "cell_type": "code",
   "execution_count": null,
   "metadata": {},
   "outputs": [],
   "source": []
  },
  {
   "cell_type": "markdown",
   "metadata": {},
   "source": [
    "<h3>Ensembling by Voting</h3>"
   ]
  },
  {
   "cell_type": "code",
   "execution_count": 88,
   "metadata": {},
   "outputs": [],
   "source": [
    "voting_classifier = VotingClassifier(estimators=[\n",
    "    ('xgbm', xgbm),\n",
    "    ('lgbm', lgbm),\n",
    "    ('cat', model),\n",
    "    ], voting='soft', weights=[2, 3, 5], n_jobs=-1)\n",
    "\n",
    "#voting_classifier.fit(X_train, y_train)"
   ]
  },
  {
   "cell_type": "code",
   "execution_count": 89,
   "metadata": {},
   "outputs": [
    {
     "data": {
      "text/plain": [
       "VotingClassifier(estimators=[('xgbm',\n",
       "                              XGBClassifier(base_score=0.5, booster='gbtree',\n",
       "                                            colsample_bylevel=1,\n",
       "                                            colsample_bynode=1,\n",
       "                                            colsample_bytree=0.8, gamma=0,\n",
       "                                            learning_rate=0.07,\n",
       "                                            max_delta_step=0, max_depth=7,\n",
       "                                            min_child_weight=2, missing=None,\n",
       "                                            n_estimators=500, n_jobs=-1,\n",
       "                                            nthread=None,\n",
       "                                            objective='binary:logistic',\n",
       "                                            random_state=42, reg_alpha=0,\n",
       "                                            reg_lambda=1, scale_pos_...\n",
       "                                             min_child_samples=20,\n",
       "                                             min_child_weight=4,\n",
       "                                             min_split_gain=0.0,\n",
       "                                             n_estimators=500, n_jobs=-1,\n",
       "                                             num_leaves=31, objective=None,\n",
       "                                             random_state=42, reg_alpha=0.0,\n",
       "                                             reg_lambda=0.0, silent=True,\n",
       "                                             subsample=0.94,\n",
       "                                             subsample_for_bin=200000,\n",
       "                                             subsample_freq=0)),\n",
       "                             ('cat',\n",
       "                              <catboost.core.CatBoostClassifier object at 0x000002820300BEF0>)],\n",
       "                 flatten_transform=True, n_jobs=-1, voting='soft',\n",
       "                 weights=[2, 3, 5])"
      ]
     },
     "execution_count": 89,
     "metadata": {},
     "output_type": "execute_result"
    }
   ],
   "source": [
    "voting_classifier.fit(X, y)"
   ]
  },
  {
   "cell_type": "code",
   "execution_count": 90,
   "metadata": {},
   "outputs": [],
   "source": [
    "test_data_predictions = voting_classifier.predict(test_data)\n",
    "\n",
    "submission = pd.DataFrame({'EmployeeNo' : testId, 'Promoted_or_Not' : test_data_predictions})\n",
    "submission.to_csv('voting.csv', index=False)"
   ]
  },
  {
   "cell_type": "code",
   "execution_count": null,
   "metadata": {},
   "outputs": [],
   "source": []
  }
 ],
 "metadata": {
  "kernelspec": {
   "display_name": "Python 3",
   "language": "python",
   "name": "python3"
  },
  "language_info": {
   "codemirror_mode": {
    "name": "ipython",
    "version": 3
   },
   "file_extension": ".py",
   "mimetype": "text/x-python",
   "name": "python",
   "nbconvert_exporter": "python",
   "pygments_lexer": "ipython3",
   "version": "3.7.3"
  }
 },
 "nbformat": 4,
 "nbformat_minor": 2
}
